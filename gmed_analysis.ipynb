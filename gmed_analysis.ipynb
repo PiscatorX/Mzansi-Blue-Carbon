{
 "cells": [
  {
   "cell_type": "code",
   "execution_count": 1,
   "id": "d51e64ab",
   "metadata": {},
   "outputs": [
    {
     "name": "stderr",
     "output_type": "stream",
     "text": [
      "\n",
      "Attaching package: 'tidyterra'\n",
      "\n",
      "\n",
      "The following objects are masked from 'package:plyr':\n",
      "\n",
      "    arrange, count, mutate, rename, summarise, summarize\n",
      "\n",
      "\n",
      "The following object is masked from 'package:stats':\n",
      "\n",
      "    filter\n",
      "\n",
      "\n",
      "-- \u001b[1mAttaching packages\u001b[22m -------------------------------------------------------------------------------------------------------------------------------------------------------------------------- tidyverse 1.3.2 --\n",
      "\u001b[32mv\u001b[39m \u001b[34mggplot2\u001b[39m 3.4.0      \u001b[32mv\u001b[39m \u001b[34mpurrr  \u001b[39m 0.3.5 \n",
      "\u001b[32mv\u001b[39m \u001b[34mtibble \u001b[39m 3.1.8      \u001b[32mv\u001b[39m \u001b[34mdplyr  \u001b[39m 1.0.10\n",
      "\u001b[32mv\u001b[39m \u001b[34mtidyr  \u001b[39m 1.2.1      \u001b[32mv\u001b[39m \u001b[34mstringr\u001b[39m 1.5.0 \n",
      "\u001b[32mv\u001b[39m \u001b[34mreadr  \u001b[39m 2.1.3      \u001b[32mv\u001b[39m \u001b[34mforcats\u001b[39m 0.5.2 \n",
      "-- \u001b[1mConflicts\u001b[22m ----------------------------------------------------------------------------------------------------------------------------------------------------------------------------- tidyverse_conflicts() --\n",
      "\u001b[31mx\u001b[39m \u001b[34mdplyr\u001b[39m::\u001b[32marrange()\u001b[39m   masks \u001b[34mtidyterra\u001b[39m::arrange(), \u001b[34mplyr\u001b[39m::arrange()\n",
      "\u001b[31mx\u001b[39m \u001b[34mpurrr\u001b[39m::\u001b[32mcompact()\u001b[39m   masks \u001b[34mplyr\u001b[39m::compact()\n",
      "\u001b[31mx\u001b[39m \u001b[34mdplyr\u001b[39m::\u001b[32mcount()\u001b[39m     masks \u001b[34mtidyterra\u001b[39m::count(), \u001b[34mplyr\u001b[39m::count()\n",
      "\u001b[31mx\u001b[39m \u001b[34mdplyr\u001b[39m::\u001b[32mfailwith()\u001b[39m  masks \u001b[34mplyr\u001b[39m::failwith()\n",
      "\u001b[31mx\u001b[39m \u001b[34mdplyr\u001b[39m::\u001b[32mfilter()\u001b[39m    masks \u001b[34mtidyterra\u001b[39m::filter(), \u001b[34mstats\u001b[39m::filter()\n",
      "\u001b[31mx\u001b[39m \u001b[34mdplyr\u001b[39m::\u001b[32mid()\u001b[39m        masks \u001b[34mplyr\u001b[39m::id()\n",
      "\u001b[31mx\u001b[39m \u001b[34mdplyr\u001b[39m::\u001b[32mlag()\u001b[39m       masks \u001b[34mstats\u001b[39m::lag()\n",
      "\u001b[31mx\u001b[39m \u001b[34mdplyr\u001b[39m::\u001b[32mmutate()\u001b[39m    masks \u001b[34mtidyterra\u001b[39m::mutate(), \u001b[34mplyr\u001b[39m::mutate()\n",
      "\u001b[31mx\u001b[39m \u001b[34mdplyr\u001b[39m::\u001b[32mrename()\u001b[39m    masks \u001b[34mtidyterra\u001b[39m::rename(), \u001b[34mplyr\u001b[39m::rename()\n",
      "\u001b[31mx\u001b[39m \u001b[34mdplyr\u001b[39m::\u001b[32msummarise()\u001b[39m masks \u001b[34mtidyterra\u001b[39m::summarise(), \u001b[34mplyr\u001b[39m::summarise()\n",
      "\u001b[31mx\u001b[39m \u001b[34mdplyr\u001b[39m::\u001b[32msummarize()\u001b[39m masks \u001b[34mtidyterra\u001b[39m::summarize(), \u001b[34mplyr\u001b[39m::summarize()\n",
      "Loading required package: sp\n",
      "\n",
      "\n",
      "Attaching package: 'raster'\n",
      "\n",
      "\n",
      "The following object is masked from 'package:dplyr':\n",
      "\n",
      "    select\n",
      "\n",
      "\n",
      "The following object is masked from 'package:tidyterra':\n",
      "\n",
      "    select\n",
      "\n",
      "\n",
      "terra 1.6.47\n",
      "\n",
      "\n",
      "Attaching package: 'terra'\n",
      "\n",
      "\n",
      "The following object is masked from 'package:tidyr':\n",
      "\n",
      "    extract\n",
      "\n",
      "\n"
     ]
    }
   ],
   "source": [
    "library(plyr)\n",
    "library(sdmpredictors)\n",
    "library(tidyterra)\n",
    "library(tidyverse)\n",
    "library(ggplot2)\n",
    "library(raster)\n",
    "library(terra)\n",
    "\n",
    "\n",
    "#https://www.ecologi.st/spatial-r/raster-gis-operations-in-r-with-terra.html"
   ]
  },
  {
   "cell_type": "code",
   "execution_count": 2,
   "id": "84fc0c9b",
   "metadata": {
    "scrolled": false
   },
   "outputs": [
    {
     "data": {
      "text/html": [
       "<table class=\"dataframe\">\n",
       "<caption>A data.frame: 12 × 6</caption>\n",
       "<thead>\n",
       "\t<tr><th scope=col>estuary</th><th scope=col>Site</th><th scope=col>x</th><th scope=col>y</th><th scope=col>date</th><th scope=col>Biogeographical_region</th></tr>\n",
       "\t<tr><th scope=col>&lt;chr&gt;</th><th scope=col>&lt;chr&gt;</th><th scope=col>&lt;dbl&gt;</th><th scope=col>&lt;dbl&gt;</th><th scope=col>&lt;chr&gt;</th><th scope=col>&lt;chr&gt;</th></tr>\n",
       "</thead>\n",
       "<tbody>\n",
       "\t<tr><td>Berg     </td><td>Upper</td><td>18.19648</td><td>-32.81314</td><td>18 06 2021</td><td>Cool Temperate</td></tr>\n",
       "\t<tr><td>Berg     </td><td>Lower</td><td>18.14189</td><td>-32.77216</td><td>18 06 2021</td><td>Cool Temperate</td></tr>\n",
       "\t<tr><td>Breede   </td><td>Lower</td><td>20.84452</td><td>-34.39693</td><td>25 06 2021</td><td>Warm temperate</td></tr>\n",
       "\t<tr><td>Breede   </td><td>Upper</td><td>20.80405</td><td>-34.40552</td><td>25 06 2021</td><td>Warm temperate</td></tr>\n",
       "\t<tr><td>Knysna   </td><td>Upper</td><td>23.05105</td><td>-34.06119</td><td>30 05 2021</td><td>Warm temperate</td></tr>\n",
       "\t<tr><td>Knysna   </td><td>Lower</td><td>22.99216</td><td>-34.03369</td><td>30 05 2021</td><td>Warm temperate</td></tr>\n",
       "\t<tr><td>Olifants </td><td>Lower</td><td>18.18882</td><td>-31.69302</td><td>05 07 2021</td><td>Cool Temperate</td></tr>\n",
       "\t<tr><td>Olifants </td><td>Upper</td><td>18.19545</td><td>-31.66071</td><td>05 07 2021</td><td>Cool Temperate</td></tr>\n",
       "\t<tr><td>Swartkops</td><td>Lower</td><td>25.59069</td><td>-33.83784</td><td>25 05 2021</td><td>Warm temperate</td></tr>\n",
       "\t<tr><td>Swartkops</td><td>Upper</td><td>25.62139</td><td>-33.86114</td><td>25 05 2021</td><td>Warm temperate</td></tr>\n",
       "\t<tr><td>Mngazana </td><td>Upper</td><td>29.42223</td><td>-31.69004</td><td>11 10 2021</td><td>Subtropical   </td></tr>\n",
       "\t<tr><td>Mngazana </td><td>Lower</td><td>29.41853</td><td>-31.68501</td><td>11 10 2021</td><td>Subtropical   </td></tr>\n",
       "</tbody>\n",
       "</table>\n"
      ],
      "text/latex": [
       "A data.frame: 12 × 6\n",
       "\\begin{tabular}{llllll}\n",
       " estuary & Site & x & y & date & Biogeographical\\_region\\\\\n",
       " <chr> & <chr> & <dbl> & <dbl> & <chr> & <chr>\\\\\n",
       "\\hline\n",
       "\t Berg      & Upper & 18.19648 & -32.81314 & 18 06 2021 & Cool Temperate\\\\\n",
       "\t Berg      & Lower & 18.14189 & -32.77216 & 18 06 2021 & Cool Temperate\\\\\n",
       "\t Breede    & Lower & 20.84452 & -34.39693 & 25 06 2021 & Warm temperate\\\\\n",
       "\t Breede    & Upper & 20.80405 & -34.40552 & 25 06 2021 & Warm temperate\\\\\n",
       "\t Knysna    & Upper & 23.05105 & -34.06119 & 30 05 2021 & Warm temperate\\\\\n",
       "\t Knysna    & Lower & 22.99216 & -34.03369 & 30 05 2021 & Warm temperate\\\\\n",
       "\t Olifants  & Lower & 18.18882 & -31.69302 & 05 07 2021 & Cool Temperate\\\\\n",
       "\t Olifants  & Upper & 18.19545 & -31.66071 & 05 07 2021 & Cool Temperate\\\\\n",
       "\t Swartkops & Lower & 25.59069 & -33.83784 & 25 05 2021 & Warm temperate\\\\\n",
       "\t Swartkops & Upper & 25.62139 & -33.86114 & 25 05 2021 & Warm temperate\\\\\n",
       "\t Mngazana  & Upper & 29.42223 & -31.69004 & 11 10 2021 & Subtropical   \\\\\n",
       "\t Mngazana  & Lower & 29.41853 & -31.68501 & 11 10 2021 & Subtropical   \\\\\n",
       "\\end{tabular}\n"
      ],
      "text/markdown": [
       "\n",
       "A data.frame: 12 × 6\n",
       "\n",
       "| estuary &lt;chr&gt; | Site &lt;chr&gt; | x &lt;dbl&gt; | y &lt;dbl&gt; | date &lt;chr&gt; | Biogeographical_region &lt;chr&gt; |\n",
       "|---|---|---|---|---|---|\n",
       "| Berg      | Upper | 18.19648 | -32.81314 | 18 06 2021 | Cool Temperate |\n",
       "| Berg      | Lower | 18.14189 | -32.77216 | 18 06 2021 | Cool Temperate |\n",
       "| Breede    | Lower | 20.84452 | -34.39693 | 25 06 2021 | Warm temperate |\n",
       "| Breede    | Upper | 20.80405 | -34.40552 | 25 06 2021 | Warm temperate |\n",
       "| Knysna    | Upper | 23.05105 | -34.06119 | 30 05 2021 | Warm temperate |\n",
       "| Knysna    | Lower | 22.99216 | -34.03369 | 30 05 2021 | Warm temperate |\n",
       "| Olifants  | Lower | 18.18882 | -31.69302 | 05 07 2021 | Cool Temperate |\n",
       "| Olifants  | Upper | 18.19545 | -31.66071 | 05 07 2021 | Cool Temperate |\n",
       "| Swartkops | Lower | 25.59069 | -33.83784 | 25 05 2021 | Warm temperate |\n",
       "| Swartkops | Upper | 25.62139 | -33.86114 | 25 05 2021 | Warm temperate |\n",
       "| Mngazana  | Upper | 29.42223 | -31.69004 | 11 10 2021 | Subtropical    |\n",
       "| Mngazana  | Lower | 29.41853 | -31.68501 | 11 10 2021 | Subtropical    |\n",
       "\n"
      ],
      "text/plain": [
       "   estuary   Site  x        y         date       Biogeographical_region\n",
       "1  Berg      Upper 18.19648 -32.81314 18 06 2021 Cool Temperate        \n",
       "2  Berg      Lower 18.14189 -32.77216 18 06 2021 Cool Temperate        \n",
       "3  Breede    Lower 20.84452 -34.39693 25 06 2021 Warm temperate        \n",
       "4  Breede    Upper 20.80405 -34.40552 25 06 2021 Warm temperate        \n",
       "5  Knysna    Upper 23.05105 -34.06119 30 05 2021 Warm temperate        \n",
       "6  Knysna    Lower 22.99216 -34.03369 30 05 2021 Warm temperate        \n",
       "7  Olifants  Lower 18.18882 -31.69302 05 07 2021 Cool Temperate        \n",
       "8  Olifants  Upper 18.19545 -31.66071 05 07 2021 Cool Temperate        \n",
       "9  Swartkops Lower 25.59069 -33.83784 25 05 2021 Warm temperate        \n",
       "10 Swartkops Upper 25.62139 -33.86114 25 05 2021 Warm temperate        \n",
       "11 Mngazana  Upper 29.42223 -31.69004 11 10 2021 Subtropical           \n",
       "12 Mngazana  Lower 29.41853 -31.68501 11 10 2021 Subtropical           "
      ]
     },
     "metadata": {},
     "output_type": "display_data"
    }
   ],
   "source": [
    "(Bluecarbon_sites <- read.csv(\"data//BC/BCsampling_sites.tsv\", sep =\"\\t\", header=T) %>% \n",
    "                     dplyr::mutate(Site = ifelse(Site ==\"Site1\", \"Upper\", \"Lower\")) %>%\n",
    "                     dplyr::rename(estuary = Estuary) %>%\n",
    "                     dplyr::rename(Biogeographical_region = Biogeographical.region))"
   ]
  },
  {
   "cell_type": "code",
   "execution_count": 3,
   "id": "56464dd3",
   "metadata": {},
   "outputs": [],
   "source": [
    "ZA_admin_st <- geodata::gadm(\"ZA\", path = \"data/sdm/\")\n",
    "ZA_admin_sf = sf::st_as_sf(ZA_admin_st)\n",
    "ZA_extent <- raster::extent(10, 40, -37, -22)"
   ]
  },
  {
   "cell_type": "code",
   "execution_count": 4,
   "id": "89462832",
   "metadata": {},
   "outputs": [],
   "source": [
    "get_raster <- function(path, pattern){\n",
    "\n",
    "    file_ls <- Sys.glob(file.path(path , pattern))\n",
    "    raster <- raster::stack(file_ls)\n",
    "    \n",
    "    return(raster)\n",
    "} "
   ]
  },
  {
   "cell_type": "code",
   "execution_count": 5,
   "id": "654391a4",
   "metadata": {},
   "outputs": [
    {
     "data": {
      "text/html": [
       "<style>\n",
       ".list-inline {list-style: none; margin:0; padding: 0}\n",
       ".list-inline>li {display: inline-block}\n",
       ".list-inline>li:not(:last-child)::after {content: \"\\00b7\"; padding: 0 .5ex}\n",
       "</style>\n",
       "<ol class=list-inline><li>1784</li><li>4337</li><li>54</li></ol>\n"
      ],
      "text/latex": [
       "\\begin{enumerate*}\n",
       "\\item 1784\n",
       "\\item 4337\n",
       "\\item 54\n",
       "\\end{enumerate*}\n"
      ],
      "text/markdown": [
       "1. 1784\n",
       "2. 4337\n",
       "3. 54\n",
       "\n",
       "\n"
      ],
      "text/plain": [
       "[1] 1784 4337   54"
      ]
     },
     "metadata": {},
     "output_type": "display_data"
    }
   ],
   "source": [
    "gmed_raster <- get_raster(\"GMED/*/\", \"*.asc\")\n",
    "dim(gmed_raster)"
   ]
  },
  {
   "cell_type": "code",
   "execution_count": 6,
   "id": "df9a1ca2",
   "metadata": {},
   "outputs": [
    {
     "data": {
      "text/html": [
       "<style>\n",
       ".list-inline {list-style: none; margin:0; padding: 0}\n",
       ".list-inline>li {display: inline-block}\n",
       ".list-inline>li:not(:last-child)::after {content: \"\\00b7\"; padding: 0 .5ex}\n",
       "</style>\n",
       "<ol class=list-inline><li>181</li><li>362</li><li>54</li></ol>\n"
      ],
      "text/latex": [
       "\\begin{enumerate*}\n",
       "\\item 181\n",
       "\\item 362\n",
       "\\item 54\n",
       "\\end{enumerate*}\n"
      ],
      "text/markdown": [
       "1. 181\n",
       "2. 362\n",
       "3. 54\n",
       "\n",
       "\n"
      ],
      "text/plain": [
       "[1] 181 362  54"
      ]
     },
     "metadata": {},
     "output_type": "display_data"
    }
   ],
   "source": [
    "gmed_cropped <- raster::crop(gmed_raster, ZA_extent) \n",
    "dim(gmed_cropped)"
   ]
  },
  {
   "cell_type": "code",
   "execution_count": 7,
   "id": "429bc9b7",
   "metadata": {},
   "outputs": [
    {
     "data": {
      "text/html": [
       "<table class=\"dataframe\">\n",
       "<caption>A data.frame: 12 × 54</caption>\n",
       "<thead>\n",
       "\t<tr><th scope=col>bedtemp</th><th scope=col>bnitrate</th><th scope=col>bo2dissolve</th><th scope=col>bo2utilized</th><th scope=col>bphosphate</th><th scope=col>bsalin</th><th scope=col>bsalin21k</th><th scope=col>bsilicate</th><th scope=col>btemp</th><th scope=col>btemp21k</th><th scope=col>...</th><th scope=col>sst_mayoct</th><th scope=col>sst_novapr</th><th scope=col>sstmax</th><th scope=col>sstmean</th><th scope=col>sstmin</th><th scope=col>sstrange</th><th scope=col>surcurrent</th><th scope=col>tideaverage</th><th scope=col>waveheight</th><th scope=col>windspeed</th></tr>\n",
       "\t<tr><th scope=col>&lt;dbl&gt;</th><th scope=col>&lt;dbl&gt;</th><th scope=col>&lt;dbl&gt;</th><th scope=col>&lt;dbl&gt;</th><th scope=col>&lt;dbl&gt;</th><th scope=col>&lt;dbl&gt;</th><th scope=col>&lt;dbl&gt;</th><th scope=col>&lt;dbl&gt;</th><th scope=col>&lt;dbl&gt;</th><th scope=col>&lt;dbl&gt;</th><th scope=col>...</th><th scope=col>&lt;dbl&gt;</th><th scope=col>&lt;dbl&gt;</th><th scope=col>&lt;dbl&gt;</th><th scope=col>&lt;dbl&gt;</th><th scope=col>&lt;dbl&gt;</th><th scope=col>&lt;dbl&gt;</th><th scope=col>&lt;dbl&gt;</th><th scope=col>&lt;dbl&gt;</th><th scope=col>&lt;dbl&gt;</th><th scope=col>&lt;dbl&gt;</th></tr>\n",
       "</thead>\n",
       "<tbody>\n",
       "\t<tr><td>14.97160</td><td> 6.56227</td><td>5.401511</td><td>0.369455</td><td>0.8635866</td><td>       NA</td><td>      NA</td><td> 7.599373</td><td>NA</td><td>11.74407</td><td>...</td><td>      NA</td><td>     NA</td><td>16.98092</td><td>15.00000</td><td>13.69698</td><td>3.000000</td><td> 0.009436653</td><td>       NA</td><td>4.207474</td><td>0.7635055</td></tr>\n",
       "\t<tr><td>14.97160</td><td> 6.56227</td><td>5.401511</td><td>0.369455</td><td>0.8635866</td><td>       NA</td><td>34.95545</td><td> 7.599373</td><td>NA</td><td>11.74407</td><td>...</td><td>16.04738</td><td>     NA</td><td>16.98092</td><td>15.00000</td><td>13.69698</td><td>3.000000</td><td> 0.009436653</td><td>0.1848701</td><td>4.207474</td><td>0.7635055</td></tr>\n",
       "\t<tr><td>      NA</td><td>      NA</td><td>      NA</td><td>      NA</td><td>       NA</td><td>       NA</td><td>35.49804</td><td>       NA</td><td>NA</td><td>18.02030</td><td>...</td><td>18.80169</td><td>     NA</td><td>      NA</td><td>      NA</td><td>      NA</td><td>      NA</td><td>          NA</td><td>       NA</td><td>      NA</td><td>       NA</td></tr>\n",
       "\t<tr><td>      NA</td><td>      NA</td><td>      NA</td><td>      NA</td><td>       NA</td><td>       NA</td><td>35.49804</td><td>       NA</td><td>NA</td><td>18.02030</td><td>...</td><td>18.80169</td><td>     NA</td><td>      NA</td><td>      NA</td><td>      NA</td><td>      NA</td><td>          NA</td><td>       NA</td><td>      NA</td><td>       NA</td></tr>\n",
       "\t<tr><td>15.56181</td><td>15.27581</td><td>4.562259</td><td>1.181571</td><td>0.8103373</td><td>       NA</td><td>35.31949</td><td>10.791760</td><td>NA</td><td>16.51494</td><td>...</td><td>19.94017</td><td>19.9271</td><td>21.67366</td><td>18.67366</td><td>16.00000</td><td>4.923164</td><td>-0.011619920</td><td>0.8444477</td><td>7.000000</td><td>7.9088192</td></tr>\n",
       "\t<tr><td>      NA</td><td>      NA</td><td>      NA</td><td>      NA</td><td>       NA</td><td>       NA</td><td>      NA</td><td>       NA</td><td>NA</td><td>      NA</td><td>...</td><td>      NA</td><td>     NA</td><td>      NA</td><td>      NA</td><td>      NA</td><td>      NA</td><td>          NA</td><td>       NA</td><td>      NA</td><td>       NA</td></tr>\n",
       "\t<tr><td>11.28881</td><td>16.46212</td><td>4.113858</td><td>2.060184</td><td>1.4847380</td><td> 7.473438</td><td>34.93443</td><td>14.820160</td><td>NA</td><td>11.56553</td><td>...</td><td>15.49737</td><td>     NA</td><td>17.00000</td><td>15.00000</td><td>13.00000</td><td>3.650872</td><td> 0.001738676</td><td>0.2083865</td><td>4.000000</td><td>0.7066119</td></tr>\n",
       "\t<tr><td>11.28881</td><td>16.46212</td><td>4.113858</td><td>2.060184</td><td>1.4847380</td><td> 7.473438</td><td>34.93443</td><td>14.820160</td><td>NA</td><td>11.56553</td><td>...</td><td>15.49737</td><td>     NA</td><td>17.00000</td><td>15.00000</td><td>13.00000</td><td>3.650872</td><td> 0.001738676</td><td>0.2083865</td><td>4.000000</td><td>0.7066119</td></tr>\n",
       "\t<tr><td>      NA</td><td>      NA</td><td>      NA</td><td>      NA</td><td>       NA</td><td>       NA</td><td>      NA</td><td>       NA</td><td>NA</td><td>      NA</td><td>...</td><td>      NA</td><td>     NA</td><td>      NA</td><td>      NA</td><td>      NA</td><td>      NA</td><td>          NA</td><td>       NA</td><td>      NA</td><td>       NA</td></tr>\n",
       "\t<tr><td>      NA</td><td>      NA</td><td>      NA</td><td>      NA</td><td>       NA</td><td>       NA</td><td>      NA</td><td>       NA</td><td>NA</td><td>      NA</td><td>...</td><td>      NA</td><td>     NA</td><td>      NA</td><td>      NA</td><td>      NA</td><td>      NA</td><td>          NA</td><td>       NA</td><td>      NA</td><td>       NA</td></tr>\n",
       "\t<tr><td>13.55985</td><td>10.43052</td><td>4.327785</td><td>1.524787</td><td>0.8544305</td><td>12.477980</td><td>      NA</td><td>20.630430</td><td>NA</td><td>      NA</td><td>...</td><td>      NA</td><td>     NA</td><td>24.34826</td><td>22.11611</td><td>20.10154</td><td>4.000000</td><td>-0.101078197</td><td>0.7961749</td><td>4.000000</td><td>0.0000000</td></tr>\n",
       "\t<tr><td>13.55985</td><td>10.43052</td><td>4.327785</td><td>1.524787</td><td>0.8544305</td><td>12.477980</td><td>      NA</td><td>20.630430</td><td>NA</td><td>      NA</td><td>...</td><td>      NA</td><td>     NA</td><td>24.34826</td><td>22.11611</td><td>20.10154</td><td>4.000000</td><td>-0.101078197</td><td>0.7961749</td><td>4.000000</td><td>0.0000000</td></tr>\n",
       "</tbody>\n",
       "</table>\n"
      ],
      "text/latex": [
       "A data.frame: 12 × 54\n",
       "\\begin{tabular}{lllllllllllllllllllll}\n",
       " bedtemp & bnitrate & bo2dissolve & bo2utilized & bphosphate & bsalin & bsalin21k & bsilicate & btemp & btemp21k & ... & sst\\_mayoct & sst\\_novapr & sstmax & sstmean & sstmin & sstrange & surcurrent & tideaverage & waveheight & windspeed\\\\\n",
       " <dbl> & <dbl> & <dbl> & <dbl> & <dbl> & <dbl> & <dbl> & <dbl> & <dbl> & <dbl> & ... & <dbl> & <dbl> & <dbl> & <dbl> & <dbl> & <dbl> & <dbl> & <dbl> & <dbl> & <dbl>\\\\\n",
       "\\hline\n",
       "\t 14.97160 &  6.56227 & 5.401511 & 0.369455 & 0.8635866 &        NA &       NA &  7.599373 & NA & 11.74407 & ... &       NA &      NA & 16.98092 & 15.00000 & 13.69698 & 3.000000 &  0.009436653 &        NA & 4.207474 & 0.7635055\\\\\n",
       "\t 14.97160 &  6.56227 & 5.401511 & 0.369455 & 0.8635866 &        NA & 34.95545 &  7.599373 & NA & 11.74407 & ... & 16.04738 &      NA & 16.98092 & 15.00000 & 13.69698 & 3.000000 &  0.009436653 & 0.1848701 & 4.207474 & 0.7635055\\\\\n",
       "\t       NA &       NA &       NA &       NA &        NA &        NA & 35.49804 &        NA & NA & 18.02030 & ... & 18.80169 &      NA &       NA &       NA &       NA &       NA &           NA &        NA &       NA &        NA\\\\\n",
       "\t       NA &       NA &       NA &       NA &        NA &        NA & 35.49804 &        NA & NA & 18.02030 & ... & 18.80169 &      NA &       NA &       NA &       NA &       NA &           NA &        NA &       NA &        NA\\\\\n",
       "\t 15.56181 & 15.27581 & 4.562259 & 1.181571 & 0.8103373 &        NA & 35.31949 & 10.791760 & NA & 16.51494 & ... & 19.94017 & 19.9271 & 21.67366 & 18.67366 & 16.00000 & 4.923164 & -0.011619920 & 0.8444477 & 7.000000 & 7.9088192\\\\\n",
       "\t       NA &       NA &       NA &       NA &        NA &        NA &       NA &        NA & NA &       NA & ... &       NA &      NA &       NA &       NA &       NA &       NA &           NA &        NA &       NA &        NA\\\\\n",
       "\t 11.28881 & 16.46212 & 4.113858 & 2.060184 & 1.4847380 &  7.473438 & 34.93443 & 14.820160 & NA & 11.56553 & ... & 15.49737 &      NA & 17.00000 & 15.00000 & 13.00000 & 3.650872 &  0.001738676 & 0.2083865 & 4.000000 & 0.7066119\\\\\n",
       "\t 11.28881 & 16.46212 & 4.113858 & 2.060184 & 1.4847380 &  7.473438 & 34.93443 & 14.820160 & NA & 11.56553 & ... & 15.49737 &      NA & 17.00000 & 15.00000 & 13.00000 & 3.650872 &  0.001738676 & 0.2083865 & 4.000000 & 0.7066119\\\\\n",
       "\t       NA &       NA &       NA &       NA &        NA &        NA &       NA &        NA & NA &       NA & ... &       NA &      NA &       NA &       NA &       NA &       NA &           NA &        NA &       NA &        NA\\\\\n",
       "\t       NA &       NA &       NA &       NA &        NA &        NA &       NA &        NA & NA &       NA & ... &       NA &      NA &       NA &       NA &       NA &       NA &           NA &        NA &       NA &        NA\\\\\n",
       "\t 13.55985 & 10.43052 & 4.327785 & 1.524787 & 0.8544305 & 12.477980 &       NA & 20.630430 & NA &       NA & ... &       NA &      NA & 24.34826 & 22.11611 & 20.10154 & 4.000000 & -0.101078197 & 0.7961749 & 4.000000 & 0.0000000\\\\\n",
       "\t 13.55985 & 10.43052 & 4.327785 & 1.524787 & 0.8544305 & 12.477980 &       NA & 20.630430 & NA &       NA & ... &       NA &      NA & 24.34826 & 22.11611 & 20.10154 & 4.000000 & -0.101078197 & 0.7961749 & 4.000000 & 0.0000000\\\\\n",
       "\\end{tabular}\n"
      ],
      "text/markdown": [
       "\n",
       "A data.frame: 12 × 54\n",
       "\n",
       "| bedtemp &lt;dbl&gt; | bnitrate &lt;dbl&gt; | bo2dissolve &lt;dbl&gt; | bo2utilized &lt;dbl&gt; | bphosphate &lt;dbl&gt; | bsalin &lt;dbl&gt; | bsalin21k &lt;dbl&gt; | bsilicate &lt;dbl&gt; | btemp &lt;dbl&gt; | btemp21k &lt;dbl&gt; | ... ... | sst_mayoct &lt;dbl&gt; | sst_novapr &lt;dbl&gt; | sstmax &lt;dbl&gt; | sstmean &lt;dbl&gt; | sstmin &lt;dbl&gt; | sstrange &lt;dbl&gt; | surcurrent &lt;dbl&gt; | tideaverage &lt;dbl&gt; | waveheight &lt;dbl&gt; | windspeed &lt;dbl&gt; |\n",
       "|---|---|---|---|---|---|---|---|---|---|---|---|---|---|---|---|---|---|---|---|---|\n",
       "| 14.97160 |  6.56227 | 5.401511 | 0.369455 | 0.8635866 |        NA |       NA |  7.599373 | NA | 11.74407 | ... |       NA |      NA | 16.98092 | 15.00000 | 13.69698 | 3.000000 |  0.009436653 |        NA | 4.207474 | 0.7635055 |\n",
       "| 14.97160 |  6.56227 | 5.401511 | 0.369455 | 0.8635866 |        NA | 34.95545 |  7.599373 | NA | 11.74407 | ... | 16.04738 |      NA | 16.98092 | 15.00000 | 13.69698 | 3.000000 |  0.009436653 | 0.1848701 | 4.207474 | 0.7635055 |\n",
       "|       NA |       NA |       NA |       NA |        NA |        NA | 35.49804 |        NA | NA | 18.02030 | ... | 18.80169 |      NA |       NA |       NA |       NA |       NA |           NA |        NA |       NA |        NA |\n",
       "|       NA |       NA |       NA |       NA |        NA |        NA | 35.49804 |        NA | NA | 18.02030 | ... | 18.80169 |      NA |       NA |       NA |       NA |       NA |           NA |        NA |       NA |        NA |\n",
       "| 15.56181 | 15.27581 | 4.562259 | 1.181571 | 0.8103373 |        NA | 35.31949 | 10.791760 | NA | 16.51494 | ... | 19.94017 | 19.9271 | 21.67366 | 18.67366 | 16.00000 | 4.923164 | -0.011619920 | 0.8444477 | 7.000000 | 7.9088192 |\n",
       "|       NA |       NA |       NA |       NA |        NA |        NA |       NA |        NA | NA |       NA | ... |       NA |      NA |       NA |       NA |       NA |       NA |           NA |        NA |       NA |        NA |\n",
       "| 11.28881 | 16.46212 | 4.113858 | 2.060184 | 1.4847380 |  7.473438 | 34.93443 | 14.820160 | NA | 11.56553 | ... | 15.49737 |      NA | 17.00000 | 15.00000 | 13.00000 | 3.650872 |  0.001738676 | 0.2083865 | 4.000000 | 0.7066119 |\n",
       "| 11.28881 | 16.46212 | 4.113858 | 2.060184 | 1.4847380 |  7.473438 | 34.93443 | 14.820160 | NA | 11.56553 | ... | 15.49737 |      NA | 17.00000 | 15.00000 | 13.00000 | 3.650872 |  0.001738676 | 0.2083865 | 4.000000 | 0.7066119 |\n",
       "|       NA |       NA |       NA |       NA |        NA |        NA |       NA |        NA | NA |       NA | ... |       NA |      NA |       NA |       NA |       NA |       NA |           NA |        NA |       NA |        NA |\n",
       "|       NA |       NA |       NA |       NA |        NA |        NA |       NA |        NA | NA |       NA | ... |       NA |      NA |       NA |       NA |       NA |       NA |           NA |        NA |       NA |        NA |\n",
       "| 13.55985 | 10.43052 | 4.327785 | 1.524787 | 0.8544305 | 12.477980 |       NA | 20.630430 | NA |       NA | ... |       NA |      NA | 24.34826 | 22.11611 | 20.10154 | 4.000000 | -0.101078197 | 0.7961749 | 4.000000 | 0.0000000 |\n",
       "| 13.55985 | 10.43052 | 4.327785 | 1.524787 | 0.8544305 | 12.477980 |       NA | 20.630430 | NA |       NA | ... |       NA |      NA | 24.34826 | 22.11611 | 20.10154 | 4.000000 | -0.101078197 | 0.7961749 | 4.000000 | 0.0000000 |\n",
       "\n"
      ],
      "text/plain": [
       "   bedtemp  bnitrate bo2dissolve bo2utilized bphosphate bsalin    bsalin21k\n",
       "1  14.97160  6.56227 5.401511    0.369455    0.8635866         NA       NA \n",
       "2  14.97160  6.56227 5.401511    0.369455    0.8635866         NA 34.95545 \n",
       "3        NA       NA       NA          NA           NA         NA 35.49804 \n",
       "4        NA       NA       NA          NA           NA         NA 35.49804 \n",
       "5  15.56181 15.27581 4.562259    1.181571    0.8103373         NA 35.31949 \n",
       "6        NA       NA       NA          NA           NA         NA       NA \n",
       "7  11.28881 16.46212 4.113858    2.060184    1.4847380   7.473438 34.93443 \n",
       "8  11.28881 16.46212 4.113858    2.060184    1.4847380   7.473438 34.93443 \n",
       "9        NA       NA       NA          NA           NA         NA       NA \n",
       "10       NA       NA       NA          NA           NA         NA       NA \n",
       "11 13.55985 10.43052 4.327785    1.524787    0.8544305  12.477980       NA \n",
       "12 13.55985 10.43052 4.327785    1.524787    0.8544305  12.477980       NA \n",
       "   bsilicate btemp btemp21k ... sst_mayoct sst_novapr sstmax   sstmean \n",
       "1   7.599373 NA    11.74407 ...       NA        NA    16.98092 15.00000\n",
       "2   7.599373 NA    11.74407 ... 16.04738        NA    16.98092 15.00000\n",
       "3         NA NA    18.02030 ... 18.80169        NA          NA       NA\n",
       "4         NA NA    18.02030 ... 18.80169        NA          NA       NA\n",
       "5  10.791760 NA    16.51494 ... 19.94017   19.9271    21.67366 18.67366\n",
       "6         NA NA          NA ...       NA        NA          NA       NA\n",
       "7  14.820160 NA    11.56553 ... 15.49737        NA    17.00000 15.00000\n",
       "8  14.820160 NA    11.56553 ... 15.49737        NA    17.00000 15.00000\n",
       "9         NA NA          NA ...       NA        NA          NA       NA\n",
       "10        NA NA          NA ...       NA        NA          NA       NA\n",
       "11 20.630430 NA          NA ...       NA        NA    24.34826 22.11611\n",
       "12 20.630430 NA          NA ...       NA        NA    24.34826 22.11611\n",
       "   sstmin   sstrange surcurrent   tideaverage waveheight windspeed\n",
       "1  13.69698 3.000000  0.009436653        NA   4.207474   0.7635055\n",
       "2  13.69698 3.000000  0.009436653 0.1848701   4.207474   0.7635055\n",
       "3        NA       NA           NA        NA         NA          NA\n",
       "4        NA       NA           NA        NA         NA          NA\n",
       "5  16.00000 4.923164 -0.011619920 0.8444477   7.000000   7.9088192\n",
       "6        NA       NA           NA        NA         NA          NA\n",
       "7  13.00000 3.650872  0.001738676 0.2083865   4.000000   0.7066119\n",
       "8  13.00000 3.650872  0.001738676 0.2083865   4.000000   0.7066119\n",
       "9        NA       NA           NA        NA         NA          NA\n",
       "10       NA       NA           NA        NA         NA          NA\n",
       "11 20.10154 4.000000 -0.101078197 0.7961749   4.000000   0.0000000\n",
       "12 20.10154 4.000000 -0.101078197 0.7961749   4.000000   0.0000000"
      ]
     },
     "metadata": {},
     "output_type": "display_data"
    }
   ],
   "source": [
    "as.data.frame(raster::extract(gmed_cropped, Bluecarbon_sites[c(\"x\", \"y\")])) %>%\n",
    "dplyr::select(where(function(x) any(is.na(x))))"
   ]
  },
  {
   "cell_type": "code",
   "execution_count": 8,
   "id": "57f4b55e",
   "metadata": {},
   "outputs": [],
   "source": [
    "get_approx_NA <-  function(xy, env_layer, max_dist){\n",
    "    \n",
    "    raster_dist <- replace(distanceFromPoints(env_layer, xy), is.na(env_layer), NA)\n",
    "    dist_index <- which.min(raster_dist)\n",
    "    dist_value <- raster_dist@data@values[dist_index]\n",
    "    approx_value <- if(dist_value > max_dist) NA else  env_layer@data@values[dist_index]\n",
    "    approx_df <- data.frame(x = xy['x'], y = xy['y'], dist_value, approx_value)\n",
    "    names(approx_df)[3:4] <- c(paste('dist', names(env_layer), sep = '_'), names(env_layer))\n",
    "        \n",
    "return(approx_df)  \n",
    "}"
   ]
  },
  {
   "cell_type": "code",
   "execution_count": 9,
   "id": "06a77f86",
   "metadata": {},
   "outputs": [],
   "source": [
    "proxim_var <- function(layer_name, raster_stack, max_dist){\n",
    "    \n",
    "    env_layer <- raster_stack[[layer_name]]\n",
    "    proxim_na <- do.call(rbind, apply(X = coord, MARGIN = 1, FUN = get_approx_NA, env_layer, max_dist))\n",
    "\n",
    "return(proxim_na)\n",
    "}"
   ]
  },
  {
   "cell_type": "code",
   "execution_count": 10,
   "id": "d89311d2",
   "metadata": {},
   "outputs": [
    {
     "ename": "ERROR",
     "evalue": "Error in apply(X = coord, MARGIN = 1, FUN = get_approx_NA, env_layer, : object 'coord' not found\n",
     "output_type": "error",
     "traceback": [
      "Error in apply(X = coord, MARGIN = 1, FUN = get_approx_NA, env_layer, : object 'coord' not found\nTraceback:\n",
      "1. lapply(names(gmed_cropped), proxim_var, raster_stack = gmed_cropped, \n .     max_dist = 10000)",
      "2. FUN(X[[i]], ...)",
      "3. do.call(rbind, apply(X = coord, MARGIN = 1, FUN = get_approx_NA, \n .     env_layer, max_dist))   # at line 4 of file <text>",
      "4. apply(X = coord, MARGIN = 1, FUN = get_approx_NA, env_layer, \n .     max_dist)"
     ]
    }
   ],
   "source": [
    "proxim_df_ls <- lapply(names(gmed_cropped), proxim_var, raster_stack = gmed_cropped, max_dist = 10000)\n",
    "proxim_df <- join_all(proxim_values, by = c('x','y'), type =\"full\")"
   ]
  },
  {
   "cell_type": "code",
   "execution_count": null,
   "id": "691941cb",
   "metadata": {
    "scrolled": true
   },
   "outputs": [],
   "source": [
    "proxim_df"
   ]
  },
  {
   "cell_type": "code",
   "execution_count": null,
   "id": "ec8ad2b1",
   "metadata": {},
   "outputs": [],
   "source": [
    "fill_envdata <- function(my_layer, env_layers, coord_df, proxim_data){\n",
    "    \n",
    "    env_layer <- env_layers[[my_layer]]\n",
    "    for (i in 1: nrow(Bluecarbon_sites)){\n",
    "        xy <- coord_df[i,c('x','y')]\n",
    "        env_value <- raster::extract(env_layer, xy)\n",
    "        if(is.na(env_value) & !missing(proxim_data)){\n",
    "            proxim_value <- proxim_df[proxim_df$x == coord_df[i,]$x & proxim_df$y ==  coord_df[i,]$y, my_layer]\n",
    "            coord_df[i, my_layer] <- proxim_value\n",
    "        }\n",
    "        else{\n",
    "            coord_df[i, my_layer] <- env_value  \n",
    "        }\n",
    "    }   \n",
    "return(coord_df)\n",
    "}"
   ]
  },
  {
   "cell_type": "code",
   "execution_count": null,
   "id": "e180a1ff",
   "metadata": {},
   "outputs": [],
   "source": [
    "filled_env_data <- lapply(names(gmed_cropped), fill_envdata, env_layers = gmed_cropped, coord_df = Bluecarbon_sites, proxim_data = proxim_df)"
   ]
  },
  {
   "cell_type": "code",
   "execution_count": null,
   "id": "6585a34f",
   "metadata": {},
   "outputs": [],
   "source": [
    "proxim_df <- join_all(filled_env_data, by = c(\"estuary\",\"Site\",\"x\",\"y\",\"date\",\"Biogeographical_region\"), type =\"full\")"
   ]
  },
  {
   "cell_type": "code",
   "execution_count": null,
   "id": "7a1ccacd",
   "metadata": {},
   "outputs": [],
   "source": [
    "proxim_df"
   ]
  },
  {
   "cell_type": "code",
   "execution_count": null,
   "id": "67120301",
   "metadata": {
    "scrolled": true
   },
   "outputs": [],
   "source": [
    "#Testing filling of NAs \n",
    "#https://stackoverflow.com/questions/27562076/if-raster-value-na-search-and-extract-the-nearest-non-na-pixel\n",
    "set.seed(2)\n",
    "# create a 10x10 raster\n",
    "r <- raster(ncol=10,nrow=10, xmn=0, xmx=10, ymn=0,ymx=10)\n",
    "r[] <- 1:10\n",
    "r[sample(1:ncell(r), size = 25)] <- NA\n",
    "# plot the raster\n",
    "plot(r, axes=F, box=F)\n",
    "segments(x0 = 0, y0 = 0:10, x1 = 10, y1 = 0:10, lty=2)\n",
    "segments(y0 = 0, x0 = 0:10, y1 = 10, x1 = 0:10, lty=2)\n",
    "# create sample points and add them to the plot\n",
    "xy = data.frame(x=runif(10,1,10), y=runif(10,1,10))\n",
    "points(xy, pch=3)\n",
    "text(x = xy$x, y = xy$y, labels = as.character(1:nrow(xy)), pos=4, cex=0.7, xpd=NA)"
   ]
  },
  {
   "cell_type": "code",
   "execution_count": null,
   "id": "97d1162b",
   "metadata": {},
   "outputs": [],
   "source": [
    "sampled = apply(X = xy, MARGIN = 1, FUN = function(xy) r@data@values[which.min(replace(distanceFromPoints(r, xy), is.na(r), NA))])\n",
    "extracted = extract(x = r, y = xy)\n",
    "sampled\n",
    "print(data.frame(xy, extracted, sampled))"
   ]
  },
  {
   "cell_type": "code",
   "execution_count": null,
   "id": "31951ca1",
   "metadata": {},
   "outputs": [],
   "source": [
    "#testing the implementation\n",
    "do.call(rbind, apply(X = xy, MARGIN = 1, FUN = get_approx_NA, env_layer = r, max_dist = 1000000))"
   ]
  }
 ],
 "metadata": {
  "kernelspec": {
   "display_name": "R",
   "language": "R",
   "name": "ir"
  },
  "language_info": {
   "codemirror_mode": "r",
   "file_extension": ".r",
   "mimetype": "text/x-r-source",
   "name": "R",
   "pygments_lexer": "r",
   "version": "4.1.3"
  }
 },
 "nbformat": 4,
 "nbformat_minor": 5
}
