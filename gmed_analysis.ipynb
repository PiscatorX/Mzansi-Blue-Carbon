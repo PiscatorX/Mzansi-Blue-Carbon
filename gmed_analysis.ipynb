{
 "cells": [
  {
   "cell_type": "code",
   "execution_count": null,
   "id": "d51e64ab",
   "metadata": {},
   "outputs": [],
   "source": [
    "library(plyr)\n",
    "library(sdmpredictors)\n",
    "library(tidyterra)\n",
    "library(tidyverse)\n",
    "library(ggplot2)\n",
    "library(raster)\n",
    "library(terra)\n",
    "#https://www.ecologi.st/spatial-r/raster-gis-operations-in-r-with-terra.html"
   ]
  },
  {
   "cell_type": "code",
   "execution_count": null,
   "id": "84fc0c9b",
   "metadata": {
    "scrolled": false
   },
   "outputs": [],
   "source": [
    "(Bluecarbon_sites <- read.csv(\"data//BC/BCsampling_sites.tsv\", sep =\"\\t\", header=T) %>% \n",
    "                     dplyr::mutate(Site = ifelse(Site ==\"Site1\", \"Upper\", \"Lower\")) %>%\n",
    "                     dplyr::rename(estuary = Estuary) %>%\n",
    "                     dplyr::rename(Biogeographical_region = Biogeographical.region))"
   ]
  },
  {
   "cell_type": "code",
   "execution_count": null,
   "id": "56464dd3",
   "metadata": {},
   "outputs": [],
   "source": [
    "ZA_admin_st <- geodata::gadm(\"ZA\", path = \"data/sdm/\")\n",
    "ZA_admin_sf = sf::st_as_sf(ZA_admin_st)\n",
    "ZA_extent <- raster::extent(10, 40, -37, -22)"
   ]
  },
  {
   "cell_type": "code",
   "execution_count": null,
   "id": "89462832",
   "metadata": {},
   "outputs": [],
   "source": [
    "get_raster <- function(path, pattern){\n",
    "\n",
    "    file_ls <- Sys.glob(file.path(path , pattern))\n",
    "    raster <- raster::stack(file_ls)\n",
    "    \n",
    "    return(raster)\n",
    "} "
   ]
  },
  {
   "cell_type": "code",
   "execution_count": null,
   "id": "654391a4",
   "metadata": {},
   "outputs": [],
   "source": [
    "gmed_raster <- get_raster(\"GMED/*/\", \"*.asc\")\n",
    "dim(gmed_raster)"
   ]
  },
  {
   "cell_type": "code",
   "execution_count": null,
   "id": "df9a1ca2",
   "metadata": {},
   "outputs": [],
   "source": [
    "gmed_cropped <- raster::crop(gmed_raster, ZA_extent) \n",
    "dim(gmed_cropped)"
   ]
  },
  {
   "cell_type": "code",
   "execution_count": null,
   "id": "429bc9b7",
   "metadata": {},
   "outputs": [],
   "source": [
    "as.data.frame(raster::extract(gmed_cropped, Bluecarbon_sites[c(\"x\", \"y\")])) %>%\n",
    "dplyr::select(where(function(x) any(is.na(x))))"
   ]
  },
  {
   "cell_type": "code",
   "execution_count": null,
   "id": "57f4b55e",
   "metadata": {},
   "outputs": [],
   "source": [
    "get_approx_NA <-  function(xy, env_layer, max_dist){\n",
    "    \n",
    "    raster_dist <- replace(distanceFromPoints(env_layer, xy), is.na(env_layer), NA)\n",
    "    dist_index <- which.min(raster_dist)\n",
    "    dist_value <- raster_dist@data@values[dist_index]\n",
    "    approx_value <- if(dist_value > max_dist) NA else  env_layer@data@values[dist_index]\n",
    "    approx_df <- data.frame(x = xy['x'], y = xy['y'], dist_value, approx_value)\n",
    "    names(approx_df)[3:4] <- c(paste('dist', names(env_layer), sep = '_'), names(env_layer))\n",
    "        \n",
    "return(approx_df)  \n",
    "}"
   ]
  },
  {
   "cell_type": "code",
   "execution_count": null,
   "id": "06a77f86",
   "metadata": {},
   "outputs": [],
   "source": [
    "proxim_var <- function(layer_name, coord_df, raster_stack, max_dist){\n",
    "    \n",
    "    env_layer <- raster_stack[[layer_name]]\n",
    "    proxim_na <- do.call(rbind, apply(X = coord_df, MARGIN = 1, FUN = get_approx_NA, env_layer, max_dist))\n",
    "\n",
    "return(proxim_na)\n",
    "}"
   ]
  },
  {
   "cell_type": "code",
   "execution_count": null,
   "id": "d89311d2",
   "metadata": {},
   "outputs": [],
   "source": [
    "proxim_df_ls <- lapply(names(gmed_cropped), proxim_var, coord_df = Bluecarbon_sites[c('x','y')], raster_stack = gmed_cropped, max_dist = 10000)\n",
    "proxim_df <- join_all(proxim_df_ls, by = c('x','y'), type =\"full\")"
   ]
  },
  {
   "cell_type": "code",
   "execution_count": null,
   "id": "b517fb81",
   "metadata": {
    "scrolled": true
   },
   "outputs": [],
   "source": [
    "proxim_df"
   ]
  },
  {
   "cell_type": "code",
   "execution_count": null,
   "id": "5cd06b69",
   "metadata": {},
   "outputs": [],
   "source": [
    "fill_envdata <- function(my_layer, env_layers, coord_df, proxim_data){\n",
    "    \n",
    "    env_layer <- env_layers[[my_layer]]\n",
    "    for (i in 1: nrow(Bluecarbon_sites)){\n",
    "        xy <- coord_df[i,c('x','y')]\n",
    "        env_value <- raster::extract(env_layer, xy)\n",
    "        if(is.na(env_value) & !missing(proxim_data)){\n",
    "            proxim_value <- proxim_df[proxim_df$x == coord_df[i,]$x & proxim_df$y ==  coord_df[i,]$y, my_layer]\n",
    "            coord_df[i, my_layer] <- proxim_value\n",
    "        }\n",
    "        else{\n",
    "            coord_df[i, my_layer] <- env_value  \n",
    "        }\n",
    "    }   \n",
    "return(coord_df)\n",
    "}"
   ]
  },
  {
   "cell_type": "code",
   "execution_count": null,
   "id": "37ead8cc",
   "metadata": {},
   "outputs": [],
   "source": [
    "filled_env_data <- lapply(names(gmed_cropped), fill_envdata, env_layers = gmed_cropped, coord_df = Bluecarbon_sites, proxim_data = proxim_df)"
   ]
  },
  {
   "cell_type": "code",
   "execution_count": null,
   "id": "566408a0",
   "metadata": {},
   "outputs": [],
   "source": [
    "proxim_df <- join_all(filled_env_data, by = c(\"estuary\",\"Site\",\"x\",\"y\",\"date\",\"Biogeographical_region\"), type =\"full\")"
   ]
  },
  {
   "cell_type": "code",
   "execution_count": null,
   "id": "b7d623b6",
   "metadata": {},
   "outputs": [],
   "source": [
    "proxim_df"
   ]
  },
  {
   "cell_type": "code",
   "execution_count": null,
   "id": "67120301",
   "metadata": {
    "scrolled": true
   },
   "outputs": [],
   "source": [
    "#Testing filling of NAs \n",
    "#https://stackoverflow.com/questions/27562076/if-raster-value-na-search-and-extract-the-nearest-non-na-pixel\n",
    "set.seed(2)\n",
    "# create a 10x10 raster\n",
    "r <- raster(ncol=10,nrow=10, xmn=0, xmx=10, ymn=0,ymx=10)\n",
    "r[] <- 1:10\n",
    "r[sample(1:ncell(r), size = 25)] <- NA\n",
    "# plot the raster\n",
    "plot(r, axes=F, box=F)\n",
    "segments(x0 = 0, y0 = 0:10, x1 = 10, y1 = 0:10, lty=2)\n",
    "segments(y0 = 0, x0 = 0:10, y1 = 10, x1 = 0:10, lty=2)\n",
    "# create sample points and add them to the plot\n",
    "xy = data.frame(x=runif(10,1,10), y=runif(10,1,10))\n",
    "points(xy, pch=3)\n",
    "text(x = xy$x, y = xy$y, labels = as.character(1:nrow(xy)), pos=4, cex=0.7, xpd=NA)"
   ]
  },
  {
   "cell_type": "code",
   "execution_count": null,
   "id": "97d1162b",
   "metadata": {},
   "outputs": [],
   "source": [
    "sampled = apply(X = xy, MARGIN = 1, FUN = function(xy) r@data@values[which.min(replace(distanceFromPoints(r, xy), is.na(r), NA))])\n",
    "extracted = extract(x = r, y = xy)\n",
    "sampled\n",
    "(sampled_df <- data.frame(xy, extracted, sampled))"
   ]
  },
  {
   "cell_type": "code",
   "execution_count": null,
   "id": "07345492",
   "metadata": {},
   "outputs": [],
   "source": [
    "#testing the implementation\n",
    "(test_df <- do.call(rbind, apply(X = xy, MARGIN = 1, FUN = get_approx_NA, env_layer = r, max_dist = 1000000)))"
   ]
  },
  {
   "cell_type": "code",
   "execution_count": null,
   "id": "5d565057",
   "metadata": {},
   "outputs": [],
   "source": [
    "sampled_df$sampled == test_df$layer"
   ]
  }
 ],
 "metadata": {
  "kernelspec": {
   "display_name": "R",
   "language": "R",
   "name": "ir"
  },
  "language_info": {
   "codemirror_mode": "r",
   "file_extension": ".r",
   "mimetype": "text/x-r-source",
   "name": "R",
   "pygments_lexer": "r",
   "version": "4.1.3"
  }
 },
 "nbformat": 4,
 "nbformat_minor": 5
}
