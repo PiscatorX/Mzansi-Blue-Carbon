{
 "cells": [
  {
   "cell_type": "code",
   "execution_count": 3,
   "id": "41103a2a",
   "metadata": {
    "scrolled": true,
    "slideshow": {
     "slide_type": "skip"
    }
   },
   "outputs": [
    {
     "name": "stderr",
     "output_type": "stream",
     "text": [
      "Loading required package: lme4\n",
      "\n",
      "Loading required package: Matrix\n",
      "\n",
      "\n",
      "Attaching package: 'lmerTest'\n",
      "\n",
      "\n",
      "The following object is masked from 'package:lme4':\n",
      "\n",
      "    lmer\n",
      "\n",
      "\n",
      "The following object is masked from 'package:stats':\n",
      "\n",
      "    step\n",
      "\n",
      "\n",
      "Loading required package: mvtnorm\n",
      "\n",
      "Loading required package: survival\n",
      "\n",
      "Loading required package: TH.data\n",
      "\n",
      "Loading required package: MASS\n",
      "\n",
      "\n",
      "Attaching package: 'TH.data'\n",
      "\n",
      "\n",
      "The following object is masked from 'package:MASS':\n",
      "\n",
      "    geyser\n",
      "\n",
      "\n",
      "Loading required package: dplyr\n",
      "\n",
      "\n",
      "Attaching package: 'dplyr'\n",
      "\n",
      "\n",
      "The following object is masked from 'package:MASS':\n",
      "\n",
      "    select\n",
      "\n",
      "\n",
      "The following objects are masked from 'package:stats':\n",
      "\n",
      "    filter, lag\n",
      "\n",
      "\n",
      "The following objects are masked from 'package:base':\n",
      "\n",
      "    intersect, setdiff, setequal, union\n",
      "\n",
      "\n",
      "\n",
      "Attaching package: 'recipes'\n",
      "\n",
      "\n",
      "The following object is masked from 'package:lmerTest':\n",
      "\n",
      "    step\n",
      "\n",
      "\n",
      "The following object is masked from 'package:Matrix':\n",
      "\n",
      "    update\n",
      "\n",
      "\n",
      "The following object is masked from 'package:stats':\n",
      "\n",
      "    step\n",
      "\n",
      "\n",
      "Loading required package: ggpp\n",
      "\n",
      "Loading required package: ggplot2\n",
      "\n",
      "\n",
      "Attaching package: 'ggpp'\n",
      "\n",
      "\n",
      "The following object is masked from 'package:ggplot2':\n",
      "\n",
      "    annotate\n",
      "\n",
      "\n",
      "Loading required package: terra\n",
      "\n",
      "terra 1.6.47\n",
      "\n",
      "\n",
      "Attaching package: 'terra'\n",
      "\n",
      "\n",
      "The following object is masked from 'package:ggpubr':\n",
      "\n",
      "    rotate\n",
      "\n",
      "\n",
      "The following object is masked from 'package:MASS':\n",
      "\n",
      "    area\n",
      "\n",
      "\n",
      "\n",
      "Attaching package: 'stringr'\n",
      "\n",
      "\n",
      "The following object is masked from 'package:recipes':\n",
      "\n",
      "    fixed\n",
      "\n",
      "\n",
      "Loading required package: sp\n",
      "\n",
      "\n",
      "Attaching package: 'raster'\n",
      "\n",
      "\n",
      "The following object is masked from 'package:dplyr':\n",
      "\n",
      "    select\n",
      "\n",
      "\n",
      "The following object is masked from 'package:MASS':\n",
      "\n",
      "    select\n",
      "\n",
      "\n",
      "The following object is masked from 'package:lme4':\n",
      "\n",
      "    getData\n",
      "\n",
      "\n",
      "\n",
      "Attaching package: 'xtable'\n",
      "\n",
      "\n",
      "The following object is masked from 'package:terra':\n",
      "\n",
      "    align\n",
      "\n",
      "\n",
      "Loading required package: lattice\n",
      "\n",
      "\n",
      "Attaching package: 'caret'\n",
      "\n",
      "\n",
      "The following object is masked from 'package:survival':\n",
      "\n",
      "    cluster\n",
      "\n",
      "\n",
      "\n",
      "Attaching package: 'nlme'\n",
      "\n",
      "\n",
      "The following object is masked from 'package:raster':\n",
      "\n",
      "    getData\n",
      "\n",
      "\n",
      "The following object is masked from 'package:dplyr':\n",
      "\n",
      "    collapse\n",
      "\n",
      "\n",
      "The following object is masked from 'package:lme4':\n",
      "\n",
      "    lmList\n",
      "\n",
      "\n",
      "Linking to GEOS 3.10.2, GDAL 3.4.1, PROJ 7.2.1; sf_use_s2() is TRUE\n",
      "\n"
     ]
    }
   ],
   "source": [
    "library(sdmpredictors)\n",
    "library(broom.mixed)\n",
    "library(ggsignif)\n",
    "library(lmerTest)\n",
    "library(multcomp)\n",
    "library(reshape2)\n",
    "library(recipes)\n",
    "library(parsnip)\n",
    "library(ggpmisc)\n",
    "library(ggpubr)\n",
    "library(geodata)\n",
    "library(ggplot2)\n",
    "library(stringr)\n",
    "library(raster)\n",
    "library(readxl)\n",
    "library(xtable)\n",
    "library(broom)\n",
    "library(dplyr)\n",
    "library(ade4)\n",
    "library(caret)\n",
    "library(ggsci)\n",
    "library(lme4)\n",
    "library(nlme)\n",
    "library(MASS)\n",
    "library(sf)"
   ]
  },
  {
   "cell_type": "code",
   "execution_count": 31,
   "id": "93dcd122",
   "metadata": {},
   "outputs": [],
   "source": [
    "help(sdmpredictors)"
   ]
  },
  {
   "cell_type": "code",
   "execution_count": 33,
   "id": "a69b4fca",
   "metadata": {
    "scrolled": true
   },
   "outputs": [
    {
     "data": {
      "text/plain": [
       "\n",
       "To cite package 'sdmpredictors' in publications use:\n",
       "\n",
       "  Samuel Bosch and Salvador Fernandez (2022). sdmpredictors: Species\n",
       "  Distribution Modelling Predictor Datasets. R package version 0.2.14.\n",
       "  https://CRAN.R-project.org/package=sdmpredictors\n",
       "\n",
       "A BibTeX entry for LaTeX users is\n",
       "\n",
       "  @Manual{,\n",
       "    title = {sdmpredictors: Species Distribution Modelling Predictor Datasets},\n",
       "    author = {Samuel Bosch and Salvador Fernandez},\n",
       "    year = {2022},\n",
       "    note = {R package version 0.2.14},\n",
       "    url = {https://CRAN.R-project.org/package=sdmpredictors},\n",
       "  }\n"
      ]
     },
     "metadata": {},
     "output_type": "display_data"
    }
   ],
   "source": [
    "citation(\"sdmpredictors\")"
   ]
  },
  {
   "cell_type": "code",
   "execution_count": 34,
   "id": "e14b81d1",
   "metadata": {},
   "outputs": [
    {
     "data": {
      "text/plain": [
       "[1] '0.2.14'"
      ]
     },
     "metadata": {},
     "output_type": "display_data"
    }
   ],
   "source": [
    "packageVersion(\"sdmpredictors\")"
   ]
  },
  {
   "cell_type": "code",
   "execution_count": 2,
   "id": "72590413",
   "metadata": {
    "scrolled": false,
    "slideshow": {
     "slide_type": "skip"
    }
   },
   "outputs": [
    {
     "data": {
      "text/html": [
       "<table class=\"dataframe\">\n",
       "<caption>A data.frame: 12 × 6</caption>\n",
       "<thead>\n",
       "\t<tr><th scope=col>estuary</th><th scope=col>Site</th><th scope=col>x</th><th scope=col>y</th><th scope=col>date</th><th scope=col>Biogeographical_region</th></tr>\n",
       "\t<tr><th scope=col>&lt;chr&gt;</th><th scope=col>&lt;chr&gt;</th><th scope=col>&lt;dbl&gt;</th><th scope=col>&lt;dbl&gt;</th><th scope=col>&lt;chr&gt;</th><th scope=col>&lt;chr&gt;</th></tr>\n",
       "</thead>\n",
       "<tbody>\n",
       "\t<tr><td>Berg     </td><td>Upper</td><td>18.19648</td><td>-32.81314</td><td>18 06 2021</td><td>Cool Temperate</td></tr>\n",
       "\t<tr><td>Berg     </td><td>Lower</td><td>18.14189</td><td>-32.77216</td><td>18 06 2021</td><td>Cool Temperate</td></tr>\n",
       "\t<tr><td>Breede   </td><td>Lower</td><td>20.84452</td><td>-34.39693</td><td>25 06 2021</td><td>Warm temperate</td></tr>\n",
       "\t<tr><td>Breede   </td><td>Upper</td><td>20.80405</td><td>-34.40552</td><td>25 06 2021</td><td>Warm temperate</td></tr>\n",
       "\t<tr><td>Knysna   </td><td>Upper</td><td>23.05105</td><td>-34.06119</td><td>30 05 2021</td><td>Warm temperate</td></tr>\n",
       "\t<tr><td>Knysna   </td><td>Lower</td><td>22.99216</td><td>-34.03369</td><td>30 05 2021</td><td>Warm temperate</td></tr>\n",
       "\t<tr><td>Olifants </td><td>Lower</td><td>18.18882</td><td>-31.69302</td><td>05 07 2021</td><td>Cool Temperate</td></tr>\n",
       "\t<tr><td>Olifants </td><td>Upper</td><td>18.19545</td><td>-31.66071</td><td>05 07 2021</td><td>Cool Temperate</td></tr>\n",
       "\t<tr><td>Swartkops</td><td>Lower</td><td>25.59069</td><td>-33.83784</td><td>25 05 2021</td><td>Warm temperate</td></tr>\n",
       "\t<tr><td>Swartkops</td><td>Upper</td><td>25.62139</td><td>-33.86114</td><td>25 05 2021</td><td>Warm temperate</td></tr>\n",
       "\t<tr><td>Mngazana </td><td>Upper</td><td>29.42223</td><td>-31.69004</td><td>11 10 2021</td><td>Subtropical   </td></tr>\n",
       "\t<tr><td>Mngazana </td><td>Lower</td><td>29.41853</td><td>-31.68501</td><td>11 10 2021</td><td>Subtropical   </td></tr>\n",
       "</tbody>\n",
       "</table>\n"
      ],
      "text/latex": [
       "A data.frame: 12 × 6\n",
       "\\begin{tabular}{llllll}\n",
       " estuary & Site & x & y & date & Biogeographical\\_region\\\\\n",
       " <chr> & <chr> & <dbl> & <dbl> & <chr> & <chr>\\\\\n",
       "\\hline\n",
       "\t Berg      & Upper & 18.19648 & -32.81314 & 18 06 2021 & Cool Temperate\\\\\n",
       "\t Berg      & Lower & 18.14189 & -32.77216 & 18 06 2021 & Cool Temperate\\\\\n",
       "\t Breede    & Lower & 20.84452 & -34.39693 & 25 06 2021 & Warm temperate\\\\\n",
       "\t Breede    & Upper & 20.80405 & -34.40552 & 25 06 2021 & Warm temperate\\\\\n",
       "\t Knysna    & Upper & 23.05105 & -34.06119 & 30 05 2021 & Warm temperate\\\\\n",
       "\t Knysna    & Lower & 22.99216 & -34.03369 & 30 05 2021 & Warm temperate\\\\\n",
       "\t Olifants  & Lower & 18.18882 & -31.69302 & 05 07 2021 & Cool Temperate\\\\\n",
       "\t Olifants  & Upper & 18.19545 & -31.66071 & 05 07 2021 & Cool Temperate\\\\\n",
       "\t Swartkops & Lower & 25.59069 & -33.83784 & 25 05 2021 & Warm temperate\\\\\n",
       "\t Swartkops & Upper & 25.62139 & -33.86114 & 25 05 2021 & Warm temperate\\\\\n",
       "\t Mngazana  & Upper & 29.42223 & -31.69004 & 11 10 2021 & Subtropical   \\\\\n",
       "\t Mngazana  & Lower & 29.41853 & -31.68501 & 11 10 2021 & Subtropical   \\\\\n",
       "\\end{tabular}\n"
      ],
      "text/markdown": [
       "\n",
       "A data.frame: 12 × 6\n",
       "\n",
       "| estuary &lt;chr&gt; | Site &lt;chr&gt; | x &lt;dbl&gt; | y &lt;dbl&gt; | date &lt;chr&gt; | Biogeographical_region &lt;chr&gt; |\n",
       "|---|---|---|---|---|---|\n",
       "| Berg      | Upper | 18.19648 | -32.81314 | 18 06 2021 | Cool Temperate |\n",
       "| Berg      | Lower | 18.14189 | -32.77216 | 18 06 2021 | Cool Temperate |\n",
       "| Breede    | Lower | 20.84452 | -34.39693 | 25 06 2021 | Warm temperate |\n",
       "| Breede    | Upper | 20.80405 | -34.40552 | 25 06 2021 | Warm temperate |\n",
       "| Knysna    | Upper | 23.05105 | -34.06119 | 30 05 2021 | Warm temperate |\n",
       "| Knysna    | Lower | 22.99216 | -34.03369 | 30 05 2021 | Warm temperate |\n",
       "| Olifants  | Lower | 18.18882 | -31.69302 | 05 07 2021 | Cool Temperate |\n",
       "| Olifants  | Upper | 18.19545 | -31.66071 | 05 07 2021 | Cool Temperate |\n",
       "| Swartkops | Lower | 25.59069 | -33.83784 | 25 05 2021 | Warm temperate |\n",
       "| Swartkops | Upper | 25.62139 | -33.86114 | 25 05 2021 | Warm temperate |\n",
       "| Mngazana  | Upper | 29.42223 | -31.69004 | 11 10 2021 | Subtropical    |\n",
       "| Mngazana  | Lower | 29.41853 | -31.68501 | 11 10 2021 | Subtropical    |\n",
       "\n"
      ],
      "text/plain": [
       "   estuary   Site  x        y         date       Biogeographical_region\n",
       "1  Berg      Upper 18.19648 -32.81314 18 06 2021 Cool Temperate        \n",
       "2  Berg      Lower 18.14189 -32.77216 18 06 2021 Cool Temperate        \n",
       "3  Breede    Lower 20.84452 -34.39693 25 06 2021 Warm temperate        \n",
       "4  Breede    Upper 20.80405 -34.40552 25 06 2021 Warm temperate        \n",
       "5  Knysna    Upper 23.05105 -34.06119 30 05 2021 Warm temperate        \n",
       "6  Knysna    Lower 22.99216 -34.03369 30 05 2021 Warm temperate        \n",
       "7  Olifants  Lower 18.18882 -31.69302 05 07 2021 Cool Temperate        \n",
       "8  Olifants  Upper 18.19545 -31.66071 05 07 2021 Cool Temperate        \n",
       "9  Swartkops Lower 25.59069 -33.83784 25 05 2021 Warm temperate        \n",
       "10 Swartkops Upper 25.62139 -33.86114 25 05 2021 Warm temperate        \n",
       "11 Mngazana  Upper 29.42223 -31.69004 11 10 2021 Subtropical           \n",
       "12 Mngazana  Lower 29.41853 -31.68501 11 10 2021 Subtropical           "
      ]
     },
     "metadata": {},
     "output_type": "display_data"
    }
   ],
   "source": [
    "(Bluecarbon_sites <- read.csv(\"data//BC/BCsampling_sites.tsv\", sep =\"\\t\", header=T) %>% \n",
    "                    dplyr::mutate(Site = ifelse(Site ==\"Site1\", \"Upper\", \"Lower\")) %>%\n",
    "                    dplyr::rename(estuary = Estuary) %>%\n",
    "                    dplyr::rename(Biogeographical_region = Biogeographical.region))"
   ]
  },
  {
   "cell_type": "code",
   "execution_count": 3,
   "id": "469ba6ae",
   "metadata": {},
   "outputs": [
    {
     "data": {
      "text/html": [
       "<table class=\"dataframe\">\n",
       "<caption>A data.frame: 5 × 6</caption>\n",
       "<thead>\n",
       "\t<tr><th scope=col>estuary</th><th scope=col>Site</th><th scope=col>x</th><th scope=col>y</th><th scope=col>date</th><th scope=col>Biogeographical_region</th></tr>\n",
       "\t<tr><th scope=col>&lt;chr&gt;</th><th scope=col>&lt;chr&gt;</th><th scope=col>&lt;dbl&gt;</th><th scope=col>&lt;dbl&gt;</th><th scope=col>&lt;chr&gt;</th><th scope=col>&lt;chr&gt;</th></tr>\n",
       "</thead>\n",
       "<tbody>\n",
       "\t<tr><td>Olifants </td><td>Upper</td><td>18.19545</td><td>-31.66071</td><td>05 07 2021</td><td>Cool Temperate</td></tr>\n",
       "\t<tr><td>Olifants </td><td>Lower</td><td>18.18882</td><td>-31.69302</td><td>05 07 2021</td><td>Cool Temperate</td></tr>\n",
       "\t<tr><td>Swartkops</td><td>Upper</td><td>25.62139</td><td>-33.86114</td><td>25 05 2021</td><td>Warm temperate</td></tr>\n",
       "\t<tr><td>Breede   </td><td>Upper</td><td>20.80405</td><td>-34.40552</td><td>25 06 2021</td><td>Warm temperate</td></tr>\n",
       "\t<tr><td>Mngazana </td><td>Lower</td><td>29.41853</td><td>-31.68501</td><td>11 10 2021</td><td>Subtropical   </td></tr>\n",
       "</tbody>\n",
       "</table>\n"
      ],
      "text/latex": [
       "A data.frame: 5 × 6\n",
       "\\begin{tabular}{llllll}\n",
       " estuary & Site & x & y & date & Biogeographical\\_region\\\\\n",
       " <chr> & <chr> & <dbl> & <dbl> & <chr> & <chr>\\\\\n",
       "\\hline\n",
       "\t Olifants  & Upper & 18.19545 & -31.66071 & 05 07 2021 & Cool Temperate\\\\\n",
       "\t Olifants  & Lower & 18.18882 & -31.69302 & 05 07 2021 & Cool Temperate\\\\\n",
       "\t Swartkops & Upper & 25.62139 & -33.86114 & 25 05 2021 & Warm temperate\\\\\n",
       "\t Breede    & Upper & 20.80405 & -34.40552 & 25 06 2021 & Warm temperate\\\\\n",
       "\t Mngazana  & Lower & 29.41853 & -31.68501 & 11 10 2021 & Subtropical   \\\\\n",
       "\\end{tabular}\n"
      ],
      "text/markdown": [
       "\n",
       "A data.frame: 5 × 6\n",
       "\n",
       "| estuary &lt;chr&gt; | Site &lt;chr&gt; | x &lt;dbl&gt; | y &lt;dbl&gt; | date &lt;chr&gt; | Biogeographical_region &lt;chr&gt; |\n",
       "|---|---|---|---|---|---|\n",
       "| Olifants  | Upper | 18.19545 | -31.66071 | 05 07 2021 | Cool Temperate |\n",
       "| Olifants  | Lower | 18.18882 | -31.69302 | 05 07 2021 | Cool Temperate |\n",
       "| Swartkops | Upper | 25.62139 | -33.86114 | 25 05 2021 | Warm temperate |\n",
       "| Breede    | Upper | 20.80405 | -34.40552 | 25 06 2021 | Warm temperate |\n",
       "| Mngazana  | Lower | 29.41853 | -31.68501 | 11 10 2021 | Subtropical    |\n",
       "\n"
      ],
      "text/plain": [
       "  estuary   Site  x        y         date       Biogeographical_region\n",
       "1 Olifants  Upper 18.19545 -31.66071 05 07 2021 Cool Temperate        \n",
       "2 Olifants  Lower 18.18882 -31.69302 05 07 2021 Cool Temperate        \n",
       "3 Swartkops Upper 25.62139 -33.86114 25 05 2021 Warm temperate        \n",
       "4 Breede    Upper 20.80405 -34.40552 25 06 2021 Warm temperate        \n",
       "5 Mngazana  Lower 29.41853 -31.68501 11 10 2021 Subtropical           "
      ]
     },
     "metadata": {},
     "output_type": "display_data"
    }
   ],
   "source": [
    "sample_n(Bluecarbon_sites, 5)"
   ]
  },
  {
   "cell_type": "code",
   "execution_count": 4,
   "id": "1e12cac1",
   "metadata": {},
   "outputs": [],
   "source": [
    "CHNS_cores <- readRDS(file = \"data/BC/CHNS_cores.RDS\") %>%\n",
    "              dplyr::rename(Plot = plot) %>%\n",
    "              dplyr::mutate(Site = ifelse(Plot == \"LWR\", \"Lower\",  \"Upper\")) %>%\n",
    "              dplyr::mutate(Site = as.factor(Site)) %>% \n",
    "              dplyr::group_by(estuary, Site) %>%\n",
    "              dplyr::filter(estuary != \"Breede\" | Site != \"Lower\") %>%\n",
    "              dplyr::mutate(Site_Id = as.factor(paste0(\"Site\", cur_group_id()))) %>%\n",
    "              dplyr::mutate(Site_ref =  glue::glue(\"{estuary}_{Site_Id}\")) %>%\n",
    "              ungroup()\n",
    "\n",
    "estuary_levels = c(\"Olifants\", \"Berg\",\"Breede\",\"Knysna\", \"Swartkops\",\"Mngazana\")\n",
    "CHNS_cores$estuary <- factor(CHNS_cores$estuary, levels = estuary_levels)            "
   ]
  },
  {
   "cell_type": "code",
   "execution_count": 5,
   "id": "7d027f71",
   "metadata": {},
   "outputs": [],
   "source": [
    "ZAF_bluecarbon_raw <- CHNS_cores"
   ]
  },
  {
   "cell_type": "code",
   "execution_count": 6,
   "id": "f798187e",
   "metadata": {},
   "outputs": [
    {
     "data": {
      "text/plain": [
       "     estuary\n",
       "depth Olifants Berg Breede Knysna Swartkops Mngazana\n",
       "   5         8    8      4      8         8       11\n",
       "   10        8    8      4      8         8       11\n",
       "   20        8    8      4      8         8       11\n",
       "   30        8    8      4      8         8       10\n",
       "   50        8    8      4      8         8        3"
      ]
     },
     "metadata": {},
     "output_type": "display_data"
    }
   ],
   "source": [
    "xtabs(~ depth + estuary , data = CHNS_cores)"
   ]
  },
  {
   "cell_type": "code",
   "execution_count": 7,
   "id": "0f096442",
   "metadata": {
    "scrolled": true
   },
   "outputs": [
    {
     "data": {
      "text/plain": [
       "           Site\n",
       "estuary     Lower Upper\n",
       "  Olifants     20    20\n",
       "  Berg         20    20\n",
       "  Breede        0    20\n",
       "  Knysna       20    20\n",
       "  Swartkops    20    20\n",
       "  Mngazana     26    20"
      ]
     },
     "metadata": {},
     "output_type": "display_data"
    }
   ],
   "source": [
    "xtabs(~ estuary + Site, data = CHNS_cores)"
   ]
  },
  {
   "cell_type": "code",
   "execution_count": 8,
   "id": "20e87d24",
   "metadata": {
    "scrolled": true,
    "slideshow": {
     "slide_type": "skip"
    }
   },
   "outputs": [
    {
     "name": "stderr",
     "output_type": "stream",
     "text": [
      "\u001b[1m\u001b[22m`summarise()` has grouped output by 'estuary'. You can override using the `.groups` argument.\n"
     ]
    }
   ],
   "source": [
    "core_count <- ZAF_bluecarbon_raw %>% \n",
    "              dplyr::group_by(estuary, Site) %>%\n",
    "              dplyr::summarise(Cores = n())\n",
    "\n",
    "BC_samples <- merge(Bluecarbon_sites, core_count) %>%\n",
    "              dplyr::rename(Long = x, Lat = y) %>%\n",
    "              dplyr::select(-date) %>%\n",
    "              dplyr::mutate(estuary = factor(estuary, levels = estuary_levels)) %>%\n",
    "              dplyr::arrange(estuary, Site)\n",
    "\n",
    "#print(xtable(BC_samples, digits=7, type = \"latex\"), file = \"Supplementary_material/BC_samples.tex\")"
   ]
  },
  {
   "cell_type": "code",
   "execution_count": 9,
   "id": "c82d2ba4",
   "metadata": {
    "scrolled": true,
    "slideshow": {
     "slide_type": "skip"
    }
   },
   "outputs": [
    {
     "name": "stderr",
     "output_type": "stream",
     "text": [
      "\u001b[1m\u001b[22m`summarise()` has grouped output by 'estuary', 'Site', 'Site_Id', 'Site_ref'. You can override using the `.groups` argument.\n"
     ]
    }
   ],
   "source": [
    "#Follows the Blue carbon manual to calculate total Corg per sediment core\n",
    "source(\"bluecarbon_library.R\")\n",
    "core_Corg <-    MgC_cores(CHNS_cores) %>%\n",
    "                dplyr::select(estuary, Site, Site_Id, Site_ref, Core, mean_Corg, MgC_perHa)"
   ]
  },
  {
   "cell_type": "code",
   "execution_count": 10,
   "id": "42e2fcec",
   "metadata": {},
   "outputs": [
    {
     "data": {
      "text/plain": [
       "           Site\n",
       "estuary     Lower Upper\n",
       "  Olifants      4     4\n",
       "  Berg          4     4\n",
       "  Breede        0     4\n",
       "  Knysna        4     4\n",
       "  Swartkops     4     4\n",
       "  Mngazana      6     5"
      ]
     },
     "metadata": {},
     "output_type": "display_data"
    },
    {
     "data": {
      "text/html": [
       "<style>\n",
       ".list-inline {list-style: none; margin:0; padding: 0}\n",
       ".list-inline>li {display: inline-block}\n",
       ".list-inline>li:not(:last-child)::after {content: \"\\00b7\"; padding: 0 .5ex}\n",
       "</style>\n",
       "<ol class=list-inline><li>'estuary'</li><li>'Site'</li><li>'Site_Id'</li><li>'Site_ref'</li><li>'Core'</li><li>'mean_Corg'</li><li>'MgC_perHa'</li><li>'x'</li><li>'y'</li><li>'date'</li><li>'Biogeographical_region'</li></ol>\n"
      ],
      "text/latex": [
       "\\begin{enumerate*}\n",
       "\\item 'estuary'\n",
       "\\item 'Site'\n",
       "\\item 'Site\\_Id'\n",
       "\\item 'Site\\_ref'\n",
       "\\item 'Core'\n",
       "\\item 'mean\\_Corg'\n",
       "\\item 'MgC\\_perHa'\n",
       "\\item 'x'\n",
       "\\item 'y'\n",
       "\\item 'date'\n",
       "\\item 'Biogeographical\\_region'\n",
       "\\end{enumerate*}\n"
      ],
      "text/markdown": [
       "1. 'estuary'\n",
       "2. 'Site'\n",
       "3. 'Site_Id'\n",
       "4. 'Site_ref'\n",
       "5. 'Core'\n",
       "6. 'mean_Corg'\n",
       "7. 'MgC_perHa'\n",
       "8. 'x'\n",
       "9. 'y'\n",
       "10. 'date'\n",
       "11. 'Biogeographical_region'\n",
       "\n",
       "\n"
      ],
      "text/plain": [
       " [1] \"estuary\"                \"Site\"                   \"Site_Id\"               \n",
       " [4] \"Site_ref\"               \"Core\"                   \"mean_Corg\"             \n",
       " [7] \"MgC_perHa\"              \"x\"                      \"y\"                     \n",
       "[10] \"date\"                   \"Biogeographical_region\""
      ]
     },
     "metadata": {},
     "output_type": "display_data"
    }
   ],
   "source": [
    "ZAF_bluecarbon_raw <- merge(core_Corg, Bluecarbon_sites)\n",
    "xtabs(~estuary + Site,  data  = core_Corg)\n",
    "colnames(ZAF_bluecarbon_raw)"
   ]
  },
  {
   "cell_type": "code",
   "execution_count": 11,
   "id": "c29702da",
   "metadata": {
    "scrolled": true
   },
   "outputs": [
    {
     "data": {
      "text/html": [
       "<style>\n",
       ".list-inline {list-style: none; margin:0; padding: 0}\n",
       ".list-inline>li {display: inline-block}\n",
       ".list-inline>li:not(:last-child)::after {content: \"\\00b7\"; padding: 0 .5ex}\n",
       "</style>\n",
       "<ol class=list-inline><li>47</li><li>7</li></ol>\n"
      ],
      "text/latex": [
       "\\begin{enumerate*}\n",
       "\\item 47\n",
       "\\item 7\n",
       "\\end{enumerate*}\n"
      ],
      "text/markdown": [
       "1. 47\n",
       "2. 7\n",
       "\n",
       "\n"
      ],
      "text/plain": [
       "[1] 47  7"
      ]
     },
     "metadata": {},
     "output_type": "display_data"
    },
    {
     "data": {
      "text/html": [
       "<style>\n",
       ".list-inline {list-style: none; margin:0; padding: 0}\n",
       ".list-inline>li {display: inline-block}\n",
       ".list-inline>li:not(:last-child)::after {content: \"\\00b7\"; padding: 0 .5ex}\n",
       "</style>\n",
       "<ol class=list-inline><li>47</li><li>11</li></ol>\n"
      ],
      "text/latex": [
       "\\begin{enumerate*}\n",
       "\\item 47\n",
       "\\item 11\n",
       "\\end{enumerate*}\n"
      ],
      "text/markdown": [
       "1. 47\n",
       "2. 11\n",
       "\n",
       "\n"
      ],
      "text/plain": [
       "[1] 47 11"
      ]
     },
     "metadata": {},
     "output_type": "display_data"
    }
   ],
   "source": [
    "dim(core_Corg)\n",
    "dim(ZAF_bluecarbon_raw)"
   ]
  },
  {
   "cell_type": "code",
   "execution_count": null,
   "id": "400387a0",
   "metadata": {},
   "outputs": [],
   "source": []
  },
  {
   "cell_type": "code",
   "execution_count": 12,
   "id": "72dea75d",
   "metadata": {
    "scrolled": true,
    "slideshow": {
     "slide_type": "skip"
    }
   },
   "outputs": [],
   "source": [
    "#South African Admin shape file\n",
    "ZA_admin1 <- geodata::gadm(\"ZA\", path = \"data/sdm/\")\n",
    "ZA_admin1 = sf::st_as_sf(ZA_admin1)"
   ]
  },
  {
   "cell_type": "code",
   "execution_count": 13,
   "id": "f585c11e",
   "metadata": {},
   "outputs": [
    {
     "name": "stderr",
     "output_type": "stream",
     "text": [
      "Warning message:\n",
      "\"\u001b[1m\u001b[22m`position_dodge()` requires non-overlapping \u001b[32mx\u001b[39m intervals\"\n"
     ]
    },
    {
     "data": {
      "image/png": "[encoded data removed]",
      "text/plain": [
       "plot without title"
      ]
     },
     "metadata": {
      "image/png": {
       "height": 420,
       "width": 420
      }
     },
     "output_type": "display_data"
    }
   ],
   "source": [
    "ggplot(data = ZA_admin1) +\n",
    "   geom_sf() +\n",
    "   geom_point(data = Bluecarbon_sites,\n",
    "              position = position_dodge(width=0.2),\n",
    "              aes(x = x,  y = y, colour = Site), size = 2) +\n",
    "   theme_bw()"
   ]
  },
  {
   "cell_type": "code",
   "execution_count": 14,
   "id": "bbf295df",
   "metadata": {
    "slideshow": {
     "slide_type": "skip"
    }
   },
   "outputs": [],
   "source": [
    "#setting options for smd data\n",
    "options(sdmpredictors_datadir=\"C:/Users/andhlovu/Documents/Mzansi-Blue-Carbon/data/sdm\")"
   ]
  },
  {
   "cell_type": "code",
   "execution_count": 15,
   "id": "cc786fc4",
   "metadata": {},
   "outputs": [],
   "source": [
    "sdm_datasets <- list_datasets(terrestrial = TRUE, marine = TRUE)"
   ]
  },
  {
   "cell_type": "code",
   "execution_count": 16,
   "id": "8b79b786",
   "metadata": {},
   "outputs": [
    {
     "data": {
      "text/html": [
       "<table class=\"dataframe\">\n",
       "<caption>A data.frame: 5 × 6</caption>\n",
       "<thead>\n",
       "\t<tr><th></th><th scope=col>dataset_code</th><th scope=col>terrestrial</th><th scope=col>marine</th><th scope=col>url</th><th scope=col>description</th><th scope=col>citation</th></tr>\n",
       "\t<tr><th></th><th scope=col>&lt;chr&gt;</th><th scope=col>&lt;lgl&gt;</th><th scope=col>&lt;lgl&gt;</th><th scope=col>&lt;chr&gt;</th><th scope=col>&lt;chr&gt;</th><th scope=col>&lt;chr&gt;</th></tr>\n",
       "</thead>\n",
       "<tbody>\n",
       "\t<tr><th scope=row>1</th><td>WorldClim </td><td> TRUE</td><td>FALSE</td><td>http://www.worldclim.org/       </td><td>WorldClim is a set of global climate layers (climate grids). Note that all data has been transformed back to real values, so there is no need to e.g. divide temperature layers by 10.                                                                                                                                                                                                                                                                                                                                                                                                                                                                                                                                                                                                                  </td><td>Hijmans, R.J., S.E. Cameron, J.L. Parra, P.G. Jones and A. Jarvis, 2005. Very high resolution interpolated climate surfaces for global land areas. International Journal of Climatology 25: 1965-1978.                                  </td></tr>\n",
       "\t<tr><th scope=row>2</th><td>Bio-ORACLE</td><td>FALSE</td><td> TRUE</td><td><span style=white-space:pre-wrap>https://bio-oracle.org/         </span></td><td><span style=white-space:pre-wrap>Bio-ORACLE is a set of GIS rasters providing geophysical, biotic and environmental data for surface and benthic marine realms at a spatial resolution 5 arcmin (9.2 km) in the ESRI ascii and tif format.                                                                                                                                                                                                                                                                                                                                                                                                                                                                                                                                                                                               </span></td><td>Tyberghein L., Verbruggen H., Pauly K., Troupin C., Mineur F. &amp; De Clerck O. Bio-ORACLE: a global environmental dataset for marine species distribution modeling. Global Ecology and Biogeography. doi: 10.1111/j.1466-8238.2011.00656.x</td></tr>\n",
       "\t<tr><th scope=row>3</th><td>MARSPEC   </td><td>FALSE</td><td> TRUE</td><td>http://marspec.org/             </td><td>MARSPEC is a set of high resolution climatic and geophysical GIS data layers for the world ocean. Seven geophysical variables were derived from the SRTM30_PLUS high resolution bathymetry dataset.  These layers characterize the horizontal orientation (aspect), slope, and curvature of the seafloor and the distance from shore.  Ten \"bioclimatic\" variables were derived from NOAA's World Ocean Atlas and NASA's MODIS satellite imagery and characterize the inter-annual means, extremes, and variances in sea surface temperature and salinity. These variables will be useful to those interested in the spatial ecology of marine shallow-water and surface-associated pelagic organisms across the globe. Note that, in contrary to the original MARSPEC, all layers have unscaled values.</td><td>Sbrocco, EJ and Barber, PH (2013) MARSPEC: Ocean climate layers for marine spatial ecology. Ecology 94: 979. doi: 10.1890/12-1358.1                                                                                                     </td></tr>\n",
       "\t<tr><th scope=row>4</th><td>ENVIREM   </td><td> TRUE</td><td>FALSE</td><td>https://envirem.github.io/      </td><td>The ENVIREM dataset is a set of 16 climatic and 2 topographic variables that can be used in modeling species' distributions. The strengths of this dataset include their close ties to ecological processes, and their availability at a global scale, at several spatial resolutions, and for several time periods. The underlying temperature and precipitation data that went into their construction comes from the WorldClim dataset (www.worldclim.org), and the solar radiation data comes from the Consortium for Spatial Information (www.cgiar-csi.org). The data are compatible with and expand the set of variables from WorldClim v1.4 (www.worldclim.org).                                                                                                                                </td><td>Title, P.O., Bemmels, J.B. 2017. ENVIREM: An expanded set of bioclimatic and topographic variables increases flexibility and improves performance of ecological niche modeling. Ecography doi: 10.1111/ecog.02880.                      </td></tr>\n",
       "\t<tr><th scope=row>5</th><td>Freshwater</td><td> TRUE</td><td>FALSE</td><td>https://www.earthenv.org/streams</td><td>The dataset consists of near-global, spatially continuous, and freshwater-specific environmental variables in a standardized 1km grid. We delineated the sub-catchment for each grid cell along the HydroSHEDS river network and summarized the upstream environment (climate, topography, land cover, surface geology and soil) to each grid cell using various metrics (average, minimum, maximum, range, sum, inverse distance-weighted average and sum). All variables were subsequently averaged across single lakes and reservoirs of the Global lakes and Wetlands Database that are connected to the river network. Monthly climate variables were summarized into 19 long-term climatic variables following the ÒbioclimÓ framework.                                                           </td><td>Domisch, S., Amatulli, G., and Jetz, W. (2015) Near-global freshwater-specific environmental variables for biodiversity analyses in 1 km resolution. Scientific Data 2:150073 doi: 10.1038/sdata.2015.73                                </td></tr>\n",
       "</tbody>\n",
       "</table>\n"
      ],
      "text/latex": [
       "A data.frame: 5 × 6\n",
       "\\begin{tabular}{r|llllll}\n",
       "  & dataset\\_code & terrestrial & marine & url & description & citation\\\\\n",
       "  & <chr> & <lgl> & <lgl> & <chr> & <chr> & <chr>\\\\\n",
       "\\hline\n",
       "\t1 & WorldClim  &  TRUE & FALSE & http://www.worldclim.org/        & WorldClim is a set of global climate layers (climate grids). Note that all data has been transformed back to real values, so there is no need to e.g. divide temperature layers by 10.                                                                                                                                                                                                                                                                                                                                                                                                                                                                                                                                                                                                                   & Hijmans, R.J., S.E. Cameron, J.L. Parra, P.G. Jones and A. Jarvis, 2005. Very high resolution interpolated climate surfaces for global land areas. International Journal of Climatology 25: 1965-1978.                                  \\\\\n",
       "\t2 & Bio-ORACLE & FALSE &  TRUE & https://bio-oracle.org/          & Bio-ORACLE is a set of GIS rasters providing geophysical, biotic and environmental data for surface and benthic marine realms at a spatial resolution 5 arcmin (9.2 km) in the ESRI ascii and tif format.                                                                                                                                                                                                                                                                                                                                                                                                                                                                                                                                                                                                & Tyberghein L., Verbruggen H., Pauly K., Troupin C., Mineur F. \\& De Clerck O. Bio-ORACLE: a global environmental dataset for marine species distribution modeling. Global Ecology and Biogeography. doi: 10.1111/j.1466-8238.2011.00656.x\\\\\n",
       "\t3 & MARSPEC    & FALSE &  TRUE & http://marspec.org/              & MARSPEC is a set of high resolution climatic and geophysical GIS data layers for the world ocean. Seven geophysical variables were derived from the SRTM30\\_PLUS high resolution bathymetry dataset.  These layers characterize the horizontal orientation (aspect), slope, and curvature of the seafloor and the distance from shore.  Ten \"bioclimatic\" variables were derived from NOAA's World Ocean Atlas and NASA's MODIS satellite imagery and characterize the inter-annual means, extremes, and variances in sea surface temperature and salinity. These variables will be useful to those interested in the spatial ecology of marine shallow-water and surface-associated pelagic organisms across the globe. Note that, in contrary to the original MARSPEC, all layers have unscaled values. & Sbrocco, EJ and Barber, PH (2013) MARSPEC: Ocean climate layers for marine spatial ecology. Ecology 94: 979. doi: 10.1890/12-1358.1                                                                                                     \\\\\n",
       "\t4 & ENVIREM    &  TRUE & FALSE & https://envirem.github.io/       & The ENVIREM dataset is a set of 16 climatic and 2 topographic variables that can be used in modeling species' distributions. The strengths of this dataset include their close ties to ecological processes, and their availability at a global scale, at several spatial resolutions, and for several time periods. The underlying temperature and precipitation data that went into their construction comes from the WorldClim dataset (www.worldclim.org), and the solar radiation data comes from the Consortium for Spatial Information (www.cgiar-csi.org). The data are compatible with and expand the set of variables from WorldClim v1.4 (www.worldclim.org).                                                                                                                                 & Title, P.O., Bemmels, J.B. 2017. ENVIREM: An expanded set of bioclimatic and topographic variables increases flexibility and improves performance of ecological niche modeling. Ecography doi: 10.1111/ecog.02880.                      \\\\\n",
       "\t5 & Freshwater &  TRUE & FALSE & https://www.earthenv.org/streams & The dataset consists of near-global, spatially continuous, and freshwater-specific environmental variables in a standardized 1km grid. We delineated the sub-catchment for each grid cell along the HydroSHEDS river network and summarized the upstream environment (climate, topography, land cover, surface geology and soil) to each grid cell using various metrics (average, minimum, maximum, range, sum, inverse distance-weighted average and sum). All variables were subsequently averaged across single lakes and reservoirs of the Global lakes and Wetlands Database that are connected to the river network. Monthly climate variables were summarized into 19 long-term climatic variables following the ÒbioclimÓ framework.                                                            & Domisch, S., Amatulli, G., and Jetz, W. (2015) Near-global freshwater-specific environmental variables for biodiversity analyses in 1 km resolution. Scientific Data 2:150073 doi: 10.1038/sdata.2015.73                                \\\\\n",
       "\\end{tabular}\n"
      ],
      "text/markdown": [
       "\n",
       "A data.frame: 5 × 6\n",
       "\n",
       "| <!--/--> | dataset_code &lt;chr&gt; | terrestrial &lt;lgl&gt; | marine &lt;lgl&gt; | url &lt;chr&gt; | description &lt;chr&gt; | citation &lt;chr&gt; |\n",
       "|---|---|---|---|---|---|---|\n",
       "| 1 | WorldClim  |  TRUE | FALSE | http://www.worldclim.org/        | WorldClim is a set of global climate layers (climate grids). Note that all data has been transformed back to real values, so there is no need to e.g. divide temperature layers by 10.                                                                                                                                                                                                                                                                                                                                                                                                                                                                                                                                                                                                                   | Hijmans, R.J., S.E. Cameron, J.L. Parra, P.G. Jones and A. Jarvis, 2005. Very high resolution interpolated climate surfaces for global land areas. International Journal of Climatology 25: 1965-1978.                                   |\n",
       "| 2 | Bio-ORACLE | FALSE |  TRUE | https://bio-oracle.org/          | Bio-ORACLE is a set of GIS rasters providing geophysical, biotic and environmental data for surface and benthic marine realms at a spatial resolution 5 arcmin (9.2 km) in the ESRI ascii and tif format.                                                                                                                                                                                                                                                                                                                                                                                                                                                                                                                                                                                                | Tyberghein L., Verbruggen H., Pauly K., Troupin C., Mineur F. &amp; De Clerck O. Bio-ORACLE: a global environmental dataset for marine species distribution modeling. Global Ecology and Biogeography. doi: 10.1111/j.1466-8238.2011.00656.x |\n",
       "| 3 | MARSPEC    | FALSE |  TRUE | http://marspec.org/              | MARSPEC is a set of high resolution climatic and geophysical GIS data layers for the world ocean. Seven geophysical variables were derived from the SRTM30_PLUS high resolution bathymetry dataset.  These layers characterize the horizontal orientation (aspect), slope, and curvature of the seafloor and the distance from shore.  Ten \"bioclimatic\" variables were derived from NOAA's World Ocean Atlas and NASA's MODIS satellite imagery and characterize the inter-annual means, extremes, and variances in sea surface temperature and salinity. These variables will be useful to those interested in the spatial ecology of marine shallow-water and surface-associated pelagic organisms across the globe. Note that, in contrary to the original MARSPEC, all layers have unscaled values. | Sbrocco, EJ and Barber, PH (2013) MARSPEC: Ocean climate layers for marine spatial ecology. Ecology 94: 979. doi: 10.1890/12-1358.1                                                                                                      |\n",
       "| 4 | ENVIREM    |  TRUE | FALSE | https://envirem.github.io/       | The ENVIREM dataset is a set of 16 climatic and 2 topographic variables that can be used in modeling species' distributions. The strengths of this dataset include their close ties to ecological processes, and their availability at a global scale, at several spatial resolutions, and for several time periods. The underlying temperature and precipitation data that went into their construction comes from the WorldClim dataset (www.worldclim.org), and the solar radiation data comes from the Consortium for Spatial Information (www.cgiar-csi.org). The data are compatible with and expand the set of variables from WorldClim v1.4 (www.worldclim.org).                                                                                                                                 | Title, P.O., Bemmels, J.B. 2017. ENVIREM: An expanded set of bioclimatic and topographic variables increases flexibility and improves performance of ecological niche modeling. Ecography doi: 10.1111/ecog.02880.                       |\n",
       "| 5 | Freshwater |  TRUE | FALSE | https://www.earthenv.org/streams | The dataset consists of near-global, spatially continuous, and freshwater-specific environmental variables in a standardized 1km grid. We delineated the sub-catchment for each grid cell along the HydroSHEDS river network and summarized the upstream environment (climate, topography, land cover, surface geology and soil) to each grid cell using various metrics (average, minimum, maximum, range, sum, inverse distance-weighted average and sum). All variables were subsequently averaged across single lakes and reservoirs of the Global lakes and Wetlands Database that are connected to the river network. Monthly climate variables were summarized into 19 long-term climatic variables following the ÒbioclimÓ framework.                                                            | Domisch, S., Amatulli, G., and Jetz, W. (2015) Near-global freshwater-specific environmental variables for biodiversity analyses in 1 km resolution. Scientific Data 2:150073 doi: 10.1038/sdata.2015.73                                 |\n",
       "\n"
      ],
      "text/plain": [
       "  dataset_code terrestrial marine url                             \n",
       "1 WorldClim     TRUE       FALSE  http://www.worldclim.org/       \n",
       "2 Bio-ORACLE   FALSE        TRUE  https://bio-oracle.org/         \n",
       "3 MARSPEC      FALSE        TRUE  http://marspec.org/             \n",
       "4 ENVIREM       TRUE       FALSE  https://envirem.github.io/      \n",
       "5 Freshwater    TRUE       FALSE  https://www.earthenv.org/streams\n",
       "  description                                                                                                                                                                                                                                                                                                                                                                                                                                                                                                                                                                                                                                                                                                                                                                                             \n",
       "1 WorldClim is a set of global climate layers (climate grids). Note that all data has been transformed back to real values, so there is no need to e.g. divide temperature layers by 10.                                                                                                                                                                                                                                                                                                                                                                                                                                                                                                                                                                                                                  \n",
       "2 Bio-ORACLE is a set of GIS rasters providing geophysical, biotic and environmental data for surface and benthic marine realms at a spatial resolution 5 arcmin (9.2 km) in the ESRI ascii and tif format.                                                                                                                                                                                                                                                                                                                                                                                                                                                                                                                                                                                               \n",
       "3 MARSPEC is a set of high resolution climatic and geophysical GIS data layers for the world ocean. Seven geophysical variables were derived from the SRTM30_PLUS high resolution bathymetry dataset.  These layers characterize the horizontal orientation (aspect), slope, and curvature of the seafloor and the distance from shore.  Ten \"bioclimatic\" variables were derived from NOAA's World Ocean Atlas and NASA's MODIS satellite imagery and characterize the inter-annual means, extremes, and variances in sea surface temperature and salinity. These variables will be useful to those interested in the spatial ecology of marine shallow-water and surface-associated pelagic organisms across the globe. Note that, in contrary to the original MARSPEC, all layers have unscaled values.\n",
       "4 The ENVIREM dataset is a set of 16 climatic and 2 topographic variables that can be used in modeling species' distributions. The strengths of this dataset include their close ties to ecological processes, and their availability at a global scale, at several spatial resolutions, and for several time periods. The underlying temperature and precipitation data that went into their construction comes from the WorldClim dataset (www.worldclim.org), and the solar radiation data comes from the Consortium for Spatial Information (www.cgiar-csi.org). The data are compatible with and expand the set of variables from WorldClim v1.4 (www.worldclim.org).                                                                                                                                \n",
       "5 The dataset consists of near-global, spatially continuous, and freshwater-specific environmental variables in a standardized 1km grid. We delineated the sub-catchment for each grid cell along the HydroSHEDS river network and summarized the upstream environment (climate, topography, land cover, surface geology and soil) to each grid cell using various metrics (average, minimum, maximum, range, sum, inverse distance-weighted average and sum). All variables were subsequently averaged across single lakes and reservoirs of the Global lakes and Wetlands Database that are connected to the river network. Monthly climate variables were summarized into 19 long-term climatic variables following the ÒbioclimÓ framework.                                                           \n",
       "  citation                                                                                                                                                                                                                                \n",
       "1 Hijmans, R.J., S.E. Cameron, J.L. Parra, P.G. Jones and A. Jarvis, 2005. Very high resolution interpolated climate surfaces for global land areas. International Journal of Climatology 25: 1965-1978.                                  \n",
       "2 Tyberghein L., Verbruggen H., Pauly K., Troupin C., Mineur F. & De Clerck O. Bio-ORACLE: a global environmental dataset for marine species distribution modeling. Global Ecology and Biogeography. doi: 10.1111/j.1466-8238.2011.00656.x\n",
       "3 Sbrocco, EJ and Barber, PH (2013) MARSPEC: Ocean climate layers for marine spatial ecology. Ecology 94: 979. doi: 10.1890/12-1358.1                                                                                                     \n",
       "4 Title, P.O., Bemmels, J.B. 2017. ENVIREM: An expanded set of bioclimatic and topographic variables increases flexibility and improves performance of ecological niche modeling. Ecography doi: 10.1111/ecog.02880.                      \n",
       "5 Domisch, S., Amatulli, G., and Jetz, W. (2015) Near-global freshwater-specific environmental variables for biodiversity analyses in 1 km resolution. Scientific Data 2:150073 doi: 10.1038/sdata.2015.73                                "
      ]
     },
     "metadata": {},
     "output_type": "display_data"
    }
   ],
   "source": [
    "sdm_datasets"
   ]
  },
  {
   "cell_type": "code",
   "execution_count": 17,
   "id": "91a48e11",
   "metadata": {},
   "outputs": [
    {
     "data": {
      "text/html": [
       "<style>\n",
       ".list-inline {list-style: none; margin:0; padding: 0}\n",
       ".list-inline>li {display: inline-block}\n",
       ".list-inline>li:not(:last-child)::after {content: \"\\00b7\"; padding: 0 .5ex}\n",
       "</style>\n",
       "<ol class=list-inline><li>'WorldClim'</li><li>'Bio-ORACLE'</li><li>'MARSPEC'</li><li>'ENVIREM'</li><li>'Freshwater'</li></ol>\n"
      ],
      "text/latex": [
       "\\begin{enumerate*}\n",
       "\\item 'WorldClim'\n",
       "\\item 'Bio-ORACLE'\n",
       "\\item 'MARSPEC'\n",
       "\\item 'ENVIREM'\n",
       "\\item 'Freshwater'\n",
       "\\end{enumerate*}\n"
      ],
      "text/markdown": [
       "1. 'WorldClim'\n",
       "2. 'Bio-ORACLE'\n",
       "3. 'MARSPEC'\n",
       "4. 'ENVIREM'\n",
       "5. 'Freshwater'\n",
       "\n",
       "\n"
      ],
      "text/plain": [
       "[1] \"WorldClim\"  \"Bio-ORACLE\" \"MARSPEC\"    \"ENVIREM\"    \"Freshwater\""
      ]
     },
     "metadata": {},
     "output_type": "display_data"
    }
   ],
   "source": [
    "sdm_datasets$dataset_code"
   ]
  },
  {
   "cell_type": "code",
   "execution_count": 18,
   "id": "9cca1323",
   "metadata": {},
   "outputs": [],
   "source": [
    "environmental_layers <- sdmpredictors::list_layers(sdm_datasets)"
   ]
  },
  {
   "cell_type": "code",
   "execution_count": 19,
   "id": "79a8ea2d",
   "metadata": {},
   "outputs": [],
   "source": [
    "ref_layer = sdmpredictors::list_layers(sdm_datasets)"
   ]
  },
  {
   "cell_type": "code",
   "execution_count": 20,
   "id": "11b90824",
   "metadata": {
    "scrolled": true
   },
   "outputs": [
    {
     "data": {
      "text/html": [
       "<style>\n",
       ".list-inline {list-style: none; margin:0; padding: 0}\n",
       ".list-inline>li {display: inline-block}\n",
       ".list-inline>li:not(:last-child)::after {content: \"\\00b7\"; padding: 0 .5ex}\n",
       "</style>\n",
       "<ol class=list-inline><li>'dataset_code'</li><li>'layer_code'</li><li>'name'</li><li>'description'</li><li>'terrestrial'</li><li>'marine'</li><li>'freshwater'</li><li>'cellsize_equalarea'</li><li>'cellsize_lonlat'</li><li>'units'</li><li>'primary_type'</li><li>'primary_spatial_resolution'</li><li>'primary_source'</li><li>'start_year'</li><li>'start_month'</li><li>'start_day'</li><li>'end_year'</li><li>'end_month'</li><li>'end_day'</li><li>'derivation'</li><li>'month'</li><li>'is_surface'</li><li>'version'</li><li>'layer_url'</li></ol>\n"
      ],
      "text/latex": [
       "\\begin{enumerate*}\n",
       "\\item 'dataset\\_code'\n",
       "\\item 'layer\\_code'\n",
       "\\item 'name'\n",
       "\\item 'description'\n",
       "\\item 'terrestrial'\n",
       "\\item 'marine'\n",
       "\\item 'freshwater'\n",
       "\\item 'cellsize\\_equalarea'\n",
       "\\item 'cellsize\\_lonlat'\n",
       "\\item 'units'\n",
       "\\item 'primary\\_type'\n",
       "\\item 'primary\\_spatial\\_resolution'\n",
       "\\item 'primary\\_source'\n",
       "\\item 'start\\_year'\n",
       "\\item 'start\\_month'\n",
       "\\item 'start\\_day'\n",
       "\\item 'end\\_year'\n",
       "\\item 'end\\_month'\n",
       "\\item 'end\\_day'\n",
       "\\item 'derivation'\n",
       "\\item 'month'\n",
       "\\item 'is\\_surface'\n",
       "\\item 'version'\n",
       "\\item 'layer\\_url'\n",
       "\\end{enumerate*}\n"
      ],
      "text/markdown": [
       "1. 'dataset_code'\n",
       "2. 'layer_code'\n",
       "3. 'name'\n",
       "4. 'description'\n",
       "5. 'terrestrial'\n",
       "6. 'marine'\n",
       "7. 'freshwater'\n",
       "8. 'cellsize_equalarea'\n",
       "9. 'cellsize_lonlat'\n",
       "10. 'units'\n",
       "11. 'primary_type'\n",
       "12. 'primary_spatial_resolution'\n",
       "13. 'primary_source'\n",
       "14. 'start_year'\n",
       "15. 'start_month'\n",
       "16. 'start_day'\n",
       "17. 'end_year'\n",
       "18. 'end_month'\n",
       "19. 'end_day'\n",
       "20. 'derivation'\n",
       "21. 'month'\n",
       "22. 'is_surface'\n",
       "23. 'version'\n",
       "24. 'layer_url'\n",
       "\n",
       "\n"
      ],
      "text/plain": [
       " [1] \"dataset_code\"               \"layer_code\"                \n",
       " [3] \"name\"                       \"description\"               \n",
       " [5] \"terrestrial\"                \"marine\"                    \n",
       " [7] \"freshwater\"                 \"cellsize_equalarea\"        \n",
       " [9] \"cellsize_lonlat\"            \"units\"                     \n",
       "[11] \"primary_type\"               \"primary_spatial_resolution\"\n",
       "[13] \"primary_source\"             \"start_year\"                \n",
       "[15] \"start_month\"                \"start_day\"                 \n",
       "[17] \"end_year\"                   \"end_month\"                 \n",
       "[19] \"end_day\"                    \"derivation\"                \n",
       "[21] \"month\"                      \"is_surface\"                \n",
       "[23] \"version\"                    \"layer_url\"                 "
      ]
     },
     "metadata": {},
     "output_type": "display_data"
    }
   ],
   "source": [
    "colnames(environmental_layers)"
   ]
  },
  {
   "cell_type": "code",
   "execution_count": 21,
   "id": "b66502d5",
   "metadata": {
    "slideshow": {
     "slide_type": "skip"
    }
   },
   "outputs": [],
   "source": [
    "WorldClim_list <- environmental_layers %>% dplyr::filter(is.na(month)) %>% dplyr::filter(dataset_code == \"WorldClim\") \n",
    "MARSPEC_list <- environmental_layers %>% dplyr::filter(is.na(month)) %>% dplyr::filter(dataset_code == \"MARSPEC\") "
   ]
  },
  {
   "cell_type": "code",
   "execution_count": 22,
   "id": "ec684690",
   "metadata": {
    "slideshow": {
     "slide_type": "skip"
    }
   },
   "outputs": [],
   "source": [
    "WorldClim_layers <- sdmpredictors::load_layers(layercodes =  WorldClim_list$layer_code, equalarea=FALSE, rasterstack=TRUE)\n",
    "MARSPEC_layers <- sdmpredictors::load_layers(layercodes =  MARSPEC_list$layer_code, equalarea=FALSE, rasterstack=TRUE)"
   ]
  },
  {
   "cell_type": "code",
   "execution_count": 23,
   "id": "63e46d32",
   "metadata": {},
   "outputs": [],
   "source": [
    "ZA_extent <- raster::extent(10, 40, -37, -22)\n",
    "WorldClim_cropped <- raster::crop(WorldClim_layers, ZA_extent) \n",
    "MARSPEC_cropped <- raster::crop(MARSPEC_layers, ZA_extent)  "
   ]
  },
  {
   "cell_type": "code",
   "execution_count": 24,
   "id": "b258628c",
   "metadata": {},
   "outputs": [
    {
     "data": {
      "text/html": [
       "<table class=\"dataframe\">\n",
       "<caption>A data.frame: 12 × 6</caption>\n",
       "<thead>\n",
       "\t<tr><th scope=col>estuary</th><th scope=col>Site</th><th scope=col>x</th><th scope=col>y</th><th scope=col>date</th><th scope=col>Biogeographical_region</th></tr>\n",
       "\t<tr><th scope=col>&lt;chr&gt;</th><th scope=col>&lt;chr&gt;</th><th scope=col>&lt;dbl&gt;</th><th scope=col>&lt;dbl&gt;</th><th scope=col>&lt;chr&gt;</th><th scope=col>&lt;chr&gt;</th></tr>\n",
       "</thead>\n",
       "<tbody>\n",
       "\t<tr><td>Berg     </td><td>Upper</td><td>18.19648</td><td>-32.81314</td><td>18 06 2021</td><td>Cool Temperate</td></tr>\n",
       "\t<tr><td>Berg     </td><td>Lower</td><td>18.14189</td><td>-32.77216</td><td>18 06 2021</td><td>Cool Temperate</td></tr>\n",
       "\t<tr><td>Breede   </td><td>Lower</td><td>20.84452</td><td>-34.39693</td><td>25 06 2021</td><td>Warm temperate</td></tr>\n",
       "\t<tr><td>Breede   </td><td>Upper</td><td>20.80405</td><td>-34.40552</td><td>25 06 2021</td><td>Warm temperate</td></tr>\n",
       "\t<tr><td>Knysna   </td><td>Upper</td><td>23.05105</td><td>-34.06119</td><td>30 05 2021</td><td>Warm temperate</td></tr>\n",
       "\t<tr><td>Knysna   </td><td>Lower</td><td>22.99216</td><td>-34.03369</td><td>30 05 2021</td><td>Warm temperate</td></tr>\n",
       "\t<tr><td>Olifants </td><td>Lower</td><td>18.18882</td><td>-31.69302</td><td>05 07 2021</td><td>Cool Temperate</td></tr>\n",
       "\t<tr><td>Olifants </td><td>Upper</td><td>18.19545</td><td>-31.66071</td><td>05 07 2021</td><td>Cool Temperate</td></tr>\n",
       "\t<tr><td>Swartkops</td><td>Lower</td><td>25.59069</td><td>-33.83784</td><td>25 05 2021</td><td>Warm temperate</td></tr>\n",
       "\t<tr><td>Swartkops</td><td>Upper</td><td>25.62139</td><td>-33.86114</td><td>25 05 2021</td><td>Warm temperate</td></tr>\n",
       "\t<tr><td>Mngazana </td><td>Upper</td><td>29.42223</td><td>-31.69004</td><td>11 10 2021</td><td>Subtropical   </td></tr>\n",
       "\t<tr><td>Mngazana </td><td>Lower</td><td>29.41853</td><td>-31.68501</td><td>11 10 2021</td><td>Subtropical   </td></tr>\n",
       "</tbody>\n",
       "</table>\n"
      ],
      "text/latex": [
       "A data.frame: 12 × 6\n",
       "\\begin{tabular}{llllll}\n",
       " estuary & Site & x & y & date & Biogeographical\\_region\\\\\n",
       " <chr> & <chr> & <dbl> & <dbl> & <chr> & <chr>\\\\\n",
       "\\hline\n",
       "\t Berg      & Upper & 18.19648 & -32.81314 & 18 06 2021 & Cool Temperate\\\\\n",
       "\t Berg      & Lower & 18.14189 & -32.77216 & 18 06 2021 & Cool Temperate\\\\\n",
       "\t Breede    & Lower & 20.84452 & -34.39693 & 25 06 2021 & Warm temperate\\\\\n",
       "\t Breede    & Upper & 20.80405 & -34.40552 & 25 06 2021 & Warm temperate\\\\\n",
       "\t Knysna    & Upper & 23.05105 & -34.06119 & 30 05 2021 & Warm temperate\\\\\n",
       "\t Knysna    & Lower & 22.99216 & -34.03369 & 30 05 2021 & Warm temperate\\\\\n",
       "\t Olifants  & Lower & 18.18882 & -31.69302 & 05 07 2021 & Cool Temperate\\\\\n",
       "\t Olifants  & Upper & 18.19545 & -31.66071 & 05 07 2021 & Cool Temperate\\\\\n",
       "\t Swartkops & Lower & 25.59069 & -33.83784 & 25 05 2021 & Warm temperate\\\\\n",
       "\t Swartkops & Upper & 25.62139 & -33.86114 & 25 05 2021 & Warm temperate\\\\\n",
       "\t Mngazana  & Upper & 29.42223 & -31.69004 & 11 10 2021 & Subtropical   \\\\\n",
       "\t Mngazana  & Lower & 29.41853 & -31.68501 & 11 10 2021 & Subtropical   \\\\\n",
       "\\end{tabular}\n"
      ],
      "text/markdown": [
       "\n",
       "A data.frame: 12 × 6\n",
       "\n",
       "| estuary &lt;chr&gt; | Site &lt;chr&gt; | x &lt;dbl&gt; | y &lt;dbl&gt; | date &lt;chr&gt; | Biogeographical_region &lt;chr&gt; |\n",
       "|---|---|---|---|---|---|\n",
       "| Berg      | Upper | 18.19648 | -32.81314 | 18 06 2021 | Cool Temperate |\n",
       "| Berg      | Lower | 18.14189 | -32.77216 | 18 06 2021 | Cool Temperate |\n",
       "| Breede    | Lower | 20.84452 | -34.39693 | 25 06 2021 | Warm temperate |\n",
       "| Breede    | Upper | 20.80405 | -34.40552 | 25 06 2021 | Warm temperate |\n",
       "| Knysna    | Upper | 23.05105 | -34.06119 | 30 05 2021 | Warm temperate |\n",
       "| Knysna    | Lower | 22.99216 | -34.03369 | 30 05 2021 | Warm temperate |\n",
       "| Olifants  | Lower | 18.18882 | -31.69302 | 05 07 2021 | Cool Temperate |\n",
       "| Olifants  | Upper | 18.19545 | -31.66071 | 05 07 2021 | Cool Temperate |\n",
       "| Swartkops | Lower | 25.59069 | -33.83784 | 25 05 2021 | Warm temperate |\n",
       "| Swartkops | Upper | 25.62139 | -33.86114 | 25 05 2021 | Warm temperate |\n",
       "| Mngazana  | Upper | 29.42223 | -31.69004 | 11 10 2021 | Subtropical    |\n",
       "| Mngazana  | Lower | 29.41853 | -31.68501 | 11 10 2021 | Subtropical    |\n",
       "\n"
      ],
      "text/plain": [
       "   estuary   Site  x        y         date       Biogeographical_region\n",
       "1  Berg      Upper 18.19648 -32.81314 18 06 2021 Cool Temperate        \n",
       "2  Berg      Lower 18.14189 -32.77216 18 06 2021 Cool Temperate        \n",
       "3  Breede    Lower 20.84452 -34.39693 25 06 2021 Warm temperate        \n",
       "4  Breede    Upper 20.80405 -34.40552 25 06 2021 Warm temperate        \n",
       "5  Knysna    Upper 23.05105 -34.06119 30 05 2021 Warm temperate        \n",
       "6  Knysna    Lower 22.99216 -34.03369 30 05 2021 Warm temperate        \n",
       "7  Olifants  Lower 18.18882 -31.69302 05 07 2021 Cool Temperate        \n",
       "8  Olifants  Upper 18.19545 -31.66071 05 07 2021 Cool Temperate        \n",
       "9  Swartkops Lower 25.59069 -33.83784 25 05 2021 Warm temperate        \n",
       "10 Swartkops Upper 25.62139 -33.86114 25 05 2021 Warm temperate        \n",
       "11 Mngazana  Upper 29.42223 -31.69004 11 10 2021 Subtropical           \n",
       "12 Mngazana  Lower 29.41853 -31.68501 11 10 2021 Subtropical           "
      ]
     },
     "metadata": {},
     "output_type": "display_data"
    }
   ],
   "source": [
    "Bluecarbon_sites"
   ]
  },
  {
   "cell_type": "code",
   "execution_count": 25,
   "id": "0de6047e",
   "metadata": {},
   "outputs": [],
   "source": [
    "WC_alt_layer <- WorldClim_cropped[[1]]\n",
    "#env_layers_raw  <- stack(WorldClim_cropped, MARSPEC_cropped)\n",
    "env_layers <-resample(WorldClim_cropped, WC_alt_layer, method = \"ngb\") "
   ]
  },
  {
   "cell_type": "code",
   "execution_count": 26,
   "id": "f734afcc",
   "metadata": {},
   "outputs": [],
   "source": [
    "# t <- extent(-180, 180, -90, 90) #layer extent from terrestrial stack\n",
    "# m <- extent(-180, 180, -90, 90) #layer extent from marine stack\n",
    "# #no need to edit the following 6 lines\n",
    "# extent_list<-list(t, m)\n",
    "# extent_list<-lapply(extent_list, as.matrix)\n",
    "# matrix_extent<-matrix(unlist(extent_list), ncol=length(extent_list))\n",
    "# rownames(matrix_extent)<-c(\"xmin\", \"ymin\", \"xmax\", \"ymax\")\n",
    "# best_extent<-extent(min(matrix_extent[1,]), max(matrix_extent[3,]), min(matrix_extent[2,]), max(matrix_extent[4,]))\n",
    "# ranges<-apply(as.matrix(best_extent), 1, diff)\n",
    "# reso <- res(WorldClim_cropped) #choose layer you want to keep resolution\n",
    "# nrow_ncol <-ranges/reso\n",
    "# raster_ref <-raster(best_extent, nrows=nrow_ncol[2], ncols=nrow_ncol[1], crs = WorldClim_layers@crs) #choose layer crs you want to keep"
   ]
  },
  {
   "cell_type": "code",
   "execution_count": 27,
   "id": "57b71b4a",
   "metadata": {
    "scrolled": false
   },
   "outputs": [
    {
     "data": {
      "text/html": [
       "<style>\n",
       ".list-inline {list-style: none; margin:0; padding: 0}\n",
       ".list-inline>li {display: inline-block}\n",
       ".list-inline>li:not(:last-child)::after {content: \"\\00b7\"; padding: 0 .5ex}\n",
       "</style>\n",
       "<ol class=list-inline><li>'WC_alt'</li><li>'WC_bio1'</li><li>'WC_bio2'</li><li>'WC_bio3'</li><li>'WC_bio4'</li><li>'WC_bio5'</li><li>'WC_bio6'</li><li>'WC_bio7'</li><li>'WC_bio8'</li><li>'WC_bio9'</li><li>'WC_bio10'</li><li>'WC_bio11'</li><li>'WC_bio12'</li><li>'WC_bio13'</li><li>'WC_bio14'</li><li>'WC_bio15'</li><li>'WC_bio16'</li><li>'WC_bio17'</li><li>'WC_bio18'</li><li>'WC_bio19'</li></ol>\n"
      ],
      "text/latex": [
       "\\begin{enumerate*}\n",
       "\\item 'WC\\_alt'\n",
       "\\item 'WC\\_bio1'\n",
       "\\item 'WC\\_bio2'\n",
       "\\item 'WC\\_bio3'\n",
       "\\item 'WC\\_bio4'\n",
       "\\item 'WC\\_bio5'\n",
       "\\item 'WC\\_bio6'\n",
       "\\item 'WC\\_bio7'\n",
       "\\item 'WC\\_bio8'\n",
       "\\item 'WC\\_bio9'\n",
       "\\item 'WC\\_bio10'\n",
       "\\item 'WC\\_bio11'\n",
       "\\item 'WC\\_bio12'\n",
       "\\item 'WC\\_bio13'\n",
       "\\item 'WC\\_bio14'\n",
       "\\item 'WC\\_bio15'\n",
       "\\item 'WC\\_bio16'\n",
       "\\item 'WC\\_bio17'\n",
       "\\item 'WC\\_bio18'\n",
       "\\item 'WC\\_bio19'\n",
       "\\end{enumerate*}\n"
      ],
      "text/markdown": [
       "1. 'WC_alt'\n",
       "2. 'WC_bio1'\n",
       "3. 'WC_bio2'\n",
       "4. 'WC_bio3'\n",
       "5. 'WC_bio4'\n",
       "6. 'WC_bio5'\n",
       "7. 'WC_bio6'\n",
       "8. 'WC_bio7'\n",
       "9. 'WC_bio8'\n",
       "10. 'WC_bio9'\n",
       "11. 'WC_bio10'\n",
       "12. 'WC_bio11'\n",
       "13. 'WC_bio12'\n",
       "14. 'WC_bio13'\n",
       "15. 'WC_bio14'\n",
       "16. 'WC_bio15'\n",
       "17. 'WC_bio16'\n",
       "18. 'WC_bio17'\n",
       "19. 'WC_bio18'\n",
       "20. 'WC_bio19'\n",
       "\n",
       "\n"
      ],
      "text/plain": [
       " [1] \"WC_alt\"   \"WC_bio1\"  \"WC_bio2\"  \"WC_bio3\"  \"WC_bio4\"  \"WC_bio5\" \n",
       " [7] \"WC_bio6\"  \"WC_bio7\"  \"WC_bio8\"  \"WC_bio9\"  \"WC_bio10\" \"WC_bio11\"\n",
       "[13] \"WC_bio12\" \"WC_bio13\" \"WC_bio14\" \"WC_bio15\" \"WC_bio16\" \"WC_bio17\"\n",
       "[19] \"WC_bio18\" \"WC_bio19\""
      ]
     },
     "metadata": {},
     "output_type": "display_data"
    }
   ],
   "source": [
    "envs_data <- as.data.frame(raster::extract(env_layers, ZAF_bluecarbon_raw[c(\"x\", \"y\")]))\n",
    "colnames(envs_data)"
   ]
  },
  {
   "cell_type": "code",
   "execution_count": 28,
   "id": "d04614c9",
   "metadata": {},
   "outputs": [],
   "source": [
    "envs_df <- as.data.frame(envs_data)"
   ]
  },
  {
   "cell_type": "code",
   "execution_count": 29,
   "id": "bbed40e2",
   "metadata": {},
   "outputs": [],
   "source": [
    "pca1 <- dudi.pca(envs_data, \n",
    "                 scannf = F, \n",
    "                 nf = 2)"
   ]
  },
  {
   "cell_type": "code",
   "execution_count": 30,
   "id": "63560f3d",
   "metadata": {},
   "outputs": [
    {
     "name": "stdout",
     "output_type": "stream",
     "text": [
      "'data.frame':\t47 obs. of  2 variables:\n",
      " $ Axis1: num  -2.78 -2.78 -2.78 -2.78 -3.27 ...\n",
      " $ Axis2: num  -0.74 -0.74 -0.74 -0.74 -0.881 ...\n"
     ]
    }
   ],
   "source": [
    "str(pca1$li[,1:2])"
   ]
  },
  {
   "cell_type": "code",
   "execution_count": 31,
   "id": "39124b54",
   "metadata": {},
   "outputs": [
    {
     "data": {
      "image/png": "[encoded data removed]",
      "text/plain": [
       "plot without title"
      ]
     },
     "metadata": {
      "image/png": {
       "height": 420,
       "width": 420
      }
     },
     "output_type": "display_data"
    }
   ],
   "source": [
    "s.corcircle(pca1$co)"
   ]
  },
  {
   "cell_type": "code",
   "execution_count": 32,
   "id": "8ed41db0",
   "metadata": {
    "scrolled": false
   },
   "outputs": [],
   "source": [
    "worldclim_ref <- environmental_layers[environmental_layers$layer_code %in% colnames(envs_data), c(\"layer_code\",\"name\",\"description\", \"start_year\",\"end_year\")]"
   ]
  },
  {
   "cell_type": "code",
   "execution_count": 33,
   "id": "ce524c7a",
   "metadata": {},
   "outputs": [
    {
     "data": {
      "text/html": [
       "<style>\n",
       ".list-inline {list-style: none; margin:0; padding: 0}\n",
       ".list-inline>li {display: inline-block}\n",
       ".list-inline>li:not(:last-child)::after {content: \"\\00b7\"; padding: 0 .5ex}\n",
       "</style>\n",
       "<ol class=list-inline><li>'dataset_code'</li><li>'layer_code'</li><li>'name'</li><li>'description'</li><li>'terrestrial'</li><li>'marine'</li><li>'freshwater'</li><li>'cellsize_equalarea'</li><li>'cellsize_lonlat'</li><li>'units'</li><li>'primary_type'</li><li>'primary_spatial_resolution'</li><li>'primary_source'</li><li>'start_year'</li><li>'start_month'</li><li>'start_day'</li><li>'end_year'</li><li>'end_month'</li><li>'end_day'</li><li>'derivation'</li><li>'month'</li><li>'is_surface'</li><li>'version'</li><li>'layer_url'</li></ol>\n"
      ],
      "text/latex": [
       "\\begin{enumerate*}\n",
       "\\item 'dataset\\_code'\n",
       "\\item 'layer\\_code'\n",
       "\\item 'name'\n",
       "\\item 'description'\n",
       "\\item 'terrestrial'\n",
       "\\item 'marine'\n",
       "\\item 'freshwater'\n",
       "\\item 'cellsize\\_equalarea'\n",
       "\\item 'cellsize\\_lonlat'\n",
       "\\item 'units'\n",
       "\\item 'primary\\_type'\n",
       "\\item 'primary\\_spatial\\_resolution'\n",
       "\\item 'primary\\_source'\n",
       "\\item 'start\\_year'\n",
       "\\item 'start\\_month'\n",
       "\\item 'start\\_day'\n",
       "\\item 'end\\_year'\n",
       "\\item 'end\\_month'\n",
       "\\item 'end\\_day'\n",
       "\\item 'derivation'\n",
       "\\item 'month'\n",
       "\\item 'is\\_surface'\n",
       "\\item 'version'\n",
       "\\item 'layer\\_url'\n",
       "\\end{enumerate*}\n"
      ],
      "text/markdown": [
       "1. 'dataset_code'\n",
       "2. 'layer_code'\n",
       "3. 'name'\n",
       "4. 'description'\n",
       "5. 'terrestrial'\n",
       "6. 'marine'\n",
       "7. 'freshwater'\n",
       "8. 'cellsize_equalarea'\n",
       "9. 'cellsize_lonlat'\n",
       "10. 'units'\n",
       "11. 'primary_type'\n",
       "12. 'primary_spatial_resolution'\n",
       "13. 'primary_source'\n",
       "14. 'start_year'\n",
       "15. 'start_month'\n",
       "16. 'start_day'\n",
       "17. 'end_year'\n",
       "18. 'end_month'\n",
       "19. 'end_day'\n",
       "20. 'derivation'\n",
       "21. 'month'\n",
       "22. 'is_surface'\n",
       "23. 'version'\n",
       "24. 'layer_url'\n",
       "\n",
       "\n"
      ],
      "text/plain": [
       " [1] \"dataset_code\"               \"layer_code\"                \n",
       " [3] \"name\"                       \"description\"               \n",
       " [5] \"terrestrial\"                \"marine\"                    \n",
       " [7] \"freshwater\"                 \"cellsize_equalarea\"        \n",
       " [9] \"cellsize_lonlat\"            \"units\"                     \n",
       "[11] \"primary_type\"               \"primary_spatial_resolution\"\n",
       "[13] \"primary_source\"             \"start_year\"                \n",
       "[15] \"start_month\"                \"start_day\"                 \n",
       "[17] \"end_year\"                   \"end_month\"                 \n",
       "[19] \"end_day\"                    \"derivation\"                \n",
       "[21] \"month\"                      \"is_surface\"                \n",
       "[23] \"version\"                    \"layer_url\"                 "
      ]
     },
     "metadata": {},
     "output_type": "display_data"
    }
   ],
   "source": [
    "colnames(environmental_layers)"
   ]
  },
  {
   "cell_type": "code",
   "execution_count": 34,
   "id": "41ccce91",
   "metadata": {},
   "outputs": [
    {
     "data": {
      "text/html": [
       "<style>\n",
       ".list-inline {list-style: none; margin:0; padding: 0}\n",
       ".list-inline>li {display: inline-block}\n",
       ".list-inline>li:not(:last-child)::after {content: \"\\00b7\"; padding: 0 .5ex}\n",
       "</style>\n",
       "<ol class=list-inline><li>'WC_alt'</li><li>'WC_bio1'</li><li>'WC_bio2'</li><li>'WC_bio3'</li><li>'WC_bio4'</li><li>'WC_bio5'</li><li>'WC_bio6'</li><li>'WC_bio7'</li><li>'WC_bio8'</li><li>'WC_bio9'</li><li>'WC_bio10'</li><li>'WC_bio11'</li><li>'WC_bio12'</li><li>'WC_bio13'</li><li>'WC_bio14'</li><li>'WC_bio15'</li><li>'WC_bio16'</li><li>'WC_bio17'</li><li>'WC_bio18'</li><li>'WC_bio19'</li></ol>\n"
      ],
      "text/latex": [
       "\\begin{enumerate*}\n",
       "\\item 'WC\\_alt'\n",
       "\\item 'WC\\_bio1'\n",
       "\\item 'WC\\_bio2'\n",
       "\\item 'WC\\_bio3'\n",
       "\\item 'WC\\_bio4'\n",
       "\\item 'WC\\_bio5'\n",
       "\\item 'WC\\_bio6'\n",
       "\\item 'WC\\_bio7'\n",
       "\\item 'WC\\_bio8'\n",
       "\\item 'WC\\_bio9'\n",
       "\\item 'WC\\_bio10'\n",
       "\\item 'WC\\_bio11'\n",
       "\\item 'WC\\_bio12'\n",
       "\\item 'WC\\_bio13'\n",
       "\\item 'WC\\_bio14'\n",
       "\\item 'WC\\_bio15'\n",
       "\\item 'WC\\_bio16'\n",
       "\\item 'WC\\_bio17'\n",
       "\\item 'WC\\_bio18'\n",
       "\\item 'WC\\_bio19'\n",
       "\\end{enumerate*}\n"
      ],
      "text/markdown": [
       "1. 'WC_alt'\n",
       "2. 'WC_bio1'\n",
       "3. 'WC_bio2'\n",
       "4. 'WC_bio3'\n",
       "5. 'WC_bio4'\n",
       "6. 'WC_bio5'\n",
       "7. 'WC_bio6'\n",
       "8. 'WC_bio7'\n",
       "9. 'WC_bio8'\n",
       "10. 'WC_bio9'\n",
       "11. 'WC_bio10'\n",
       "12. 'WC_bio11'\n",
       "13. 'WC_bio12'\n",
       "14. 'WC_bio13'\n",
       "15. 'WC_bio14'\n",
       "16. 'WC_bio15'\n",
       "17. 'WC_bio16'\n",
       "18. 'WC_bio17'\n",
       "19. 'WC_bio18'\n",
       "20. 'WC_bio19'\n",
       "\n",
       "\n"
      ],
      "text/plain": [
       " [1] \"WC_alt\"   \"WC_bio1\"  \"WC_bio2\"  \"WC_bio3\"  \"WC_bio4\"  \"WC_bio5\" \n",
       " [7] \"WC_bio6\"  \"WC_bio7\"  \"WC_bio8\"  \"WC_bio9\"  \"WC_bio10\" \"WC_bio11\"\n",
       "[13] \"WC_bio12\" \"WC_bio13\" \"WC_bio14\" \"WC_bio15\" \"WC_bio16\" \"WC_bio17\"\n",
       "[19] \"WC_bio18\" \"WC_bio19\""
      ]
     },
     "metadata": {},
     "output_type": "display_data"
    }
   ],
   "source": [
    "colnames(envs_data)"
   ]
  },
  {
   "cell_type": "code",
   "execution_count": 35,
   "id": "7578c15f",
   "metadata": {},
   "outputs": [],
   "source": [
    "worldclim_cor <- layers_correlation(colnames(envs_data))"
   ]
  },
  {
   "cell_type": "code",
   "execution_count": 36,
   "id": "c265d9e9",
   "metadata": {},
   "outputs": [],
   "source": [
    "high_cor <- findCorrelation(worldclim_cor, cutoff = .6, exact = FALSE, names = TRUE)\n",
    "#worldclim_ref[worldclim_ref$layer_code %in% high_cor,]"
   ]
  },
  {
   "cell_type": "code",
   "execution_count": 37,
   "id": "b9e2abbd",
   "metadata": {},
   "outputs": [],
   "source": [
    "`%nin%` <- Negate(`%in%`)"
   ]
  },
  {
   "cell_type": "code",
   "execution_count": 38,
   "id": "c3d4a652",
   "metadata": {},
   "outputs": [],
   "source": [
    "worldclim_best <- worldclim_ref$layer_code[worldclim_ref$layer_code %nin% high_cor]\n",
    "#worldclim_ref[worldclim_ref$layer_code %in% worldclim_best,]"
   ]
  },
  {
   "cell_type": "code",
   "execution_count": 39,
   "id": "90b5e36b",
   "metadata": {},
   "outputs": [
    {
     "data": {
      "text/html": [
       "<style>\n",
       ".list-inline {list-style: none; margin:0; padding: 0}\n",
       ".list-inline>li {display: inline-block}\n",
       ".list-inline>li:not(:last-child)::after {content: \"\\00b7\"; padding: 0 .5ex}\n",
       "</style>\n",
       "<ol class=list-inline><li>'Altitude'</li><li>'Mean diurnal temperature range'</li><li>'Maximum temperature'</li><li>'Precipitation of driest month'</li><li>'Precipitation seasonality'</li><li>'Precipitation of warmest quarter'</li></ol>\n"
      ],
      "text/latex": [
       "\\begin{enumerate*}\n",
       "\\item 'Altitude'\n",
       "\\item 'Mean diurnal temperature range'\n",
       "\\item 'Maximum temperature'\n",
       "\\item 'Precipitation of driest month'\n",
       "\\item 'Precipitation seasonality'\n",
       "\\item 'Precipitation of warmest quarter'\n",
       "\\end{enumerate*}\n"
      ],
      "text/markdown": [
       "1. 'Altitude'\n",
       "2. 'Mean diurnal temperature range'\n",
       "3. 'Maximum temperature'\n",
       "4. 'Precipitation of driest month'\n",
       "5. 'Precipitation seasonality'\n",
       "6. 'Precipitation of warmest quarter'\n",
       "\n",
       "\n"
      ],
      "text/plain": [
       "[1] \"Altitude\"                         \"Mean diurnal temperature range\"  \n",
       "[3] \"Maximum temperature\"              \"Precipitation of driest month\"   \n",
       "[5] \"Precipitation seasonality\"        \"Precipitation of warmest quarter\""
      ]
     },
     "metadata": {},
     "output_type": "display_data"
    }
   ],
   "source": [
    "worldclim_ref[worldclim_ref$layer_code %in% worldclim_best,]$name"
   ]
  },
  {
   "cell_type": "code",
   "execution_count": 40,
   "id": "b32ee32b",
   "metadata": {
    "scrolled": false
   },
   "outputs": [
    {
     "data": {
      "text/html": [
       "<table class=\"dataframe\">\n",
       "<caption>A data.frame: 6 × 6</caption>\n",
       "<thead>\n",
       "\t<tr><th></th><th scope=col>WC_alt</th><th scope=col>WC_bio2</th><th scope=col>WC_bio5</th><th scope=col>WC_bio14</th><th scope=col>WC_bio15</th><th scope=col>WC_bio18</th></tr>\n",
       "\t<tr><th></th><th scope=col>&lt;dbl&gt;</th><th scope=col>&lt;dbl&gt;</th><th scope=col>&lt;dbl&gt;</th><th scope=col>&lt;dbl&gt;</th><th scope=col>&lt;dbl&gt;</th><th scope=col>&lt;dbl&gt;</th></tr>\n",
       "</thead>\n",
       "<tbody>\n",
       "\t<tr><th scope=row>WC_alt</th><td> 1.00000000</td><td> 0.2520772</td><td>-0.33480275</td><td>-0.1361851</td><td> 0.1751170</td><td>-0.05362687</td></tr>\n",
       "\t<tr><th scope=row>WC_bio2</th><td> 0.25207716</td><td> 1.0000000</td><td> 0.59690305</td><td>-0.4261057</td><td> 0.4810320</td><td>-0.33629709</td></tr>\n",
       "\t<tr><th scope=row>WC_bio5</th><td>-0.33480275</td><td> 0.5969031</td><td> 1.00000000</td><td>-0.1570814</td><td> 0.4009150</td><td>-0.07711694</td></tr>\n",
       "\t<tr><th scope=row>WC_bio14</th><td>-0.13618505</td><td>-0.4261057</td><td>-0.15708137</td><td> 1.0000000</td><td>-0.5258624</td><td> 0.56832546</td></tr>\n",
       "\t<tr><th scope=row>WC_bio15</th><td> 0.17511698</td><td> 0.4810320</td><td> 0.40091504</td><td>-0.5258624</td><td> 1.0000000</td><td>-0.15937806</td></tr>\n",
       "\t<tr><th scope=row>WC_bio18</th><td>-0.05362687</td><td>-0.3362971</td><td>-0.07711694</td><td> 0.5683255</td><td>-0.1593781</td><td> 1.00000000</td></tr>\n",
       "</tbody>\n",
       "</table>\n"
      ],
      "text/latex": [
       "A data.frame: 6 × 6\n",
       "\\begin{tabular}{r|llllll}\n",
       "  & WC\\_alt & WC\\_bio2 & WC\\_bio5 & WC\\_bio14 & WC\\_bio15 & WC\\_bio18\\\\\n",
       "  & <dbl> & <dbl> & <dbl> & <dbl> & <dbl> & <dbl>\\\\\n",
       "\\hline\n",
       "\tWC\\_alt &  1.00000000 &  0.2520772 & -0.33480275 & -0.1361851 &  0.1751170 & -0.05362687\\\\\n",
       "\tWC\\_bio2 &  0.25207716 &  1.0000000 &  0.59690305 & -0.4261057 &  0.4810320 & -0.33629709\\\\\n",
       "\tWC\\_bio5 & -0.33480275 &  0.5969031 &  1.00000000 & -0.1570814 &  0.4009150 & -0.07711694\\\\\n",
       "\tWC\\_bio14 & -0.13618505 & -0.4261057 & -0.15708137 &  1.0000000 & -0.5258624 &  0.56832546\\\\\n",
       "\tWC\\_bio15 &  0.17511698 &  0.4810320 &  0.40091504 & -0.5258624 &  1.0000000 & -0.15937806\\\\\n",
       "\tWC\\_bio18 & -0.05362687 & -0.3362971 & -0.07711694 &  0.5683255 & -0.1593781 &  1.00000000\\\\\n",
       "\\end{tabular}\n"
      ],
      "text/markdown": [
       "\n",
       "A data.frame: 6 × 6\n",
       "\n",
       "| <!--/--> | WC_alt &lt;dbl&gt; | WC_bio2 &lt;dbl&gt; | WC_bio5 &lt;dbl&gt; | WC_bio14 &lt;dbl&gt; | WC_bio15 &lt;dbl&gt; | WC_bio18 &lt;dbl&gt; |\n",
       "|---|---|---|---|---|---|---|\n",
       "| WC_alt |  1.00000000 |  0.2520772 | -0.33480275 | -0.1361851 |  0.1751170 | -0.05362687 |\n",
       "| WC_bio2 |  0.25207716 |  1.0000000 |  0.59690305 | -0.4261057 |  0.4810320 | -0.33629709 |\n",
       "| WC_bio5 | -0.33480275 |  0.5969031 |  1.00000000 | -0.1570814 |  0.4009150 | -0.07711694 |\n",
       "| WC_bio14 | -0.13618505 | -0.4261057 | -0.15708137 |  1.0000000 | -0.5258624 |  0.56832546 |\n",
       "| WC_bio15 |  0.17511698 |  0.4810320 |  0.40091504 | -0.5258624 |  1.0000000 | -0.15937806 |\n",
       "| WC_bio18 | -0.05362687 | -0.3362971 | -0.07711694 |  0.5683255 | -0.1593781 |  1.00000000 |\n",
       "\n"
      ],
      "text/plain": [
       "         WC_alt      WC_bio2    WC_bio5     WC_bio14   WC_bio15   WC_bio18   \n",
       "WC_alt    1.00000000  0.2520772 -0.33480275 -0.1361851  0.1751170 -0.05362687\n",
       "WC_bio2   0.25207716  1.0000000  0.59690305 -0.4261057  0.4810320 -0.33629709\n",
       "WC_bio5  -0.33480275  0.5969031  1.00000000 -0.1570814  0.4009150 -0.07711694\n",
       "WC_bio14 -0.13618505 -0.4261057 -0.15708137  1.0000000 -0.5258624  0.56832546\n",
       "WC_bio15  0.17511698  0.4810320  0.40091504 -0.5258624  1.0000000 -0.15937806\n",
       "WC_bio18 -0.05362687 -0.3362971 -0.07711694  0.5683255 -0.1593781  1.00000000"
      ]
     },
     "metadata": {},
     "output_type": "display_data"
    }
   ],
   "source": [
    "layers_correlation(worldclim_best)"
   ]
  },
  {
   "cell_type": "code",
   "execution_count": 41,
   "id": "635886e3",
   "metadata": {
    "scrolled": true
   },
   "outputs": [
    {
     "data": {
      "text/html": [
       "<style>\n",
       ".list-inline {list-style: none; margin:0; padding: 0}\n",
       ".list-inline>li {display: inline-block}\n",
       ".list-inline>li:not(:last-child)::after {content: \"\\00b7\"; padding: 0 .5ex}\n",
       "</style>\n",
       "<ol class=list-inline><li>'estuary'</li><li>'Site'</li><li>'Site_Id'</li><li>'Site_ref'</li><li>'Core'</li><li>'mean_Corg'</li><li>'MgC_perHa'</li><li>'x'</li><li>'y'</li><li>'date'</li><li>'Biogeographical_region'</li></ol>\n"
      ],
      "text/latex": [
       "\\begin{enumerate*}\n",
       "\\item 'estuary'\n",
       "\\item 'Site'\n",
       "\\item 'Site\\_Id'\n",
       "\\item 'Site\\_ref'\n",
       "\\item 'Core'\n",
       "\\item 'mean\\_Corg'\n",
       "\\item 'MgC\\_perHa'\n",
       "\\item 'x'\n",
       "\\item 'y'\n",
       "\\item 'date'\n",
       "\\item 'Biogeographical\\_region'\n",
       "\\end{enumerate*}\n"
      ],
      "text/markdown": [
       "1. 'estuary'\n",
       "2. 'Site'\n",
       "3. 'Site_Id'\n",
       "4. 'Site_ref'\n",
       "5. 'Core'\n",
       "6. 'mean_Corg'\n",
       "7. 'MgC_perHa'\n",
       "8. 'x'\n",
       "9. 'y'\n",
       "10. 'date'\n",
       "11. 'Biogeographical_region'\n",
       "\n",
       "\n"
      ],
      "text/plain": [
       " [1] \"estuary\"                \"Site\"                   \"Site_Id\"               \n",
       " [4] \"Site_ref\"               \"Core\"                   \"mean_Corg\"             \n",
       " [7] \"MgC_perHa\"              \"x\"                      \"y\"                     \n",
       "[10] \"date\"                   \"Biogeographical_region\""
      ]
     },
     "metadata": {},
     "output_type": "display_data"
    }
   ],
   "source": [
    "colnames(ZAF_bluecarbon_raw)"
   ]
  },
  {
   "cell_type": "code",
   "execution_count": 42,
   "id": "39d2677a",
   "metadata": {},
   "outputs": [],
   "source": [
    "ZAF_bluecarbon_final <- data.frame(ZAF_bluecarbon_raw)\n",
    "\n",
    "for (layer_name in worldclim_best){ \n",
    "    \n",
    "    layer <- env_layers[[layer_name]]\n",
    "    \n",
    "    ZAF_bluecarbon_final[layer_name] <- raster::extract(layer, ZAF_bluecarbon_raw[,c(\"x\", \"y\")])\n",
    "}\n",
    "\n",
    "ZAF_bluecarbon_final <- ZAF_bluecarbon_final %>% dplyr::select(-c(WC_alt))"
   ]
  },
  {
   "cell_type": "code",
   "execution_count": 43,
   "id": "82b261e9",
   "metadata": {},
   "outputs": [],
   "source": [
    "best_WC <- worldclim_ref[worldclim_ref$layer_code %in% worldclim_best,]"
   ]
  },
  {
   "cell_type": "code",
   "execution_count": 44,
   "id": "96d0bce4",
   "metadata": {
    "scrolled": true
   },
   "outputs": [
    {
     "data": {
      "text/html": [
       "<style>\n",
       ".list-inline {list-style: none; margin:0; padding: 0}\n",
       ".list-inline>li {display: inline-block}\n",
       ".list-inline>li:not(:last-child)::after {content: \"\\00b7\"; padding: 0 .5ex}\n",
       "</style>\n",
       "<ol class=list-inline><li>'estuary'</li><li>'Site'</li><li>'Site_Id'</li><li>'Site_ref'</li><li>'Core'</li><li>'mean_Corg'</li><li>'MgC_perHa'</li><li>'x'</li><li>'y'</li><li>'date'</li><li>'Biogeographical_region'</li><li>'WC_bio2'</li><li>'WC_bio5'</li><li>'WC_bio14'</li><li>'WC_bio15'</li><li>'WC_bio18'</li></ol>\n"
      ],
      "text/latex": [
       "\\begin{enumerate*}\n",
       "\\item 'estuary'\n",
       "\\item 'Site'\n",
       "\\item 'Site\\_Id'\n",
       "\\item 'Site\\_ref'\n",
       "\\item 'Core'\n",
       "\\item 'mean\\_Corg'\n",
       "\\item 'MgC\\_perHa'\n",
       "\\item 'x'\n",
       "\\item 'y'\n",
       "\\item 'date'\n",
       "\\item 'Biogeographical\\_region'\n",
       "\\item 'WC\\_bio2'\n",
       "\\item 'WC\\_bio5'\n",
       "\\item 'WC\\_bio14'\n",
       "\\item 'WC\\_bio15'\n",
       "\\item 'WC\\_bio18'\n",
       "\\end{enumerate*}\n"
      ],
      "text/markdown": [
       "1. 'estuary'\n",
       "2. 'Site'\n",
       "3. 'Site_Id'\n",
       "4. 'Site_ref'\n",
       "5. 'Core'\n",
       "6. 'mean_Corg'\n",
       "7. 'MgC_perHa'\n",
       "8. 'x'\n",
       "9. 'y'\n",
       "10. 'date'\n",
       "11. 'Biogeographical_region'\n",
       "12. 'WC_bio2'\n",
       "13. 'WC_bio5'\n",
       "14. 'WC_bio14'\n",
       "15. 'WC_bio15'\n",
       "16. 'WC_bio18'\n",
       "\n",
       "\n"
      ],
      "text/plain": [
       " [1] \"estuary\"                \"Site\"                   \"Site_Id\"               \n",
       " [4] \"Site_ref\"               \"Core\"                   \"mean_Corg\"             \n",
       " [7] \"MgC_perHa\"              \"x\"                      \"y\"                     \n",
       "[10] \"date\"                   \"Biogeographical_region\" \"WC_bio2\"               \n",
       "[13] \"WC_bio5\"                \"WC_bio14\"               \"WC_bio15\"              \n",
       "[16] \"WC_bio18\"              "
      ]
     },
     "metadata": {},
     "output_type": "display_data"
    }
   ],
   "source": [
    "colnames(ZAF_bluecarbon_final)"
   ]
  },
  {
   "cell_type": "code",
   "execution_count": 1,
   "id": "fafcbb85",
   "metadata": {},
   "outputs": [],
   "source": [
    "?car::vif"
   ]
  },
  {
   "cell_type": "code",
   "execution_count": 2,
   "id": "684cf413",
   "metadata": {},
   "outputs": [
    {
     "data": {
      "text/plain": [
       "\n",
       "To cite the car package in publications use:\n",
       "\n",
       "  John Fox and Sanford Weisberg (2019). An {R} Companion to Applied\n",
       "  Regression, Third Edition. Thousand Oaks CA: Sage. URL:\n",
       "  https://socialsciences.mcmaster.ca/jfox/Books/Companion/\n",
       "\n",
       "A BibTeX entry for LaTeX users is\n",
       "\n",
       "  @Book{,\n",
       "    title = {An {R} Companion to Applied Regression},\n",
       "    edition = {Third},\n",
       "    author = {John Fox and Sanford Weisberg},\n",
       "    year = {2019},\n",
       "    publisher = {Sage},\n",
       "    address = {Thousand Oaks {CA}},\n",
       "    url = {https://socialsciences.mcmaster.ca/jfox/Books/Companion/},\n",
       "  }\n"
      ]
     },
     "metadata": {},
     "output_type": "display_data"
    }
   ],
   "source": [
    "citation(\"car\")"
   ]
  },
  {
   "cell_type": "code",
   "execution_count": 45,
   "id": "f09f5193",
   "metadata": {
    "scrolled": true
   },
   "outputs": [
    {
     "data": {
      "text/html": [
       "<table class=\"dataframe\">\n",
       "<caption>A data.frame: 4 × 6</caption>\n",
       "<thead>\n",
       "\t<tr><th scope=col>layer_code</th><th scope=col>name</th><th scope=col>description</th><th scope=col>start_year</th><th scope=col>end_year</th><th scope=col>VIF</th></tr>\n",
       "\t<tr><th scope=col>&lt;chr&gt;</th><th scope=col>&lt;chr&gt;</th><th scope=col>&lt;chr&gt;</th><th scope=col>&lt;int&gt;</th><th scope=col>&lt;int&gt;</th><th scope=col>&lt;dbl&gt;</th></tr>\n",
       "</thead>\n",
       "<tbody>\n",
       "\t<tr><td>WC_bio14</td><td>Precipitation of driest month   </td><td>Precipitation of driest month                                  </td><td>1950</td><td>2000</td><td>9.24</td></tr>\n",
       "\t<tr><td>WC_bio15</td><td>Precipitation seasonality       </td><td>Coefficient of variation of the monthly precipitation          </td><td>1950</td><td>2000</td><td>6.89</td></tr>\n",
       "\t<tr><td>WC_bio18</td><td>Precipitation of warmest quarter</td><td>Precipitation of warmest quarter                               </td><td>1950</td><td>2000</td><td>7.75</td></tr>\n",
       "\t<tr><td>WC_bio2 </td><td>Mean diurnal temperature range  </td><td>Mean of the monthly (maximum temperature - minimum temperature)</td><td>1950</td><td>2000</td><td>7.40</td></tr>\n",
       "</tbody>\n",
       "</table>\n"
      ],
      "text/latex": [
       "A data.frame: 4 × 6\n",
       "\\begin{tabular}{llllll}\n",
       " layer\\_code & name & description & start\\_year & end\\_year & VIF\\\\\n",
       " <chr> & <chr> & <chr> & <int> & <int> & <dbl>\\\\\n",
       "\\hline\n",
       "\t WC\\_bio14 & Precipitation of driest month    & Precipitation of driest month                                   & 1950 & 2000 & 9.24\\\\\n",
       "\t WC\\_bio15 & Precipitation seasonality        & Coefficient of variation of the monthly precipitation           & 1950 & 2000 & 6.89\\\\\n",
       "\t WC\\_bio18 & Precipitation of warmest quarter & Precipitation of warmest quarter                                & 1950 & 2000 & 7.75\\\\\n",
       "\t WC\\_bio2  & Mean diurnal temperature range   & Mean of the monthly (maximum temperature - minimum temperature) & 1950 & 2000 & 7.40\\\\\n",
       "\\end{tabular}\n"
      ],
      "text/markdown": [
       "\n",
       "A data.frame: 4 × 6\n",
       "\n",
       "| layer_code &lt;chr&gt; | name &lt;chr&gt; | description &lt;chr&gt; | start_year &lt;int&gt; | end_year &lt;int&gt; | VIF &lt;dbl&gt; |\n",
       "|---|---|---|---|---|---|\n",
       "| WC_bio14 | Precipitation of driest month    | Precipitation of driest month                                   | 1950 | 2000 | 9.24 |\n",
       "| WC_bio15 | Precipitation seasonality        | Coefficient of variation of the monthly precipitation           | 1950 | 2000 | 6.89 |\n",
       "| WC_bio18 | Precipitation of warmest quarter | Precipitation of warmest quarter                                | 1950 | 2000 | 7.75 |\n",
       "| WC_bio2  | Mean diurnal temperature range   | Mean of the monthly (maximum temperature - minimum temperature) | 1950 | 2000 | 7.40 |\n",
       "\n"
      ],
      "text/plain": [
       "  layer_code name                            \n",
       "1 WC_bio14   Precipitation of driest month   \n",
       "2 WC_bio15   Precipitation seasonality       \n",
       "3 WC_bio18   Precipitation of warmest quarter\n",
       "4 WC_bio2    Mean diurnal temperature range  \n",
       "  description                                                     start_year\n",
       "1 Precipitation of driest month                                   1950      \n",
       "2 Coefficient of variation of the monthly precipitation           1950      \n",
       "3 Precipitation of warmest quarter                                1950      \n",
       "4 Mean of the monthly (maximum temperature - minimum temperature) 1950      \n",
       "  end_year VIF \n",
       "1 2000     9.24\n",
       "2 2000     6.89\n",
       "3 2000     7.75\n",
       "4 2000     7.40"
      ]
     },
     "metadata": {},
     "output_type": "display_data"
    }
   ],
   "source": [
    "fit1 <- lm(MgC_perHa ~ WC_bio2 + WC_bio14 + WC_bio15 + WC_bio18, data = ZAF_bluecarbon_final)\n",
    "vif_out <-  as.data.frame(car::vif(fit1)) %>% tibble::rownames_to_column(var = \"layer_code\")\n",
    "colnames(vif_out)[2] <- \"VIF\"\n",
    "(final_layers <- merge(vif_out, best_WC) %>% filter(VIF < 10)) %>% \n",
    "                 dplyr::select(layer_code, name, description, description, start_year, end_year, VIF) %>%\n",
    "                 dplyr::mutate(VIF = round(VIF,2))\n",
    "print(xtable(final_layers, digits=2, type = \"latex\"), file = \"Supplementary_material/Worldclim_data.tex\", include.rownames=FALSE)"
   ]
  },
  {
   "cell_type": "code",
   "execution_count": 46,
   "id": "a9e52552",
   "metadata": {
    "scrolled": true
   },
   "outputs": [
    {
     "data": {
      "text/html": [
       "<table class=\"dataframe\">\n",
       "<caption>A data.frame: 4 × 4</caption>\n",
       "<thead>\n",
       "\t<tr><th></th><th scope=col>WC_bio14</th><th scope=col>WC_bio15</th><th scope=col>WC_bio18</th><th scope=col>WC_bio2</th></tr>\n",
       "\t<tr><th></th><th scope=col>&lt;dbl&gt;</th><th scope=col>&lt;dbl&gt;</th><th scope=col>&lt;dbl&gt;</th><th scope=col>&lt;dbl&gt;</th></tr>\n",
       "</thead>\n",
       "<tbody>\n",
       "\t<tr><th scope=row>WC_bio14</th><td> 1.0000000</td><td>-0.5258624</td><td> 0.5683255</td><td>-0.4261057</td></tr>\n",
       "\t<tr><th scope=row>WC_bio15</th><td>-0.5258624</td><td> 1.0000000</td><td>-0.1593781</td><td> 0.4810320</td></tr>\n",
       "\t<tr><th scope=row>WC_bio18</th><td> 0.5683255</td><td>-0.1593781</td><td> 1.0000000</td><td>-0.3362971</td></tr>\n",
       "\t<tr><th scope=row>WC_bio2</th><td>-0.4261057</td><td> 0.4810320</td><td>-0.3362971</td><td> 1.0000000</td></tr>\n",
       "</tbody>\n",
       "</table>\n"
      ],
      "text/latex": [
       "A data.frame: 4 × 4\n",
       "\\begin{tabular}{r|llll}\n",
       "  & WC\\_bio14 & WC\\_bio15 & WC\\_bio18 & WC\\_bio2\\\\\n",
       "  & <dbl> & <dbl> & <dbl> & <dbl>\\\\\n",
       "\\hline\n",
       "\tWC\\_bio14 &  1.0000000 & -0.5258624 &  0.5683255 & -0.4261057\\\\\n",
       "\tWC\\_bio15 & -0.5258624 &  1.0000000 & -0.1593781 &  0.4810320\\\\\n",
       "\tWC\\_bio18 &  0.5683255 & -0.1593781 &  1.0000000 & -0.3362971\\\\\n",
       "\tWC\\_bio2 & -0.4261057 &  0.4810320 & -0.3362971 &  1.0000000\\\\\n",
       "\\end{tabular}\n"
      ],
      "text/markdown": [
       "\n",
       "A data.frame: 4 × 4\n",
       "\n",
       "| <!--/--> | WC_bio14 &lt;dbl&gt; | WC_bio15 &lt;dbl&gt; | WC_bio18 &lt;dbl&gt; | WC_bio2 &lt;dbl&gt; |\n",
       "|---|---|---|---|---|\n",
       "| WC_bio14 |  1.0000000 | -0.5258624 |  0.5683255 | -0.4261057 |\n",
       "| WC_bio15 | -0.5258624 |  1.0000000 | -0.1593781 |  0.4810320 |\n",
       "| WC_bio18 |  0.5683255 | -0.1593781 |  1.0000000 | -0.3362971 |\n",
       "| WC_bio2 | -0.4261057 |  0.4810320 | -0.3362971 |  1.0000000 |\n",
       "\n"
      ],
      "text/plain": [
       "         WC_bio14   WC_bio15   WC_bio18   WC_bio2   \n",
       "WC_bio14  1.0000000 -0.5258624  0.5683255 -0.4261057\n",
       "WC_bio15 -0.5258624  1.0000000 -0.1593781  0.4810320\n",
       "WC_bio18  0.5683255 -0.1593781  1.0000000 -0.3362971\n",
       "WC_bio2  -0.4261057  0.4810320 -0.3362971  1.0000000"
      ]
     },
     "metadata": {},
     "output_type": "display_data"
    }
   ],
   "source": [
    "layers_correlation(final_layers$layer_code)"
   ]
  },
  {
   "cell_type": "code",
   "execution_count": 47,
   "id": "2fa545cb",
   "metadata": {},
   "outputs": [],
   "source": [
    "ZAF_bluecarbon_final <- data.frame(ZAF_bluecarbon_raw)\n",
    "for (layer_name in final_layers$layer_code){ \n",
    "    \n",
    "    layer <- env_layers[[layer_name]]\n",
    "    \n",
    "    ZAF_bluecarbon_final[layer_name] <- raster::extract(layer, ZAF_bluecarbon_raw[,c(\"x\", \"y\")])\n",
    "}\n",
    "\n",
    "ZAF_bluecarbon_final <- ZAF_bluecarbon_final %>% dplyr::select(-c(\"x\", \"y\"))"
   ]
  },
  {
   "cell_type": "code",
   "execution_count": 48,
   "id": "885d10ab",
   "metadata": {},
   "outputs": [],
   "source": [
    "#Without Swartkops estuary\n",
    "#ZAF_bluecarbon_final <- ZAF_bluecarbon_final %>% \n",
    "#                       dplyr::filter(estuary != \"Swartkops\" | Site != \"Lower\") "
   ]
  },
  {
   "cell_type": "code",
   "execution_count": 49,
   "id": "2203d5ab",
   "metadata": {},
   "outputs": [],
   "source": [
    "ref_numeric <- ZAF_bluecarbon_final %>% \n",
    "               dplyr::select_if(is.numeric) %>%\n",
    "               dplyr::select(-c(mean_Corg, MgC_perHa)) %>%\n",
    "               colnames()\n",
    "\n",
    "Scaler <- caret::preProcess(ZAF_bluecarbon_final, method = list(center = ref_numeric, scale = ref_numeric))\n",
    "ZAF_bluecarbon <- predict(Scaler, ZAF_bluecarbon_final)"
   ]
  },
  {
   "cell_type": "code",
   "execution_count": 50,
   "id": "53c37bc1",
   "metadata": {},
   "outputs": [],
   "source": [
    "#https://stats.stackexchange.com/questions/59879/logistic-regression-anova-chi-square-test-vs-significance-of-coefficients-ano"
   ]
  },
  {
   "cell_type": "code",
   "execution_count": 51,
   "id": "4bb8c09f",
   "metadata": {},
   "outputs": [],
   "source": [
    "simple_lmer <- function(pred, response_var, random_fmla, data){\n",
    "    \n",
    "    fmla_p2 = paste(pred, random_fmla, sep = \" + \")\n",
    "    fmla = as.formula(paste(response_var, fmla_p2, sep = \" ~ \"))\n",
    "    lm_fit <-  lmer(fmla, data = data, REML=FALSE)\n",
    "    lmer_out <- broom::tidy(lm_fit)\n",
    "    lmer_out$variable <- pred\n",
    "     \n",
    "    return(lmer_out)\n",
    "}"
   ]
  },
  {
   "cell_type": "code",
   "execution_count": 52,
   "id": "c73127c1",
   "metadata": {},
   "outputs": [],
   "source": [
    "simple_lmer_anova <- function(pred, response_var, random_fmla, data){\n",
    "    \n",
    "    fmla_p2 = paste(pred, random_fmla, sep = \" + \")\n",
    "    fmla = as.formula(paste(response_var, fmla_p2, sep = \" ~ \"))\n",
    "    lm_fit <-  lmer(fmla, data = data, REML=FALSE)\n",
    "    lmer_anova <- car::Anova(lm_fit, test=\"Chisq\") \n",
    "    return(lmer_anova)\n",
    "}"
   ]
  },
  {
   "cell_type": "code",
   "execution_count": 53,
   "id": "935c67c4",
   "metadata": {},
   "outputs": [],
   "source": [
    "lmer_out <- lapply(ref_numeric, \n",
    "            simple_lmer, \n",
    "            response_var = \"MgC_perHa\",\n",
    "            random_fmla = \"(1|estuary:Site)\",\n",
    "            data = ZAF_bluecarbon_final)"
   ]
  },
  {
   "cell_type": "code",
   "execution_count": 54,
   "id": "f206b4f9",
   "metadata": {},
   "outputs": [],
   "source": [
    "lmer_anova_out <-  lapply(ref_numeric, \n",
    "                   simple_lmer_anova, \n",
    "                   response_var = \"MgC_perHa\",\n",
    "                   random_fmla = \"(1|estuary:Site)\",\n",
    "                   data = ZAF_bluecarbon_final)"
   ]
  },
  {
   "cell_type": "code",
   "execution_count": 55,
   "id": "9ab12380",
   "metadata": {
    "scrolled": false
   },
   "outputs": [
    {
     "data": {
      "text/html": [
       "<table class=\"dataframe\">\n",
       "<caption>A data.frame: 4 × 3</caption>\n",
       "<thead>\n",
       "\t<tr><th scope=col>layer_code</th><th scope=col>p.value</th><th scope=col>signif</th></tr>\n",
       "\t<tr><th scope=col>&lt;chr&gt;</th><th scope=col>&lt;dbl&gt;</th><th scope=col>&lt;noquote&gt;</th></tr>\n",
       "</thead>\n",
       "<tbody>\n",
       "\t<tr><td>WC_bio14</td><td>0.4824652</td><td>NS</td></tr>\n",
       "\t<tr><td>WC_bio15</td><td>0.2041286</td><td>NS</td></tr>\n",
       "\t<tr><td>WC_bio18</td><td>0.6278462</td><td>NS</td></tr>\n",
       "\t<tr><td>WC_bio2 </td><td>0.4870360</td><td>NS</td></tr>\n",
       "</tbody>\n",
       "</table>\n"
      ],
      "text/latex": [
       "A data.frame: 4 × 3\n",
       "\\begin{tabular}{lll}\n",
       " layer\\_code & p.value & signif\\\\\n",
       " <chr> & <dbl> & <noquote>\\\\\n",
       "\\hline\n",
       "\t WC\\_bio14 & 0.4824652 & NS\\\\\n",
       "\t WC\\_bio15 & 0.2041286 & NS\\\\\n",
       "\t WC\\_bio18 & 0.6278462 & NS\\\\\n",
       "\t WC\\_bio2  & 0.4870360 & NS\\\\\n",
       "\\end{tabular}\n"
      ],
      "text/markdown": [
       "\n",
       "A data.frame: 4 × 3\n",
       "\n",
       "| layer_code &lt;chr&gt; | p.value &lt;dbl&gt; | signif &lt;noquote&gt; |\n",
       "|---|---|---|\n",
       "| WC_bio14 | 0.4824652 | NS |\n",
       "| WC_bio15 | 0.2041286 | NS |\n",
       "| WC_bio18 | 0.6278462 | NS |\n",
       "| WC_bio2  | 0.4870360 | NS |\n",
       "\n"
      ],
      "text/plain": [
       "  layer_code p.value   signif\n",
       "1 WC_bio14   0.4824652 NS    \n",
       "2 WC_bio15   0.2041286 NS    \n",
       "3 WC_bio18   0.6278462 NS    \n",
       "4 WC_bio2    0.4870360 NS    "
      ]
     },
     "metadata": {},
     "output_type": "display_data"
    }
   ],
   "source": [
    "(lmer_df <-  do.call(rbind, lmer_out) %>%\n",
    "             data.frame() %>%\n",
    "             dplyr::filter(effect == \"fixed\" & is.na(group) & term != \"(Intercept)\") %>%\n",
    "             dplyr::select(variable, variable, p.value) %>% \n",
    "             mutate(signif = signif_annotate(p.value)) %>%\n",
    "             arrange(variable) %>%\n",
    "             rename(layer_code = variable))"
   ]
  },
  {
   "cell_type": "code",
   "execution_count": 56,
   "id": "5469d765",
   "metadata": {
    "scrolled": true
   },
   "outputs": [],
   "source": [
    "lmer_anova_df <-  do.call(rbind, lmer_anova_out) %>%\n",
    "             data.frame() %>% tibble::rownames_to_column(var = \"layer_code\")\n",
    "bioclim_results <- merge(lmer_anova_df, best_WC) %>% \n",
    "                   dplyr::select(description, Chisq, Df, Pr..Chisq.) %>% dplyr::rename(p_value = Pr..Chisq.)"
   ]
  },
  {
   "cell_type": "code",
   "execution_count": 57,
   "id": "45e75cde",
   "metadata": {
    "scrolled": true
   },
   "outputs": [
    {
     "data": {
      "text/plain": [
       "                      estuary\n",
       "Biogeographical_region Olifants Berg Breede Knysna Swartkops Mngazana\n",
       "        Cool Temperate        8    8      0      0         0        0\n",
       "        Subtropical           0    0      0      0         0       11\n",
       "        Warm temperate        0    0      4      8         8        0"
      ]
     },
     "metadata": {},
     "output_type": "display_data"
    }
   ],
   "source": [
    "xtabs(~ Biogeographical_region + estuary, data = ZAF_bluecarbon_final)"
   ]
  },
  {
   "cell_type": "code",
   "execution_count": 58,
   "id": "4f782b6e",
   "metadata": {},
   "outputs": [],
   "source": [
    "ZAF_bluecarbon_final$Biogeographical_region <- factor(ZAF_bluecarbon_final$Biogeographical_region, levels = c('Cool Temperate', 'Warm temperate','Subtropical'))"
   ]
  },
  {
   "cell_type": "code",
   "execution_count": 59,
   "id": "a71ef093",
   "metadata": {},
   "outputs": [],
   "source": [
    "ZAF_biogeograpy <- ZAF_bluecarbon_final %>%\n",
    "                    group_by(Biogeographical_region) %>% \n",
    "                    rstatix::get_summary_stats(MgC_perHa) %>% \n",
    "                    dplyr::select(Biogeographical_region, n, mean, sd, se) %>%\n",
    "                    dplyr::rename(n_Biogeography = n, mean_Biogeography = mean, sd_Biogeography = sd,  se_Biogeography = se)"
   ]
  },
  {
   "cell_type": "code",
   "execution_count": 60,
   "id": "da7ab8ea",
   "metadata": {
    "scrolled": true
   },
   "outputs": [
    {
     "data": {
      "text/html": [
       "<table class=\"dataframe\">\n",
       "<caption>A anova.lme: 2 × 9</caption>\n",
       "<thead>\n",
       "\t<tr><th></th><th scope=col>call</th><th scope=col>Model</th><th scope=col>df</th><th scope=col>AIC</th><th scope=col>BIC</th><th scope=col>logLik</th><th scope=col>Test</th><th scope=col>L.Ratio</th><th scope=col>p-value</th></tr>\n",
       "\t<tr><th></th><th scope=col>&lt;chr&gt;</th><th scope=col>&lt;int&gt;</th><th scope=col>&lt;dbl&gt;</th><th scope=col>&lt;dbl&gt;</th><th scope=col>&lt;dbl&gt;</th><th scope=col>&lt;dbl&gt;</th><th scope=col>&lt;fct&gt;</th><th scope=col>&lt;dbl&gt;</th><th scope=col>&lt;dbl&gt;</th></tr>\n",
       "</thead>\n",
       "<tbody>\n",
       "\t<tr><th scope=row>baseline_bio</th><td>gls(model = MgC_perHa ~ 1, data = ZAF_bluecarbon_final, method = \"ML\")                                    </td><td>1</td><td>2</td><td>509.6118</td><td>513.3121</td><td>-252.8059</td><td>      </td><td>      NA</td><td>          NA</td></tr>\n",
       "\t<tr><th scope=row>random_bio</th><td>lme.formula(fixed = MgC_perHa ~ 1, data = ZAF_bluecarbon_final,     random = ~1 | Site_ref, method = \"ML\")</td><td>2</td><td>3</td><td>428.7684</td><td>434.3189</td><td>-211.3842</td><td>1 vs 2</td><td>82.84337</td><td>8.881955e-20</td></tr>\n",
       "</tbody>\n",
       "</table>\n"
      ],
      "text/latex": [
       "A anova.lme: 2 × 9\n",
       "\\begin{tabular}{r|lllllllll}\n",
       "  & call & Model & df & AIC & BIC & logLik & Test & L.Ratio & p-value\\\\\n",
       "  & <chr> & <int> & <dbl> & <dbl> & <dbl> & <dbl> & <fct> & <dbl> & <dbl>\\\\\n",
       "\\hline\n",
       "\tbaseline\\_bio & gls(model = MgC\\_perHa \\textasciitilde{} 1, data = ZAF\\_bluecarbon\\_final, method = \"ML\")                                     & 1 & 2 & 509.6118 & 513.3121 & -252.8059 &        &       NA &           NA\\\\\n",
       "\trandom\\_bio & lme.formula(fixed = MgC\\_perHa \\textasciitilde{} 1, data = ZAF\\_bluecarbon\\_final,     random = \\textasciitilde{}1 \\textbar{} Site\\_ref, method = \"ML\") & 2 & 3 & 428.7684 & 434.3189 & -211.3842 & 1 vs 2 & 82.84337 & 8.881955e-20\\\\\n",
       "\\end{tabular}\n"
      ],
      "text/markdown": [
       "\n",
       "A anova.lme: 2 × 9\n",
       "\n",
       "| <!--/--> | call &lt;chr&gt; | Model &lt;int&gt; | df &lt;dbl&gt; | AIC &lt;dbl&gt; | BIC &lt;dbl&gt; | logLik &lt;dbl&gt; | Test &lt;fct&gt; | L.Ratio &lt;dbl&gt; | p-value &lt;dbl&gt; |\n",
       "|---|---|---|---|---|---|---|---|---|---|\n",
       "| baseline_bio | gls(model = MgC_perHa ~ 1, data = ZAF_bluecarbon_final, method = \"ML\")                                     | 1 | 2 | 509.6118 | 513.3121 | -252.8059 | <!----> |       NA |           NA |\n",
       "| random_bio | lme.formula(fixed = MgC_perHa ~ 1, data = ZAF_bluecarbon_final,     random = ~1 | Site_ref, method = \"ML\") | 2 | 3 | 428.7684 | 434.3189 | -211.3842 | 1 vs 2 | 82.84337 | 8.881955e-20 |\n",
       "\n"
      ],
      "text/plain": [
       "             call                                                                                                      \n",
       "baseline_bio gls(model = MgC_perHa ~ 1, data = ZAF_bluecarbon_final, method = \"ML\")                                    \n",
       "random_bio   lme.formula(fixed = MgC_perHa ~ 1, data = ZAF_bluecarbon_final,     random = ~1 | Site_ref, method = \"ML\")\n",
       "             Model df AIC      BIC      logLik    Test   L.Ratio  p-value     \n",
       "baseline_bio 1     2  509.6118 513.3121 -252.8059              NA           NA\n",
       "random_bio   2     3  428.7684 434.3189 -211.3842 1 vs 2 82.84337 8.881955e-20"
      ]
     },
     "metadata": {},
     "output_type": "display_data"
    }
   ],
   "source": [
    "baseline_bio <- gls(MgC_perHa ~ 1, data = ZAF_bluecarbon_final, method=\"ML\")\n",
    "random_bio <- lme(MgC_perHa ~ 1, random = ~1|Site_ref, data = ZAF_bluecarbon_final, method=\"ML\")\n",
    "anova(baseline_bio, random_bio)"
   ]
  },
  {
   "cell_type": "code",
   "execution_count": 61,
   "id": "008afd4b",
   "metadata": {
    "scrolled": false
   },
   "outputs": [
    {
     "data": {
      "text/html": [
       "<table class=\"dataframe\">\n",
       "<caption>A anova: 1 × 4</caption>\n",
       "<thead>\n",
       "\t<tr><th scope=col>description</th><th scope=col>Chisq</th><th scope=col>Df</th><th scope=col>p_value</th></tr>\n",
       "\t<tr><th scope=col>&lt;chr&gt;</th><th scope=col>&lt;dbl&gt;</th><th scope=col>&lt;dbl&gt;</th><th scope=col>&lt;dbl&gt;</th></tr>\n",
       "</thead>\n",
       "<tbody>\n",
       "\t<tr><td>Biogeographical_region</td><td>1.322337</td><td>2</td><td>0.5162478</td></tr>\n",
       "</tbody>\n",
       "</table>\n"
      ],
      "text/latex": [
       "A anova: 1 × 4\n",
       "\\begin{tabular}{llll}\n",
       " description & Chisq & Df & p\\_value\\\\\n",
       " <chr> & <dbl> & <dbl> & <dbl>\\\\\n",
       "\\hline\n",
       "\t Biogeographical\\_region & 1.322337 & 2 & 0.5162478\\\\\n",
       "\\end{tabular}\n"
      ],
      "text/markdown": [
       "\n",
       "A anova: 1 × 4\n",
       "\n",
       "| description &lt;chr&gt; | Chisq &lt;dbl&gt; | Df &lt;dbl&gt; | p_value &lt;dbl&gt; |\n",
       "|---|---|---|---|\n",
       "| Biogeographical_region | 1.322337 | 2 | 0.5162478 |\n",
       "\n"
      ],
      "text/plain": [
       "  description            Chisq    Df p_value  \n",
       "1 Biogeographical_region 1.322337 2  0.5162478"
      ]
     },
     "metadata": {},
     "output_type": "display_data"
    }
   ],
   "source": [
    "fit_bio <- lmer(MgC_perHa ~  Biogeographical_region + (1|Site_ref),  data  = ZAF_bluecarbon_final)\n",
    "(Bluecarbon_sites <- car::Anova(fit_bio, test=\"Chisq\") %>%\n",
    "          tibble::rownames_to_column(var = \"description\") %>%\n",
    "          dplyr::rename(p_value = \"Pr(>Chisq)\"))"
   ]
  },
  {
   "cell_type": "code",
   "execution_count": 62,
   "id": "74702afa",
   "metadata": {
    "scrolled": true
   },
   "outputs": [
    {
     "data": {
      "text/html": [
       "<table class=\"dataframe\">\n",
       "<caption>A anova: 5 × 4</caption>\n",
       "<thead>\n",
       "\t<tr><th scope=col>description</th><th scope=col>Chisq</th><th scope=col>Df</th><th scope=col>p_value</th></tr>\n",
       "\t<tr><th scope=col>&lt;chr&gt;</th><th scope=col>&lt;dbl&gt;</th><th scope=col>&lt;dbl&gt;</th><th scope=col>&lt;dbl&gt;</th></tr>\n",
       "</thead>\n",
       "<tbody>\n",
       "\t<tr><td>Biogeographical_region                                         </td><td>1.32</td><td>2</td><td>0.5162</td></tr>\n",
       "\t<tr><td>Precipitation of driest month                                  </td><td>0.53</td><td>1</td><td>0.4673</td></tr>\n",
       "\t<tr><td>Coefficient of variation of the monthly precipitation          </td><td>1.82</td><td>1</td><td>0.1770</td></tr>\n",
       "\t<tr><td>Precipitation of warmest quarter                               </td><td>0.25</td><td>1</td><td>0.6180</td></tr>\n",
       "\t<tr><td>Mean of the monthly (maximum temperature - minimum temperature)</td><td>0.52</td><td>1</td><td>0.4720</td></tr>\n",
       "</tbody>\n",
       "</table>\n"
      ],
      "text/latex": [
       "A anova: 5 × 4\n",
       "\\begin{tabular}{llll}\n",
       " description & Chisq & Df & p\\_value\\\\\n",
       " <chr> & <dbl> & <dbl> & <dbl>\\\\\n",
       "\\hline\n",
       "\t Biogeographical\\_region                                          & 1.32 & 2 & 0.5162\\\\\n",
       "\t Precipitation of driest month                                   & 0.53 & 1 & 0.4673\\\\\n",
       "\t Coefficient of variation of the monthly precipitation           & 1.82 & 1 & 0.1770\\\\\n",
       "\t Precipitation of warmest quarter                                & 0.25 & 1 & 0.6180\\\\\n",
       "\t Mean of the monthly (maximum temperature - minimum temperature) & 0.52 & 1 & 0.4720\\\\\n",
       "\\end{tabular}\n"
      ],
      "text/markdown": [
       "\n",
       "A anova: 5 × 4\n",
       "\n",
       "| description &lt;chr&gt; | Chisq &lt;dbl&gt; | Df &lt;dbl&gt; | p_value &lt;dbl&gt; |\n",
       "|---|---|---|---|\n",
       "| Biogeographical_region                                          | 1.32 | 2 | 0.5162 |\n",
       "| Precipitation of driest month                                   | 0.53 | 1 | 0.4673 |\n",
       "| Coefficient of variation of the monthly precipitation           | 1.82 | 1 | 0.1770 |\n",
       "| Precipitation of warmest quarter                                | 0.25 | 1 | 0.6180 |\n",
       "| Mean of the monthly (maximum temperature - minimum temperature) | 0.52 | 1 | 0.4720 |\n",
       "\n"
      ],
      "text/plain": [
       "  description                                                     Chisq Df\n",
       "1 Biogeographical_region                                          1.32  2 \n",
       "2 Precipitation of driest month                                   0.53  1 \n",
       "3 Coefficient of variation of the monthly precipitation           1.82  1 \n",
       "4 Precipitation of warmest quarter                                0.25  1 \n",
       "5 Mean of the monthly (maximum temperature - minimum temperature) 0.52  1 \n",
       "  p_value\n",
       "1 0.5162 \n",
       "2 0.4673 \n",
       "3 0.1770 \n",
       "4 0.6180 \n",
       "5 0.4720 "
      ]
     },
     "metadata": {},
     "output_type": "display_data"
    }
   ],
   "source": [
    "(env_results <- rbind(Bluecarbon_sites, bioclim_results) %>% \n",
    "               dplyr::mutate(p_value = round(p_value, 4), Chisq = round(Chisq, 2)))\n",
    "#print(xtable(env_results, digits=2), type = \"html\", file = \"Table/env_stats.html\", include.rownames=FALSE)\n",
    "print(xtable(env_results, digits=7, type = \"latex\"), file = \"Supplementary_material/env_stats.tex\", include.rownames=FALSE)"
   ]
  },
  {
   "cell_type": "code",
   "execution_count": 63,
   "id": "fffab4f6",
   "metadata": {},
   "outputs": [
    {
     "data": {
      "text/html": [
       "<style>\n",
       ".list-inline {list-style: none; margin:0; padding: 0}\n",
       ".list-inline>li {display: inline-block}\n",
       ".list-inline>li:not(:last-child)::after {content: \"\\00b7\"; padding: 0 .5ex}\n",
       "</style>\n",
       "<ol class=list-inline><li>47</li><li>13</li></ol>\n"
      ],
      "text/latex": [
       "\\begin{enumerate*}\n",
       "\\item 47\n",
       "\\item 13\n",
       "\\end{enumerate*}\n"
      ],
      "text/markdown": [
       "1. 47\n",
       "2. 13\n",
       "\n",
       "\n"
      ],
      "text/plain": [
       "[1] 47 13"
      ]
     },
     "metadata": {},
     "output_type": "display_data"
    }
   ],
   "source": [
    "dim(ZAF_bluecarbon_final)"
   ]
  },
  {
   "cell_type": "code",
   "execution_count": 64,
   "id": "731019e7",
   "metadata": {
    "scrolled": false
   },
   "outputs": [],
   "source": [
    "glht_bio <- glht(fit_bio, linfct = mcp(Biogeographical_region = \"Tukey\"))\n",
    "cld_bio <- multcomp::cld(glht_bio)\n",
    "cld_bio <- cld_bio$mcletters$Letters %>% \n",
    "                 data.frame() %>%\n",
    "                 setNames(\"cld_Biogeographical_region\") %>%\n",
    "                 tibble::rownames_to_column(var = \"Biogeographical_region\")"
   ]
  },
  {
   "cell_type": "code",
   "execution_count": 65,
   "id": "3e70b32d",
   "metadata": {
    "scrolled": true
   },
   "outputs": [
    {
     "data": {
      "text/html": [
       "<table class=\"dataframe\">\n",
       "<caption>A data.frame: 3 × 6</caption>\n",
       "<thead>\n",
       "\t<tr><th scope=col>Biogeographical_region</th><th scope=col>n_Biogeography</th><th scope=col>mean_Biogeography</th><th scope=col>sd_Biogeography</th><th scope=col>se_Biogeography</th><th scope=col>cld_Biogeographical_region</th></tr>\n",
       "\t<tr><th scope=col>&lt;fct&gt;</th><th scope=col>&lt;glue&gt;</th><th scope=col>&lt;dbl&gt;</th><th scope=col>&lt;dbl&gt;</th><th scope=col>&lt;dbl&gt;</th><th scope=col>&lt;chr&gt;</th></tr>\n",
       "</thead>\n",
       "<tbody>\n",
       "\t<tr><td>Cool Temperate</td><td>(16)</td><td>14.272</td><td>10.587</td><td> 2.647</td><td>a</td></tr>\n",
       "\t<tr><td>Subtropical   </td><td>(11)</td><td>46.183</td><td>25.299</td><td> 7.628</td><td>a</td></tr>\n",
       "\t<tr><td>Warm temperate</td><td>(20)</td><td>58.072</td><td>73.875</td><td>16.519</td><td>a</td></tr>\n",
       "</tbody>\n",
       "</table>\n"
      ],
      "text/latex": [
       "A data.frame: 3 × 6\n",
       "\\begin{tabular}{llllll}\n",
       " Biogeographical\\_region & n\\_Biogeography & mean\\_Biogeography & sd\\_Biogeography & se\\_Biogeography & cld\\_Biogeographical\\_region\\\\\n",
       " <fct> & <glue> & <dbl> & <dbl> & <dbl> & <chr>\\\\\n",
       "\\hline\n",
       "\t Cool Temperate & (16) & 14.272 & 10.587 &  2.647 & a\\\\\n",
       "\t Subtropical    & (11) & 46.183 & 25.299 &  7.628 & a\\\\\n",
       "\t Warm temperate & (20) & 58.072 & 73.875 & 16.519 & a\\\\\n",
       "\\end{tabular}\n"
      ],
      "text/markdown": [
       "\n",
       "A data.frame: 3 × 6\n",
       "\n",
       "| Biogeographical_region &lt;fct&gt; | n_Biogeography &lt;glue&gt; | mean_Biogeography &lt;dbl&gt; | sd_Biogeography &lt;dbl&gt; | se_Biogeography &lt;dbl&gt; | cld_Biogeographical_region &lt;chr&gt; |\n",
       "|---|---|---|---|---|---|\n",
       "| Cool Temperate | (16) | 14.272 | 10.587 |  2.647 | a |\n",
       "| Subtropical    | (11) | 46.183 | 25.299 |  7.628 | a |\n",
       "| Warm temperate | (20) | 58.072 | 73.875 | 16.519 | a |\n",
       "\n"
      ],
      "text/plain": [
       "  Biogeographical_region n_Biogeography mean_Biogeography sd_Biogeography\n",
       "1 Cool Temperate         (16)           14.272            10.587         \n",
       "2 Subtropical            (11)           46.183            25.299         \n",
       "3 Warm temperate         (20)           58.072            73.875         \n",
       "  se_Biogeography cld_Biogeographical_region\n",
       "1  2.647          a                         \n",
       "2  7.628          a                         \n",
       "3 16.519          a                         "
      ]
     },
     "metadata": {},
     "output_type": "display_data"
    }
   ],
   "source": [
    "(table_biogeography1 <- merge(ZAF_biogeograpy, cld_bio) %>%\n",
    "                       dplyr::mutate(n_Biogeography = glue::glue(\"({n_Biogeography})\")))"
   ]
  },
  {
   "cell_type": "code",
   "execution_count": 66,
   "id": "443068f1",
   "metadata": {
    "scrolled": true
   },
   "outputs": [
    {
     "data": {
      "text/html": [
       "<table class=\"dataframe\">\n",
       "<caption>A data.frame: 3 × 9</caption>\n",
       "<thead>\n",
       "\t<tr><th scope=col>Biogeographical_region</th><th scope=col>y1</th><th scope=col>y2</th><th scope=col>x</th><th scope=col>n_Biogeography</th><th scope=col>mean_Biogeography</th><th scope=col>sd_Biogeography</th><th scope=col>se_Biogeography</th><th scope=col>cld_Biogeographical_region</th></tr>\n",
       "\t<tr><th scope=col>&lt;fct&gt;</th><th scope=col>&lt;dbl&gt;</th><th scope=col>&lt;dbl&gt;</th><th scope=col>&lt;int&gt;</th><th scope=col>&lt;glue&gt;</th><th scope=col>&lt;dbl&gt;</th><th scope=col>&lt;dbl&gt;</th><th scope=col>&lt;dbl&gt;</th><th scope=col>&lt;chr&gt;</th></tr>\n",
       "</thead>\n",
       "<tbody>\n",
       "\t<tr><td>Cool Temperate</td><td> 57.08164</td><td> 77.08164</td><td>1</td><td>(16)</td><td>14.272</td><td>10.587</td><td> 2.647</td><td>a</td></tr>\n",
       "\t<tr><td>Subtropical   </td><td>122.04617</td><td>142.04617</td><td>3</td><td>(11)</td><td>46.183</td><td>25.299</td><td> 7.628</td><td>a</td></tr>\n",
       "\t<tr><td>Warm temperate</td><td>246.29141</td><td>266.29141</td><td>2</td><td>(20)</td><td>58.072</td><td>73.875</td><td>16.519</td><td>a</td></tr>\n",
       "</tbody>\n",
       "</table>\n"
      ],
      "text/latex": [
       "A data.frame: 3 × 9\n",
       "\\begin{tabular}{lllllllll}\n",
       " Biogeographical\\_region & y1 & y2 & x & n\\_Biogeography & mean\\_Biogeography & sd\\_Biogeography & se\\_Biogeography & cld\\_Biogeographical\\_region\\\\\n",
       " <fct> & <dbl> & <dbl> & <int> & <glue> & <dbl> & <dbl> & <dbl> & <chr>\\\\\n",
       "\\hline\n",
       "\t Cool Temperate &  57.08164 &  77.08164 & 1 & (16) & 14.272 & 10.587 &  2.647 & a\\\\\n",
       "\t Subtropical    & 122.04617 & 142.04617 & 3 & (11) & 46.183 & 25.299 &  7.628 & a\\\\\n",
       "\t Warm temperate & 246.29141 & 266.29141 & 2 & (20) & 58.072 & 73.875 & 16.519 & a\\\\\n",
       "\\end{tabular}\n"
      ],
      "text/markdown": [
       "\n",
       "A data.frame: 3 × 9\n",
       "\n",
       "| Biogeographical_region &lt;fct&gt; | y1 &lt;dbl&gt; | y2 &lt;dbl&gt; | x &lt;int&gt; | n_Biogeography &lt;glue&gt; | mean_Biogeography &lt;dbl&gt; | sd_Biogeography &lt;dbl&gt; | se_Biogeography &lt;dbl&gt; | cld_Biogeographical_region &lt;chr&gt; |\n",
       "|---|---|---|---|---|---|---|---|---|\n",
       "| Cool Temperate |  57.08164 |  77.08164 | 1 | (16) | 14.272 | 10.587 |  2.647 | a |\n",
       "| Subtropical    | 122.04617 | 142.04617 | 3 | (11) | 46.183 | 25.299 |  7.628 | a |\n",
       "| Warm temperate | 246.29141 | 266.29141 | 2 | (20) | 58.072 | 73.875 | 16.519 | a |\n",
       "\n"
      ],
      "text/plain": [
       "  Biogeographical_region y1        y2        x n_Biogeography mean_Biogeography\n",
       "1 Cool Temperate          57.08164  77.08164 1 (16)           14.272           \n",
       "2 Subtropical            122.04617 142.04617 3 (11)           46.183           \n",
       "3 Warm temperate         246.29141 266.29141 2 (20)           58.072           \n",
       "  sd_Biogeography se_Biogeography cld_Biogeographical_region\n",
       "1 10.587           2.647          a                         \n",
       "2 25.299           7.628          a                         \n",
       "3 73.875          16.519          a                         "
      ]
     },
     "metadata": {},
     "output_type": "display_data"
    }
   ],
   "source": [
    "anno_biogeography1 <-  ZAF_bluecarbon_final %>% \n",
    "                       dplyr::group_by(Biogeographical_region) %>%\n",
    "                       dplyr::summarise(y1 = max(MgC_perHa) + 15,  y2 = y1 + 20) %>%\n",
    "                       dplyr::ungroup() %>%\n",
    "                       dplyr::mutate(x = row_number())\n",
    "\n",
    "(biogeography_anno1 <-  merge(anno_biogeography1, table_biogeography1))"
   ]
  },
  {
   "cell_type": "code",
   "execution_count": 67,
   "id": "6f6f33bb",
   "metadata": {},
   "outputs": [
    {
     "data": {
      "image/png": "[encoded data removed]",
      "text/plain": [
       "plot without title"
      ]
     },
     "metadata": {
      "image/png": {
       "height": 420,
       "width": 420
      }
     },
     "output_type": "display_data"
    }
   ],
   "source": [
    "p1 <- ggplot(data = ZAF_bluecarbon_final %>% \n",
    "             dplyr::rename(Estuary = estuary, `Sampling site` = Site)) +\n",
    "      geom_boxplot(aes(y = MgC_perHa,\n",
    "                      x = Biogeographical_region),\n",
    "                      outlier.alpha = 0,\n",
    "                      linewidth = 1) +\n",
    "     geom_point(aes(y = MgC_perHa,\n",
    "                x = Biogeographical_region,\n",
    "                colour = Estuary,\n",
    "                shape = `Sampling site`,\n",
    "                fill = Estuary),\n",
    "                size = 4,\n",
    "                alpha = 0.5,\n",
    "               position = \"jitter\") +\n",
    "      labs(x  = \"Biogeographical region\",  y = expression(paste(C[org]~stocks~(Mg~C~ha^{-1})))) +\n",
    "      scale_y_continuous(limits = c(0, 267), breaks = seq(0, 267, 25)) +\n",
    "      theme(panel.grid.minor = element_blank(),\n",
    "            panel.background = element_blank(),\n",
    "            legend.box.background = element_rect(colour = \"black\"),\n",
    "            legend.title = element_text(size=22, colour = \"black\"),\n",
    "            legend.text = element_text(size=22, colour = \"black\"),\n",
    "            axis.text.y = element_text(size=22, colour = \"#434343\"),\n",
    "            axis.text.x = element_text(hjust = 1, size=22, colour = \"#434343\", angle = 45),\n",
    "            axis.title = element_text(size=22, colour = \"black\"),\n",
    "            panel.border = element_rect(colour = \"black\", fill=NA, linewidth=1)) +\n",
    "      geom_text(data = biogeography_anno1,\n",
    "               aes(label = n_Biogeography,\n",
    "                   y = y1,\n",
    "                   x = x),\n",
    "                   size = 8,\n",
    "                   alpha = 0.75,\n",
    "                   colour = \"#808080\") +\n",
    "      geom_text(data = biogeography_anno1,\n",
    "               aes(label = cld_Biogeographical_region,\n",
    "                   y = y2,\n",
    "                   x = x),\n",
    "                   size = 8,\n",
    "                   colour = \"#808080\") +\n",
    "      ggsci::scale_color_d3()\n",
    "\n",
    "p1\n",
    "ggsave(\"Figurex/biogeo.pdf\", height = 10,  width = 7.5)"
   ]
  },
  {
   "cell_type": "code",
   "execution_count": 68,
   "id": "8cf323b8",
   "metadata": {},
   "outputs": [],
   "source": [
    "######################################################################################################\n",
    "\n",
    "                                  ####  REDUCED DATASET ####\n",
    "\n",
    "######################################################################################################"
   ]
  },
  {
   "cell_type": "code",
   "execution_count": 69,
   "id": "8dab35e9",
   "metadata": {},
   "outputs": [],
   "source": [
    "#Without Swartkops estuary\n",
    "ZAF_bluecarbon_final2 <- ZAF_bluecarbon_final %>% \n",
    "                       dplyr::filter(estuary != \"Swartkops\" | Site != \"Lower\") "
   ]
  },
  {
   "cell_type": "code",
   "execution_count": 70,
   "id": "cceb6c99",
   "metadata": {},
   "outputs": [],
   "source": [
    "ZAF_biogeograpy2 <- ZAF_bluecarbon_final2 %>%\n",
    "                    group_by(Biogeographical_region) %>% \n",
    "                    rstatix::get_summary_stats(MgC_perHa) %>% \n",
    "                    dplyr::select(Biogeographical_region, n, mean, sd, se) %>%\n",
    "                    dplyr::rename(n_Biogeography = n, mean_Biogeography = mean, sd_Biogeography = sd,  se_Biogeography = se)"
   ]
  },
  {
   "cell_type": "code",
   "execution_count": 71,
   "id": "298280a7",
   "metadata": {},
   "outputs": [],
   "source": [
    "ref_numeric <- ZAF_bluecarbon_final %>% \n",
    "               dplyr::select_if(is.numeric) %>%\n",
    "               dplyr::select(-c(mean_Corg, MgC_perHa)) %>%\n",
    "               colnames()\n",
    "\n",
    "Scaler <- caret::preProcess(ZAF_bluecarbon_final2, method = list(center = ref_numeric, scale = ref_numeric))\n",
    "ZAF_bluecarbon <- predict(Scaler, ZAF_bluecarbon_final2)"
   ]
  },
  {
   "cell_type": "code",
   "execution_count": 72,
   "id": "e07334f8",
   "metadata": {},
   "outputs": [],
   "source": [
    "#https://stats.stackexchange.com/questions/59879/logistic-regression-anova-chi-square-test-vs-significance-of-coefficients-ano"
   ]
  },
  {
   "cell_type": "code",
   "execution_count": 73,
   "id": "274d1e2d",
   "metadata": {},
   "outputs": [],
   "source": [
    "simple_lmer <- function(pred, response_var, random_fmla, data){\n",
    "    \n",
    "    fmla_p2 = paste(pred, random_fmla, sep = \" + \")\n",
    "    fmla = as.formula(paste(response_var, fmla_p2, sep = \" ~ \"))\n",
    "    lm_fit <-  lmer(fmla, data = data, REML=FALSE)\n",
    "    lmer_out <- broom::tidy(lm_fit)\n",
    "    lmer_out$variable <- pred\n",
    "     \n",
    "    return(lmer_out)\n",
    "}"
   ]
  },
  {
   "cell_type": "code",
   "execution_count": 74,
   "id": "01eeb4f6",
   "metadata": {},
   "outputs": [],
   "source": [
    "simple_lmer_anova <- function(pred, response_var, random_fmla, data){\n",
    "    \n",
    "    fmla_p2 = paste(pred, random_fmla, sep = \" + \")\n",
    "    fmla = as.formula(paste(response_var, fmla_p2, sep = \" ~ \"))\n",
    "    lm_fit <-  lmer(fmla, data = data, REML=FALSE)\n",
    "    lmer_anova <- car::Anova(lm_fit, test=\"Chisq\") \n",
    "    return(lmer_anova)\n",
    "}"
   ]
  },
  {
   "cell_type": "code",
   "execution_count": 75,
   "id": "6d86733c",
   "metadata": {},
   "outputs": [],
   "source": [
    "lmer_out <- lapply(ref_numeric, \n",
    "            simple_lmer, \n",
    "            response_var = \"MgC_perHa\",\n",
    "            random_fmla = \"(1|estuary:Site)\",\n",
    "            data = ZAF_bluecarbon_final2)"
   ]
  },
  {
   "cell_type": "code",
   "execution_count": 76,
   "id": "6554f694",
   "metadata": {},
   "outputs": [],
   "source": [
    "lmer_anova_out <-  lapply(ref_numeric, \n",
    "                   simple_lmer_anova, \n",
    "                   response_var = \"MgC_perHa\",\n",
    "                   random_fmla = \"(1|estuary:Site)\",\n",
    "                   data = ZAF_bluecarbon_final)"
   ]
  },
  {
   "cell_type": "code",
   "execution_count": 77,
   "id": "2de5b93c",
   "metadata": {
    "scrolled": false
   },
   "outputs": [
    {
     "data": {
      "text/html": [
       "<table class=\"dataframe\">\n",
       "<caption>A data.frame: 4 × 3</caption>\n",
       "<thead>\n",
       "\t<tr><th scope=col>layer_code</th><th scope=col>p.value</th><th scope=col>signif</th></tr>\n",
       "\t<tr><th scope=col>&lt;chr&gt;</th><th scope=col>&lt;dbl&gt;</th><th scope=col>&lt;noquote&gt;</th></tr>\n",
       "</thead>\n",
       "<tbody>\n",
       "\t<tr><td>WC_bio14</td><td>0.111480218</td><td>NS</td></tr>\n",
       "\t<tr><td>WC_bio15</td><td>0.348700014</td><td>NS</td></tr>\n",
       "\t<tr><td>WC_bio18</td><td>0.004350674</td><td>**</td></tr>\n",
       "\t<tr><td>WC_bio2 </td><td>0.003259311</td><td>**</td></tr>\n",
       "</tbody>\n",
       "</table>\n"
      ],
      "text/latex": [
       "A data.frame: 4 × 3\n",
       "\\begin{tabular}{lll}\n",
       " layer\\_code & p.value & signif\\\\\n",
       " <chr> & <dbl> & <noquote>\\\\\n",
       "\\hline\n",
       "\t WC\\_bio14 & 0.111480218 & NS\\\\\n",
       "\t WC\\_bio15 & 0.348700014 & NS\\\\\n",
       "\t WC\\_bio18 & 0.004350674 & **\\\\\n",
       "\t WC\\_bio2  & 0.003259311 & **\\\\\n",
       "\\end{tabular}\n"
      ],
      "text/markdown": [
       "\n",
       "A data.frame: 4 × 3\n",
       "\n",
       "| layer_code &lt;chr&gt; | p.value &lt;dbl&gt; | signif &lt;noquote&gt; |\n",
       "|---|---|---|\n",
       "| WC_bio14 | 0.111480218 | NS |\n",
       "| WC_bio15 | 0.348700014 | NS |\n",
       "| WC_bio18 | 0.004350674 | ** |\n",
       "| WC_bio2  | 0.003259311 | ** |\n",
       "\n"
      ],
      "text/plain": [
       "  layer_code p.value     signif\n",
       "1 WC_bio14   0.111480218 NS    \n",
       "2 WC_bio15   0.348700014 NS    \n",
       "3 WC_bio18   0.004350674 **    \n",
       "4 WC_bio2    0.003259311 **    "
      ]
     },
     "metadata": {},
     "output_type": "display_data"
    }
   ],
   "source": [
    "(lmer_df <-  do.call(rbind, lmer_out) %>%\n",
    "             data.frame() %>%\n",
    "             dplyr::filter(effect == \"fixed\" & is.na(group) & term != \"(Intercept)\") %>%\n",
    "             dplyr::select(variable, variable, p.value) %>% \n",
    "             mutate(signif = signif_annotate(p.value)) %>%\n",
    "             arrange(variable) %>%\n",
    "             rename(layer_code = variable))"
   ]
  },
  {
   "cell_type": "code",
   "execution_count": 78,
   "id": "758bbd43",
   "metadata": {
    "scrolled": true
   },
   "outputs": [],
   "source": [
    "lmer_anova_df <-  do.call(rbind, lmer_anova_out) %>%\n",
    "             data.frame() %>% tibble::rownames_to_column(var = \"layer_code\")\n",
    "bioclim_results <- merge(lmer_anova_df, best_WC) %>% \n",
    "                   dplyr::select(description, Chisq, Df, Pr..Chisq.) %>% dplyr::rename(p_value = Pr..Chisq.)"
   ]
  },
  {
   "cell_type": "code",
   "execution_count": 79,
   "id": "0045ccb2",
   "metadata": {},
   "outputs": [
    {
     "data": {
      "text/html": [
       "<table class=\"dataframe\">\n",
       "<caption>A anova.lme: 2 × 9</caption>\n",
       "<thead>\n",
       "\t<tr><th></th><th scope=col>call</th><th scope=col>Model</th><th scope=col>df</th><th scope=col>AIC</th><th scope=col>BIC</th><th scope=col>logLik</th><th scope=col>Test</th><th scope=col>L.Ratio</th><th scope=col>p-value</th></tr>\n",
       "\t<tr><th></th><th scope=col>&lt;chr&gt;</th><th scope=col>&lt;int&gt;</th><th scope=col>&lt;dbl&gt;</th><th scope=col>&lt;dbl&gt;</th><th scope=col>&lt;dbl&gt;</th><th scope=col>&lt;dbl&gt;</th><th scope=col>&lt;fct&gt;</th><th scope=col>&lt;dbl&gt;</th><th scope=col>&lt;dbl&gt;</th></tr>\n",
       "</thead>\n",
       "<tbody>\n",
       "\t<tr><th scope=row>baseline_bio</th><td>gls(model = MgC_perHa ~ 1, data = ZAF_bluecarbon_final, method = \"ML\")                                    </td><td>1</td><td>2</td><td>509.6118</td><td>513.3121</td><td>-252.8059</td><td>      </td><td>      NA</td><td>          NA</td></tr>\n",
       "\t<tr><th scope=row>random_bio</th><td>lme.formula(fixed = MgC_perHa ~ 1, data = ZAF_bluecarbon_final,     random = ~1 | Site_ref, method = \"ML\")</td><td>2</td><td>3</td><td>428.7684</td><td>434.3189</td><td>-211.3842</td><td>1 vs 2</td><td>82.84337</td><td>8.881955e-20</td></tr>\n",
       "</tbody>\n",
       "</table>\n"
      ],
      "text/latex": [
       "A anova.lme: 2 × 9\n",
       "\\begin{tabular}{r|lllllllll}\n",
       "  & call & Model & df & AIC & BIC & logLik & Test & L.Ratio & p-value\\\\\n",
       "  & <chr> & <int> & <dbl> & <dbl> & <dbl> & <dbl> & <fct> & <dbl> & <dbl>\\\\\n",
       "\\hline\n",
       "\tbaseline\\_bio & gls(model = MgC\\_perHa \\textasciitilde{} 1, data = ZAF\\_bluecarbon\\_final, method = \"ML\")                                     & 1 & 2 & 509.6118 & 513.3121 & -252.8059 &        &       NA &           NA\\\\\n",
       "\trandom\\_bio & lme.formula(fixed = MgC\\_perHa \\textasciitilde{} 1, data = ZAF\\_bluecarbon\\_final,     random = \\textasciitilde{}1 \\textbar{} Site\\_ref, method = \"ML\") & 2 & 3 & 428.7684 & 434.3189 & -211.3842 & 1 vs 2 & 82.84337 & 8.881955e-20\\\\\n",
       "\\end{tabular}\n"
      ],
      "text/markdown": [
       "\n",
       "A anova.lme: 2 × 9\n",
       "\n",
       "| <!--/--> | call &lt;chr&gt; | Model &lt;int&gt; | df &lt;dbl&gt; | AIC &lt;dbl&gt; | BIC &lt;dbl&gt; | logLik &lt;dbl&gt; | Test &lt;fct&gt; | L.Ratio &lt;dbl&gt; | p-value &lt;dbl&gt; |\n",
       "|---|---|---|---|---|---|---|---|---|---|\n",
       "| baseline_bio | gls(model = MgC_perHa ~ 1, data = ZAF_bluecarbon_final, method = \"ML\")                                     | 1 | 2 | 509.6118 | 513.3121 | -252.8059 | <!----> |       NA |           NA |\n",
       "| random_bio | lme.formula(fixed = MgC_perHa ~ 1, data = ZAF_bluecarbon_final,     random = ~1 | Site_ref, method = \"ML\") | 2 | 3 | 428.7684 | 434.3189 | -211.3842 | 1 vs 2 | 82.84337 | 8.881955e-20 |\n",
       "\n"
      ],
      "text/plain": [
       "             call                                                                                                      \n",
       "baseline_bio gls(model = MgC_perHa ~ 1, data = ZAF_bluecarbon_final, method = \"ML\")                                    \n",
       "random_bio   lme.formula(fixed = MgC_perHa ~ 1, data = ZAF_bluecarbon_final,     random = ~1 | Site_ref, method = \"ML\")\n",
       "             Model df AIC      BIC      logLik    Test   L.Ratio  p-value     \n",
       "baseline_bio 1     2  509.6118 513.3121 -252.8059              NA           NA\n",
       "random_bio   2     3  428.7684 434.3189 -211.3842 1 vs 2 82.84337 8.881955e-20"
      ]
     },
     "metadata": {},
     "output_type": "display_data"
    }
   ],
   "source": [
    "baseline_bio <- gls(MgC_perHa ~ 1, data = ZAF_bluecarbon_final, method=\"ML\")\n",
    "random_bio <- lme(MgC_perHa ~ 1, random = ~1|Site_ref, data = ZAF_bluecarbon_final, method=\"ML\")\n",
    "anova(baseline_bio, random_bio)"
   ]
  },
  {
   "cell_type": "code",
   "execution_count": 87,
   "id": "77b219d0",
   "metadata": {
    "scrolled": false
   },
   "outputs": [
    {
     "data": {
      "text/html": [
       "<table class=\"dataframe\">\n",
       "<caption>A anova: 1 × 4</caption>\n",
       "<thead>\n",
       "\t<tr><th scope=col>description</th><th scope=col>Chisq</th><th scope=col>Df</th><th scope=col>p_value</th></tr>\n",
       "\t<tr><th scope=col>&lt;chr&gt;</th><th scope=col>&lt;dbl&gt;</th><th scope=col>&lt;dbl&gt;</th><th scope=col>&lt;dbl&gt;</th></tr>\n",
       "</thead>\n",
       "<tbody>\n",
       "\t<tr><td>Biogeographical_region</td><td>7.557347</td><td>2</td><td>0.02285298</td></tr>\n",
       "</tbody>\n",
       "</table>\n"
      ],
      "text/latex": [
       "A anova: 1 × 4\n",
       "\\begin{tabular}{llll}\n",
       " description & Chisq & Df & p\\_value\\\\\n",
       " <chr> & <dbl> & <dbl> & <dbl>\\\\\n",
       "\\hline\n",
       "\t Biogeographical\\_region & 7.557347 & 2 & 0.02285298\\\\\n",
       "\\end{tabular}\n"
      ],
      "text/markdown": [
       "\n",
       "A anova: 1 × 4\n",
       "\n",
       "| description &lt;chr&gt; | Chisq &lt;dbl&gt; | Df &lt;dbl&gt; | p_value &lt;dbl&gt; |\n",
       "|---|---|---|---|\n",
       "| Biogeographical_region | 7.557347 | 2 | 0.02285298 |\n",
       "\n"
      ],
      "text/plain": [
       "  description            Chisq    Df p_value   \n",
       "1 Biogeographical_region 7.557347 2  0.02285298"
      ]
     },
     "metadata": {},
     "output_type": "display_data"
    }
   ],
   "source": [
    "fit_bio <- lmer(MgC_perHa ~  Biogeographical_region + (1|Site_ref),  data  = ZAF_bluecarbon_final2)\n",
    "(Bluecarbon_sites <- car::Anova(fit_bio, test=\"Chisq\") %>%\n",
    "          tibble::rownames_to_column(var = \"description\") %>%\n",
    "          dplyr::rename(p_value = \"Pr(>Chisq)\"))"
   ]
  },
  {
   "cell_type": "code",
   "execution_count": 88,
   "id": "fc506788",
   "metadata": {
    "scrolled": true
   },
   "outputs": [
    {
     "data": {
      "text/html": [
       "<table class=\"dataframe\">\n",
       "<caption>A anova: 5 × 4</caption>\n",
       "<thead>\n",
       "\t<tr><th scope=col>description</th><th scope=col>Chisq</th><th scope=col>Df</th><th scope=col>p_value</th></tr>\n",
       "\t<tr><th scope=col>&lt;chr&gt;</th><th scope=col>&lt;dbl&gt;</th><th scope=col>&lt;dbl&gt;</th><th scope=col>&lt;dbl&gt;</th></tr>\n",
       "</thead>\n",
       "<tbody>\n",
       "\t<tr><td>Biogeographical_region                                         </td><td>7.56</td><td>2</td><td>0.0229</td></tr>\n",
       "\t<tr><td>Precipitation of driest month                                  </td><td>0.53</td><td>1</td><td>0.4673</td></tr>\n",
       "\t<tr><td>Coefficient of variation of the monthly precipitation          </td><td>1.82</td><td>1</td><td>0.1770</td></tr>\n",
       "\t<tr><td>Precipitation of warmest quarter                               </td><td>0.25</td><td>1</td><td>0.6180</td></tr>\n",
       "\t<tr><td>Mean of the monthly (maximum temperature - minimum temperature)</td><td>0.52</td><td>1</td><td>0.4720</td></tr>\n",
       "</tbody>\n",
       "</table>\n"
      ],
      "text/latex": [
       "A anova: 5 × 4\n",
       "\\begin{tabular}{llll}\n",
       " description & Chisq & Df & p\\_value\\\\\n",
       " <chr> & <dbl> & <dbl> & <dbl>\\\\\n",
       "\\hline\n",
       "\t Biogeographical\\_region                                          & 7.56 & 2 & 0.0229\\\\\n",
       "\t Precipitation of driest month                                   & 0.53 & 1 & 0.4673\\\\\n",
       "\t Coefficient of variation of the monthly precipitation           & 1.82 & 1 & 0.1770\\\\\n",
       "\t Precipitation of warmest quarter                                & 0.25 & 1 & 0.6180\\\\\n",
       "\t Mean of the monthly (maximum temperature - minimum temperature) & 0.52 & 1 & 0.4720\\\\\n",
       "\\end{tabular}\n"
      ],
      "text/markdown": [
       "\n",
       "A anova: 5 × 4\n",
       "\n",
       "| description &lt;chr&gt; | Chisq &lt;dbl&gt; | Df &lt;dbl&gt; | p_value &lt;dbl&gt; |\n",
       "|---|---|---|---|\n",
       "| Biogeographical_region                                          | 7.56 | 2 | 0.0229 |\n",
       "| Precipitation of driest month                                   | 0.53 | 1 | 0.4673 |\n",
       "| Coefficient of variation of the monthly precipitation           | 1.82 | 1 | 0.1770 |\n",
       "| Precipitation of warmest quarter                                | 0.25 | 1 | 0.6180 |\n",
       "| Mean of the monthly (maximum temperature - minimum temperature) | 0.52 | 1 | 0.4720 |\n",
       "\n"
      ],
      "text/plain": [
       "  description                                                     Chisq Df\n",
       "1 Biogeographical_region                                          7.56  2 \n",
       "2 Precipitation of driest month                                   0.53  1 \n",
       "3 Coefficient of variation of the monthly precipitation           1.82  1 \n",
       "4 Precipitation of warmest quarter                                0.25  1 \n",
       "5 Mean of the monthly (maximum temperature - minimum temperature) 0.52  1 \n",
       "  p_value\n",
       "1 0.0229 \n",
       "2 0.4673 \n",
       "3 0.1770 \n",
       "4 0.6180 \n",
       "5 0.4720 "
      ]
     },
     "metadata": {},
     "output_type": "display_data"
    }
   ],
   "source": [
    "(env_results <- rbind(Bluecarbon_sites, bioclim_results) %>% \n",
    "               dplyr::mutate(p_value = round(p_value, 4), Chisq = round(Chisq, 2)))\n",
    "#print(xtable(env_results, digits=2), type = \"html\", file = \"Table/env_stats.html\", include.rownames=FALSE)\n",
    "print(xtable(env_results, digits=7, type = \"latex\"), file = \"Supplementary_material/env_stats.tex\", include.rownames=FALSE)"
   ]
  },
  {
   "cell_type": "code",
   "execution_count": 89,
   "id": "1db52851",
   "metadata": {
    "scrolled": false
   },
   "outputs": [],
   "source": [
    "glht_bio <- glht(fit_bio, linfct = mcp(Biogeographical_region = \"Tukey\"))\n",
    "cld_bio <- multcomp::cld(glht_bio)\n",
    "cld_bio <- cld_bio$mcletters$Letters %>% \n",
    "                 data.frame() %>%\n",
    "                 setNames(\"cld_Biogeographical_region\") %>%\n",
    "                 tibble::rownames_to_column(var = \"Biogeographical_region\")"
   ]
  },
  {
   "cell_type": "code",
   "execution_count": 90,
   "id": "3f7b3992",
   "metadata": {
    "scrolled": true
   },
   "outputs": [],
   "source": [
    "table_biogeography2 <- merge(ZAF_biogeograpy2, cld_bio) %>%\n",
    "                       dplyr::mutate(n_Biogeography = glue::glue(\"({n_Biogeography})\"))"
   ]
  },
  {
   "cell_type": "code",
   "execution_count": 91,
   "id": "f71bc54f",
   "metadata": {
    "scrolled": true
   },
   "outputs": [
    {
     "data": {
      "text/html": [
       "<table class=\"dataframe\">\n",
       "<caption>A data.frame: 3 × 9</caption>\n",
       "<thead>\n",
       "\t<tr><th scope=col>Biogeographical_region</th><th scope=col>y1</th><th scope=col>y2</th><th scope=col>x</th><th scope=col>n_Biogeography</th><th scope=col>mean_Biogeography</th><th scope=col>sd_Biogeography</th><th scope=col>se_Biogeography</th><th scope=col>cld_Biogeographical_region</th></tr>\n",
       "\t<tr><th scope=col>&lt;fct&gt;</th><th scope=col>&lt;dbl&gt;</th><th scope=col>&lt;dbl&gt;</th><th scope=col>&lt;int&gt;</th><th scope=col>&lt;glue&gt;</th><th scope=col>&lt;dbl&gt;</th><th scope=col>&lt;dbl&gt;</th><th scope=col>&lt;dbl&gt;</th><th scope=col>&lt;chr&gt;</th></tr>\n",
       "</thead>\n",
       "<tbody>\n",
       "\t<tr><td>Cool Temperate</td><td> 52.08164</td><td> 62.08164</td><td>1</td><td>(16)</td><td>14.272</td><td>10.587</td><td>2.647</td><td>a </td></tr>\n",
       "\t<tr><td>Subtropical   </td><td>117.04617</td><td>127.04617</td><td>3</td><td>(11)</td><td>46.183</td><td>25.299</td><td>7.628</td><td>b </td></tr>\n",
       "\t<tr><td>Warm temperate</td><td> 64.08644</td><td> 74.08644</td><td>2</td><td>(16)</td><td>22.713</td><td>11.897</td><td>2.974</td><td>ab</td></tr>\n",
       "</tbody>\n",
       "</table>\n"
      ],
      "text/latex": [
       "A data.frame: 3 × 9\n",
       "\\begin{tabular}{lllllllll}\n",
       " Biogeographical\\_region & y1 & y2 & x & n\\_Biogeography & mean\\_Biogeography & sd\\_Biogeography & se\\_Biogeography & cld\\_Biogeographical\\_region\\\\\n",
       " <fct> & <dbl> & <dbl> & <int> & <glue> & <dbl> & <dbl> & <dbl> & <chr>\\\\\n",
       "\\hline\n",
       "\t Cool Temperate &  52.08164 &  62.08164 & 1 & (16) & 14.272 & 10.587 & 2.647 & a \\\\\n",
       "\t Subtropical    & 117.04617 & 127.04617 & 3 & (11) & 46.183 & 25.299 & 7.628 & b \\\\\n",
       "\t Warm temperate &  64.08644 &  74.08644 & 2 & (16) & 22.713 & 11.897 & 2.974 & ab\\\\\n",
       "\\end{tabular}\n"
      ],
      "text/markdown": [
       "\n",
       "A data.frame: 3 × 9\n",
       "\n",
       "| Biogeographical_region &lt;fct&gt; | y1 &lt;dbl&gt; | y2 &lt;dbl&gt; | x &lt;int&gt; | n_Biogeography &lt;glue&gt; | mean_Biogeography &lt;dbl&gt; | sd_Biogeography &lt;dbl&gt; | se_Biogeography &lt;dbl&gt; | cld_Biogeographical_region &lt;chr&gt; |\n",
       "|---|---|---|---|---|---|---|---|---|\n",
       "| Cool Temperate |  52.08164 |  62.08164 | 1 | (16) | 14.272 | 10.587 | 2.647 | a  |\n",
       "| Subtropical    | 117.04617 | 127.04617 | 3 | (11) | 46.183 | 25.299 | 7.628 | b  |\n",
       "| Warm temperate |  64.08644 |  74.08644 | 2 | (16) | 22.713 | 11.897 | 2.974 | ab |\n",
       "\n"
      ],
      "text/plain": [
       "  Biogeographical_region y1        y2        x n_Biogeography mean_Biogeography\n",
       "1 Cool Temperate          52.08164  62.08164 1 (16)           14.272           \n",
       "2 Subtropical            117.04617 127.04617 3 (11)           46.183           \n",
       "3 Warm temperate          64.08644  74.08644 2 (16)           22.713           \n",
       "  sd_Biogeography se_Biogeography cld_Biogeographical_region\n",
       "1 10.587          2.647           a                         \n",
       "2 25.299          7.628           b                         \n",
       "3 11.897          2.974           ab                        "
      ]
     },
     "metadata": {},
     "output_type": "display_data"
    }
   ],
   "source": [
    "anno_biogeography2 <-   ZAF_bluecarbon_final2 %>% \n",
    "                        dplyr::group_by(Biogeographical_region) %>%\n",
    "                        dplyr::summarise(y1 = max(MgC_perHa) + 10,  y2 = y1 + 10) %>%\n",
    "                        dplyr::ungroup() %>%\n",
    "                        dplyr::mutate(x = row_number())\n",
    "\n",
    "(biogeography_anno2 <-  merge(anno_biogeography2, table_biogeography2))"
   ]
  },
  {
   "cell_type": "code",
   "execution_count": 97,
   "id": "54df5fe9",
   "metadata": {},
   "outputs": [
    {
     "data": {
      "text/html": [
       "<table class=\"dataframe\">\n",
       "<caption>A data.frame: 3 × 9</caption>\n",
       "<thead>\n",
       "\t<tr><th scope=col>Biogeographical_region</th><th scope=col>y1</th><th scope=col>y2</th><th scope=col>x</th><th scope=col>n_Biogeography</th><th scope=col>mean_Biogeography</th><th scope=col>sd_Biogeography</th><th scope=col>se_Biogeography</th><th scope=col>cld_Biogeographical_region</th></tr>\n",
       "\t<tr><th scope=col>&lt;fct&gt;</th><th scope=col>&lt;dbl&gt;</th><th scope=col>&lt;dbl&gt;</th><th scope=col>&lt;int&gt;</th><th scope=col>&lt;glue&gt;</th><th scope=col>&lt;dbl&gt;</th><th scope=col>&lt;dbl&gt;</th><th scope=col>&lt;dbl&gt;</th><th scope=col>&lt;chr&gt;</th></tr>\n",
       "</thead>\n",
       "<tbody>\n",
       "\t<tr><td>Cool Temperate</td><td> 57.08164</td><td> 77.08164</td><td>1</td><td>(16)</td><td>14.272</td><td>10.587</td><td> 2.647</td><td>a</td></tr>\n",
       "\t<tr><td>Subtropical   </td><td>122.04617</td><td>142.04617</td><td>3</td><td>(11)</td><td>46.183</td><td>25.299</td><td> 7.628</td><td>a</td></tr>\n",
       "\t<tr><td>Warm temperate</td><td>246.29141</td><td>266.29141</td><td>2</td><td>(20)</td><td>58.072</td><td>73.875</td><td>16.519</td><td>a</td></tr>\n",
       "</tbody>\n",
       "</table>\n"
      ],
      "text/latex": [
       "A data.frame: 3 × 9\n",
       "\\begin{tabular}{lllllllll}\n",
       " Biogeographical\\_region & y1 & y2 & x & n\\_Biogeography & mean\\_Biogeography & sd\\_Biogeography & se\\_Biogeography & cld\\_Biogeographical\\_region\\\\\n",
       " <fct> & <dbl> & <dbl> & <int> & <glue> & <dbl> & <dbl> & <dbl> & <chr>\\\\\n",
       "\\hline\n",
       "\t Cool Temperate &  57.08164 &  77.08164 & 1 & (16) & 14.272 & 10.587 &  2.647 & a\\\\\n",
       "\t Subtropical    & 122.04617 & 142.04617 & 3 & (11) & 46.183 & 25.299 &  7.628 & a\\\\\n",
       "\t Warm temperate & 246.29141 & 266.29141 & 2 & (20) & 58.072 & 73.875 & 16.519 & a\\\\\n",
       "\\end{tabular}\n"
      ],
      "text/markdown": [
       "\n",
       "A data.frame: 3 × 9\n",
       "\n",
       "| Biogeographical_region &lt;fct&gt; | y1 &lt;dbl&gt; | y2 &lt;dbl&gt; | x &lt;int&gt; | n_Biogeography &lt;glue&gt; | mean_Biogeography &lt;dbl&gt; | sd_Biogeography &lt;dbl&gt; | se_Biogeography &lt;dbl&gt; | cld_Biogeographical_region &lt;chr&gt; |\n",
       "|---|---|---|---|---|---|---|---|---|\n",
       "| Cool Temperate |  57.08164 |  77.08164 | 1 | (16) | 14.272 | 10.587 |  2.647 | a |\n",
       "| Subtropical    | 122.04617 | 142.04617 | 3 | (11) | 46.183 | 25.299 |  7.628 | a |\n",
       "| Warm temperate | 246.29141 | 266.29141 | 2 | (20) | 58.072 | 73.875 | 16.519 | a |\n",
       "\n"
      ],
      "text/plain": [
       "  Biogeographical_region y1        y2        x n_Biogeography mean_Biogeography\n",
       "1 Cool Temperate          57.08164  77.08164 1 (16)           14.272           \n",
       "2 Subtropical            122.04617 142.04617 3 (11)           46.183           \n",
       "3 Warm temperate         246.29141 266.29141 2 (20)           58.072           \n",
       "  sd_Biogeography se_Biogeography cld_Biogeographical_region\n",
       "1 10.587           2.647          a                         \n",
       "2 25.299           7.628          a                         \n",
       "3 73.875          16.519          a                         "
      ]
     },
     "metadata": {},
     "output_type": "display_data"
    }
   ],
   "source": [
    "biogeography_anno1"
   ]
  },
  {
   "cell_type": "code",
   "execution_count": 92,
   "id": "c8bd3850",
   "metadata": {},
   "outputs": [],
   "source": [
    "p2 <- ggplot(data = ZAF_bluecarbon_final2 %>% dplyr::rename(Estuary = estuary)) +\n",
    "      geom_boxplot(aes(y = MgC_perHa,\n",
    "                      x = Biogeographical_region),\n",
    "                      outlier.alpha = 0,\n",
    "                      linewidth = 1) +\n",
    "     geom_point(aes(y = MgC_perHa,\n",
    "                x = Biogeographical_region,\n",
    "                colour = Estuary,\n",
    "                fill = Estuary),\n",
    "                size = 4,\n",
    "                alpha = 0.5,\n",
    "               position = \"jitter\") +\n",
    "      labs(x  = \"Biogeographical region\",  y = expression(paste(C[org]~stocks~(Mg~C~ha^{-1})))) +\n",
    "      scale_y_continuous(limits = c(0, 150), breaks = seq(0, 125, 25)) +\n",
    "      theme(panel.grid.minor = element_blank(),\n",
    "            panel.background = element_blank(),\n",
    "            legend.box.background = element_rect(colour = \"black\"),\n",
    "            legend.title = element_text(size=22, colour = \"black\"),\n",
    "            legend.text = element_text(size=22, colour = \"black\"),\n",
    "            axis.text.y = element_text(size=22, colour = \"#434343\"),\n",
    "            axis.text.x = element_text(hjust = 1, size=22, colour = \"#434343\", angle = 45),\n",
    "            axis.title = element_text(size=22, colour = \"black\"),\n",
    "            panel.border = element_rect(colour = \"black\", fill=NA, linewidth=1)) +\n",
    "      geom_text(data = biogeography_anno2,\n",
    "               aes(label = n_Biogeography,\n",
    "                   y = y1,\n",
    "                   x = x),\n",
    "                   size = 8,\n",
    "                   alpha = 0.75,\n",
    "                   colour = \"#808080\") +\n",
    "      geom_text(data = biogeography_anno2,\n",
    "               aes(label = cld_Biogeographical_region,\n",
    "                   y = y2,\n",
    "                   x = x),\n",
    "                   size = 8,\n",
    "                   colour = \"#808080\") +\n",
    "      ggsci::scale_color_d3()"
   ]
  },
  {
   "cell_type": "code",
   "execution_count": 93,
   "id": "aa18ad35",
   "metadata": {},
   "outputs": [
    {
     "data": {
      "image/png": "[encoded data removed]",
      "text/plain": [
       "plot without title"
      ]
     },
     "metadata": {
      "image/png": {
       "height": 420,
       "width": 420
      }
     },
     "output_type": "display_data"
    }
   ],
   "source": [
    "p2"
   ]
  },
  {
   "cell_type": "code",
   "execution_count": 94,
   "id": "c6c8d35e",
   "metadata": {},
   "outputs": [
    {
     "data": {
      "image/png": "[encoded data removed]",
      "text/plain": [
       "plot without title"
      ]
     },
     "metadata": {
      "image/png": {
       "height": 420,
       "width": 420
      }
     },
     "output_type": "display_data"
    }
   ],
   "source": [
    "p1"
   ]
  },
  {
   "cell_type": "code",
   "execution_count": 96,
   "id": "33926582",
   "metadata": {},
   "outputs": [
    {
     "data": {
      "text/plain": [
       "Linear mixed model fit by REML. t-tests use Satterthwaite's method [\n",
       "lmerModLmerTest]\n",
       "Formula: MgC_perHa ~ Biogeographical_region + (1 | Site_ref)\n",
       "   Data: ZAF_bluecarbon_final2\n",
       "\n",
       "REML criterion at convergence: 331.9\n",
       "\n",
       "Scaled residuals: \n",
       "    Min      1Q  Median      3Q     Max \n",
       "-2.4114 -0.3415 -0.1743  0.1639  4.0834 \n",
       "\n",
       "Random effects:\n",
       " Groups   Name        Variance Std.Dev.\n",
       " Site_ref (Intercept) 138.4    11.77   \n",
       " Residual             145.6    12.07   \n",
       "Number of obs: 43, groups:  Site_ref, 10\n",
       "\n",
       "Fixed effects:\n",
       "                                     Estimate Std. Error     df t value\n",
       "(Intercept)                            14.272      6.611  7.343   2.159\n",
       "Biogeographical_regionWarm temperate    8.441      9.350  7.343   0.903\n",
       "Biogeographical_regionSubtropical      30.752     11.236  6.808   2.737\n",
       "                                     Pr(>|t|)  \n",
       "(Intercept)                            0.0659 .\n",
       "Biogeographical_regionWarm temperate   0.3953  \n",
       "Biogeographical_regionSubtropical      0.0299 *\n",
       "---\n",
       "Signif. codes:  0 '***' 0.001 '**' 0.01 '*' 0.05 '.' 0.1 ' ' 1\n",
       "\n",
       "Correlation of Fixed Effects:\n",
       "            (Intr) Bgg_Wt\n",
       "Bggrphcl_Wt -0.707       \n",
       "Bggrphcl_rS -0.588  0.416"
      ]
     },
     "metadata": {},
     "output_type": "display_data"
    }
   ],
   "source": [
    "fit_bio2 <- lmer(MgC_perHa ~  Biogeographical_region + (1|Site_ref),  data  = ZAF_bluecarbon_final2)\n",
    "summary(fit_bio2)"
   ]
  },
  {
   "cell_type": "code",
   "execution_count": null,
   "id": "a47b4ca1",
   "metadata": {},
   "outputs": [],
   "source": []
  }
 ],
 "metadata": {
  "kernelspec": {
   "display_name": "R",
   "language": "R",
   "name": "ir"
  },
  "language_info": {
   "codemirror_mode": "r",
   "file_extension": ".r",
   "mimetype": "text/x-r-source",
   "name": "R",
   "pygments_lexer": "r",
   "version": "4.1.3"
  }
 },
 "nbformat": 4,
 "nbformat_minor": 5
}
