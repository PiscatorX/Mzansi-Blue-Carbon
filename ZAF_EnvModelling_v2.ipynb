{
 "cells": [
  {
   "cell_type": "code",
   "execution_count": null,
   "id": "41103a2a",
   "metadata": {
    "scrolled": true,
    "slideshow": {
     "slide_type": "skip"
    }
   },
   "outputs": [],
   "source": [
    "library(sdmpredictors)\n",
    "library(broom.mixed)\n",
    "library(ggsignif)\n",
    "library(lmerTest)\n",
    "library(multcomp)\n",
    "library(reshape2)\n",
    "library(recipes)\n",
    "library(parsnip)\n",
    "library(ggpmisc)\n",
    "library(ggpubr)\n",
    "library(geodata)\n",
    "library(ggplot2)\n",
    "library(stringr)\n",
    "library(raster)\n",
    "library(readxl)\n",
    "library(xtable)\n",
    "library(broom)\n",
    "library(dplyr)\n",
    "library(ade4)\n",
    "library(caret)\n",
    "library(ggsci)\n",
    "library(lme4)\n",
    "library(nlme)\n",
    "library(MASS)\n",
    "library(sf)"
   ]
  },
  {
   "cell_type": "code",
   "execution_count": null,
   "id": "93dcd122",
   "metadata": {},
   "outputs": [],
   "source": [
    "help(sdmpredictors)"
   ]
  },
  {
   "cell_type": "code",
   "execution_count": null,
   "id": "a69b4fca",
   "metadata": {
    "scrolled": true
   },
   "outputs": [],
   "source": [
    "citation(\"sdmpredictors\")"
   ]
  },
  {
   "cell_type": "code",
   "execution_count": null,
   "id": "e14b81d1",
   "metadata": {},
   "outputs": [],
   "source": [
    "packageVersion(\"sdmpredictors\")"
   ]
  },
  {
   "cell_type": "code",
   "execution_count": null,
   "id": "72590413",
   "metadata": {
    "scrolled": false,
    "slideshow": {
     "slide_type": "skip"
    }
   },
   "outputs": [],
   "source": [
    "(Bluecarbon_sites <- read.csv(\"data//BC/BCsampling_sites.tsv\", sep =\"\\t\", header=T) %>% \n",
    "                    dplyr::mutate(Site = ifelse(Site ==\"Site1\", \"Upper\", \"Lower\")) %>%\n",
    "                    dplyr::rename(estuary = Estuary) %>%\n",
    "                    dplyr::rename(Biogeographical_region = Biogeographical.region))"
   ]
  },
  {
   "cell_type": "code",
   "execution_count": null,
   "id": "469ba6ae",
   "metadata": {},
   "outputs": [],
   "source": [
    "sample_n(Bluecarbon_sites, 5)"
   ]
  },
  {
   "cell_type": "code",
   "execution_count": null,
   "id": "1e12cac1",
   "metadata": {},
   "outputs": [],
   "source": [
    "CHNS_cores <- readRDS(file = \"data/BC/CHNS_cores.RDS\") %>%\n",
    "              dplyr::rename(Plot = plot) %>%\n",
    "              dplyr::mutate(Site = ifelse(Plot == \"LWR\", \"Lower\",  \"Upper\")) %>%\n",
    "              dplyr::mutate(Site = as.factor(Site)) %>% \n",
    "              dplyr::group_by(estuary, Site) %>%\n",
    "              dplyr::filter(estuary != \"Breede\" | Site != \"Lower\") %>%\n",
    "              dplyr::mutate(Site_Id = as.factor(paste0(\"Site\", cur_group_id()))) %>%\n",
    "              dplyr::mutate(Site_ref =  glue::glue(\"{estuary}_{Site_Id}\")) %>%\n",
    "              ungroup()\n",
    "\n",
    "estuary_levels = c(\"Olifants\", \"Berg\",\"Breede\",\"Knysna\", \"Swartkops\",\"Mngazana\")\n",
    "CHNS_cores$estuary <- factor(CHNS_cores$estuary, levels = estuary_levels)            "
   ]
  },
  {
   "cell_type": "code",
   "execution_count": null,
   "id": "7d027f71",
   "metadata": {},
   "outputs": [],
   "source": [
    "ZAF_bluecarbon_raw <- CHNS_cores"
   ]
  },
  {
   "cell_type": "code",
   "execution_count": null,
   "id": "f798187e",
   "metadata": {},
   "outputs": [],
   "source": [
    "xtabs(~ depth + estuary , data = CHNS_cores)"
   ]
  },
  {
   "cell_type": "code",
   "execution_count": null,
   "id": "0f096442",
   "metadata": {
    "scrolled": true
   },
   "outputs": [],
   "source": [
    "xtabs(~ estuary + Site, data = CHNS_cores)"
   ]
  },
  {
   "cell_type": "code",
   "execution_count": null,
   "id": "20e87d24",
   "metadata": {
    "scrolled": true,
    "slideshow": {
     "slide_type": "skip"
    }
   },
   "outputs": [],
   "source": [
    "core_count <- ZAF_bluecarbon_raw %>% \n",
    "              dplyr::group_by(estuary, Site) %>%\n",
    "              dplyr::summarise(Cores = n())\n",
    "\n",
    "BC_samples <- merge(Bluecarbon_sites, core_count) %>%\n",
    "              dplyr::rename(Long = x, Lat = y) %>%\n",
    "              dplyr::select(-date) %>%\n",
    "              dplyr::mutate(estuary = factor(estuary, levels = estuary_levels)) %>%\n",
    "              dplyr::arrange(estuary, Site)\n",
    "\n",
    "#print(xtable(BC_samples, digits=7, type = \"latex\"), file = \"Supplementary_material/BC_samples.tex\")"
   ]
  },
  {
   "cell_type": "code",
   "execution_count": null,
   "id": "c82d2ba4",
   "metadata": {
    "scrolled": true,
    "slideshow": {
     "slide_type": "skip"
    }
   },
   "outputs": [],
   "source": [
    "#Follows the Blue carbon manual to calculate total Corg per sediment core\n",
    "source(\"bluecarbon_library.R\")\n",
    "core_Corg <-    MgC_cores(CHNS_cores) %>%\n",
    "                dplyr::select(estuary, Site, Site_Id, Site_ref, Core, mean_Corg, MgC_perHa)"
   ]
  },
  {
   "cell_type": "code",
   "execution_count": null,
   "id": "42e2fcec",
   "metadata": {},
   "outputs": [],
   "source": [
    "ZAF_bluecarbon_raw <- merge(core_Corg, Bluecarbon_sites)\n",
    "xtabs(~estuary + Site,  data  = core_Corg)\n",
    "colnames(ZAF_bluecarbon_raw)"
   ]
  },
  {
   "cell_type": "code",
   "execution_count": null,
   "id": "c29702da",
   "metadata": {
    "scrolled": true
   },
   "outputs": [],
   "source": [
    "dim(core_Corg)\n",
    "dim(ZAF_bluecarbon_raw)"
   ]
  },
  {
   "cell_type": "code",
   "execution_count": null,
   "id": "400387a0",
   "metadata": {},
   "outputs": [],
   "source": []
  },
  {
   "cell_type": "code",
   "execution_count": null,
   "id": "72dea75d",
   "metadata": {
    "scrolled": true,
    "slideshow": {
     "slide_type": "skip"
    }
   },
   "outputs": [],
   "source": [
    "#South African Admin shape file\n",
    "ZA_admin1 <- geodata::gadm(\"ZA\", path = \"data/sdm/\")\n",
    "ZA_admin1 = sf::st_as_sf(ZA_admin1)"
   ]
  },
  {
   "cell_type": "code",
   "execution_count": null,
   "id": "f585c11e",
   "metadata": {},
   "outputs": [],
   "source": [
    "ggplot(data = ZA_admin1) +\n",
    "   geom_sf() +\n",
    "   geom_point(data = Bluecarbon_sites,\n",
    "              position = position_dodge(width=0.2),\n",
    "              aes(x = x,  y = y, colour = Site), size = 2) +\n",
    "   theme_bw()"
   ]
  },
  {
   "cell_type": "code",
   "execution_count": null,
   "id": "bbf295df",
   "metadata": {
    "slideshow": {
     "slide_type": "skip"
    }
   },
   "outputs": [],
   "source": [
    "#setting options for smd data\n",
    "options(sdmpredictors_datadir=\"C:/Users/andhlovu/Documents/Mzansi-Blue-Carbon/data/sdm\")"
   ]
  },
  {
   "cell_type": "code",
   "execution_count": null,
   "id": "cc786fc4",
   "metadata": {},
   "outputs": [],
   "source": [
    "sdm_datasets <- list_datasets(terrestrial = TRUE, marine = TRUE)"
   ]
  },
  {
   "cell_type": "code",
   "execution_count": null,
   "id": "8b79b786",
   "metadata": {},
   "outputs": [],
   "source": [
    "sdm_datasets"
   ]
  },
  {
   "cell_type": "code",
   "execution_count": null,
   "id": "91a48e11",
   "metadata": {},
   "outputs": [],
   "source": [
    "sdm_datasets$dataset_code"
   ]
  },
  {
   "cell_type": "code",
   "execution_count": null,
   "id": "9cca1323",
   "metadata": {},
   "outputs": [],
   "source": [
    "environmental_layers <- sdmpredictors::list_layers(sdm_datasets)"
   ]
  },
  {
   "cell_type": "code",
   "execution_count": null,
   "id": "79a8ea2d",
   "metadata": {},
   "outputs": [],
   "source": [
    "ref_layer = sdmpredictors::list_layers(sdm_datasets)"
   ]
  },
  {
   "cell_type": "code",
   "execution_count": null,
   "id": "11b90824",
   "metadata": {
    "scrolled": true
   },
   "outputs": [],
   "source": [
    "colnames(environmental_layers)"
   ]
  },
  {
   "cell_type": "code",
   "execution_count": null,
   "id": "b66502d5",
   "metadata": {
    "slideshow": {
     "slide_type": "skip"
    }
   },
   "outputs": [],
   "source": [
    "WorldClim_list <- environmental_layers %>% dplyr::filter(is.na(month)) %>% dplyr::filter(dataset_code == \"WorldClim\") \n",
    "MARSPEC_list <- environmental_layers %>% dplyr::filter(is.na(month)) %>% dplyr::filter(dataset_code == \"MARSPEC\") "
   ]
  },
  {
   "cell_type": "code",
   "execution_count": null,
   "id": "ec684690",
   "metadata": {
    "slideshow": {
     "slide_type": "skip"
    }
   },
   "outputs": [],
   "source": [
    "WorldClim_layers <- sdmpredictors::load_layers(layercodes =  WorldClim_list$layer_code, equalarea=FALSE, rasterstack=TRUE)\n",
    "MARSPEC_layers <- sdmpredictors::load_layers(layercodes =  MARSPEC_list$layer_code, equalarea=FALSE, rasterstack=TRUE)"
   ]
  },
  {
   "cell_type": "code",
   "execution_count": null,
   "id": "63e46d32",
   "metadata": {},
   "outputs": [],
   "source": [
    "ZA_extent <- raster::extent(10, 40, -37, -22)\n",
    "WorldClim_cropped <- raster::crop(WorldClim_layers, ZA_extent) \n",
    "MARSPEC_cropped <- raster::crop(MARSPEC_layers, ZA_extent)  "
   ]
  },
  {
   "cell_type": "code",
   "execution_count": null,
   "id": "b258628c",
   "metadata": {},
   "outputs": [],
   "source": [
    "Bluecarbon_sites"
   ]
  },
  {
   "cell_type": "code",
   "execution_count": null,
   "id": "0de6047e",
   "metadata": {},
   "outputs": [],
   "source": [
    "WC_alt_layer <- WorldClim_cropped[[1]]\n",
    "#env_layers_raw  <- stack(WorldClim_cropped, MARSPEC_cropped)\n",
    "env_layers <-resample(WorldClim_cropped, WC_alt_layer, method = \"ngb\") "
   ]
  },
  {
   "cell_type": "code",
   "execution_count": null,
   "id": "f734afcc",
   "metadata": {},
   "outputs": [],
   "source": [
    "# t <- extent(-180, 180, -90, 90) #layer extent from terrestrial stack\n",
    "# m <- extent(-180, 180, -90, 90) #layer extent from marine stack\n",
    "# #no need to edit the following 6 lines\n",
    "# extent_list<-list(t, m)\n",
    "# extent_list<-lapply(extent_list, as.matrix)\n",
    "# matrix_extent<-matrix(unlist(extent_list), ncol=length(extent_list))\n",
    "# rownames(matrix_extent)<-c(\"xmin\", \"ymin\", \"xmax\", \"ymax\")\n",
    "# best_extent<-extent(min(matrix_extent[1,]), max(matrix_extent[3,]), min(matrix_extent[2,]), max(matrix_extent[4,]))\n",
    "# ranges<-apply(as.matrix(best_extent), 1, diff)\n",
    "# reso <- res(WorldClim_cropped) #choose layer you want to keep resolution\n",
    "# nrow_ncol <-ranges/reso\n",
    "# raster_ref <-raster(best_extent, nrows=nrow_ncol[2], ncols=nrow_ncol[1], crs = WorldClim_layers@crs) #choose layer crs you want to keep"
   ]
  },
  {
   "cell_type": "code",
   "execution_count": null,
   "id": "57b71b4a",
   "metadata": {
    "scrolled": false
   },
   "outputs": [],
   "source": [
    "envs_data <- as.data.frame(raster::extract(env_layers, ZAF_bluecarbon_raw[c(\"x\", \"y\")]))\n",
    "colnames(envs_data)"
   ]
  },
  {
   "cell_type": "code",
   "execution_count": null,
   "id": "d04614c9",
   "metadata": {},
   "outputs": [],
   "source": [
    "envs_df <- as.data.frame(envs_data)"
   ]
  },
  {
   "cell_type": "code",
   "execution_count": null,
   "id": "bbed40e2",
   "metadata": {},
   "outputs": [],
   "source": [
    "pca1 <- dudi.pca(envs_data, \n",
    "                 scannf = F, \n",
    "                 nf = 2)"
   ]
  },
  {
   "cell_type": "code",
   "execution_count": null,
   "id": "63560f3d",
   "metadata": {},
   "outputs": [],
   "source": [
    "str(pca1$li[,1:2])"
   ]
  },
  {
   "cell_type": "code",
   "execution_count": null,
   "id": "39124b54",
   "metadata": {},
   "outputs": [],
   "source": [
    "s.corcircle(pca1$co)"
   ]
  },
  {
   "cell_type": "code",
   "execution_count": null,
   "id": "8ed41db0",
   "metadata": {
    "scrolled": false
   },
   "outputs": [],
   "source": [
    "worldclim_ref <- environmental_layers[environmental_layers$layer_code %in% colnames(envs_data), c(\"layer_code\",\"name\",\"description\", \"start_year\",\"end_year\")]"
   ]
  },
  {
   "cell_type": "code",
   "execution_count": null,
   "id": "ce524c7a",
   "metadata": {},
   "outputs": [],
   "source": [
    "colnames(environmental_layers)"
   ]
  },
  {
   "cell_type": "code",
   "execution_count": null,
   "id": "41ccce91",
   "metadata": {},
   "outputs": [],
   "source": [
    "colnames(envs_data)"
   ]
  },
  {
   "cell_type": "code",
   "execution_count": null,
   "id": "7578c15f",
   "metadata": {},
   "outputs": [],
   "source": [
    "worldclim_cor <- layers_correlation(colnames(envs_data))"
   ]
  },
  {
   "cell_type": "code",
   "execution_count": null,
   "id": "c265d9e9",
   "metadata": {},
   "outputs": [],
   "source": [
    "high_cor <- findCorrelation(worldclim_cor, cutoff = .6, exact = FALSE, names = TRUE)\n",
    "#worldclim_ref[worldclim_ref$layer_code %in% high_cor,]"
   ]
  },
  {
   "cell_type": "code",
   "execution_count": null,
   "id": "b9e2abbd",
   "metadata": {},
   "outputs": [],
   "source": [
    "`%nin%` <- Negate(`%in%`)"
   ]
  },
  {
   "cell_type": "code",
   "execution_count": null,
   "id": "c3d4a652",
   "metadata": {},
   "outputs": [],
   "source": [
    "worldclim_best <- worldclim_ref$layer_code[worldclim_ref$layer_code %nin% high_cor]\n",
    "#worldclim_ref[worldclim_ref$layer_code %in% worldclim_best,]"
   ]
  },
  {
   "cell_type": "code",
   "execution_count": null,
   "id": "90b5e36b",
   "metadata": {},
   "outputs": [],
   "source": [
    "worldclim_ref[worldclim_ref$layer_code %in% worldclim_best,]$name"
   ]
  },
  {
   "cell_type": "code",
   "execution_count": null,
   "id": "b32ee32b",
   "metadata": {
    "scrolled": false
   },
   "outputs": [],
   "source": [
    "layers_correlation(worldclim_best)"
   ]
  },
  {
   "cell_type": "code",
   "execution_count": null,
   "id": "635886e3",
   "metadata": {
    "scrolled": true
   },
   "outputs": [],
   "source": [
    "colnames(ZAF_bluecarbon_raw)"
   ]
  },
  {
   "cell_type": "code",
   "execution_count": null,
   "id": "39d2677a",
   "metadata": {},
   "outputs": [],
   "source": [
    "ZAF_bluecarbon_final <- data.frame(ZAF_bluecarbon_raw)\n",
    "\n",
    "for (layer_name in worldclim_best){ \n",
    "    \n",
    "    layer <- env_layers[[layer_name]]\n",
    "    \n",
    "    ZAF_bluecarbon_final[layer_name] <- raster::extract(layer, ZAF_bluecarbon_raw[,c(\"x\", \"y\")])\n",
    "}\n",
    "\n",
    "ZAF_bluecarbon_final <- ZAF_bluecarbon_final %>% dplyr::select(-c(WC_alt))"
   ]
  },
  {
   "cell_type": "code",
   "execution_count": null,
   "id": "82b261e9",
   "metadata": {},
   "outputs": [],
   "source": [
    "best_WC <- worldclim_ref[worldclim_ref$layer_code %in% worldclim_best,]"
   ]
  },
  {
   "cell_type": "code",
   "execution_count": null,
   "id": "96d0bce4",
   "metadata": {
    "scrolled": true
   },
   "outputs": [],
   "source": [
    "colnames(ZAF_bluecarbon_final)"
   ]
  },
  {
   "cell_type": "code",
   "execution_count": null,
   "id": "fafcbb85",
   "metadata": {},
   "outputs": [],
   "source": [
    "?car::vif"
   ]
  },
  {
   "cell_type": "code",
   "execution_count": null,
   "id": "684cf413",
   "metadata": {},
   "outputs": [],
   "source": [
    "citation(\"car\")"
   ]
  },
  {
   "cell_type": "code",
   "execution_count": null,
   "id": "f09f5193",
   "metadata": {
    "scrolled": true
   },
   "outputs": [],
   "source": [
    "fit1 <- lm(MgC_perHa ~ WC_bio2 + WC_bio14 + WC_bio15 + WC_bio18, data = ZAF_bluecarbon_final)\n",
    "vif_out <-  as.data.frame(car::vif(fit1)) %>% tibble::rownames_to_column(var = \"layer_code\")\n",
    "colnames(vif_out)[2] <- \"VIF\"\n",
    "(final_layers <- merge(vif_out, best_WC) %>% filter(VIF < 10)) %>% \n",
    "                 dplyr::select(layer_code, name, description, description, start_year, end_year, VIF) %>%\n",
    "                 dplyr::mutate(VIF = round(VIF,2))\n",
    "print(xtable(final_layers, digits=2, type = \"latex\"), file = \"Supplementary_material/Worldclim_data.tex\", include.rownames=FALSE)"
   ]
  },
  {
   "cell_type": "code",
   "execution_count": null,
   "id": "a9e52552",
   "metadata": {
    "scrolled": true
   },
   "outputs": [],
   "source": [
    "layers_correlation(final_layers$layer_code)"
   ]
  },
  {
   "cell_type": "code",
   "execution_count": null,
   "id": "2fa545cb",
   "metadata": {},
   "outputs": [],
   "source": [
    "ZAF_bluecarbon_final <- data.frame(ZAF_bluecarbon_raw)\n",
    "for (layer_name in final_layers$layer_code){ \n",
    "    \n",
    "    layer <- env_layers[[layer_name]]\n",
    "    \n",
    "    ZAF_bluecarbon_final[layer_name] <- raster::extract(layer, ZAF_bluecarbon_raw[,c(\"x\", \"y\")])\n",
    "}\n",
    "\n",
    "ZAF_bluecarbon_final <- ZAF_bluecarbon_final %>% dplyr::select(-c(\"x\", \"y\"))"
   ]
  },
  {
   "cell_type": "code",
   "execution_count": null,
   "id": "885d10ab",
   "metadata": {},
   "outputs": [],
   "source": [
    "#Without Swartkops estuary\n",
    "#ZAF_bluecarbon_final <- ZAF_bluecarbon_final %>% \n",
    "#                       dplyr::filter(estuary != \"Swartkops\" | Site != \"Lower\") "
   ]
  },
  {
   "cell_type": "code",
   "execution_count": null,
   "id": "2203d5ab",
   "metadata": {},
   "outputs": [],
   "source": [
    "ref_numeric <- ZAF_bluecarbon_final %>% \n",
    "               dplyr::select_if(is.numeric) %>%\n",
    "               dplyr::select(-c(mean_Corg, MgC_perHa)) %>%\n",
    "               colnames()\n",
    "\n",
    "Scaler <- caret::preProcess(ZAF_bluecarbon_final, method = list(center = ref_numeric, scale = ref_numeric))\n",
    "ZAF_bluecarbon <- predict(Scaler, ZAF_bluecarbon_final)"
   ]
  },
  {
   "cell_type": "code",
   "execution_count": null,
   "id": "53c37bc1",
   "metadata": {},
   "outputs": [],
   "source": [
    "#https://stats.stackexchange.com/questions/59879/logistic-regression-anova-chi-square-test-vs-significance-of-coefficients-ano"
   ]
  },
  {
   "cell_type": "code",
   "execution_count": null,
   "id": "4bb8c09f",
   "metadata": {},
   "outputs": [],
   "source": [
    "simple_lmer <- function(pred, response_var, random_fmla, data){\n",
    "    \n",
    "    fmla_p2 = paste(pred, random_fmla, sep = \" + \")\n",
    "    fmla = as.formula(paste(response_var, fmla_p2, sep = \" ~ \"))\n",
    "    lm_fit <-  lmer(fmla, data = data, REML=FALSE)\n",
    "    lmer_out <- broom::tidy(lm_fit)\n",
    "    lmer_out$variable <- pred\n",
    "     \n",
    "    return(lmer_out)\n",
    "}"
   ]
  },
  {
   "cell_type": "code",
   "execution_count": null,
   "id": "c73127c1",
   "metadata": {},
   "outputs": [],
   "source": [
    "simple_lmer_anova <- function(pred, response_var, random_fmla, data){\n",
    "    \n",
    "    fmla_p2 = paste(pred, random_fmla, sep = \" + \")\n",
    "    fmla = as.formula(paste(response_var, fmla_p2, sep = \" ~ \"))\n",
    "    lm_fit <-  lmer(fmla, data = data, REML=FALSE)\n",
    "    lmer_anova <- car::Anova(lm_fit, test=\"Chisq\") \n",
    "    return(lmer_anova)\n",
    "}"
   ]
  },
  {
   "cell_type": "code",
   "execution_count": null,
   "id": "935c67c4",
   "metadata": {},
   "outputs": [],
   "source": [
    "lmer_out <- lapply(ref_numeric, \n",
    "            simple_lmer, \n",
    "            response_var = \"MgC_perHa\",\n",
    "            random_fmla = \"(1|estuary:Site)\",\n",
    "            data = ZAF_bluecarbon_final)"
   ]
  },
  {
   "cell_type": "code",
   "execution_count": null,
   "id": "f206b4f9",
   "metadata": {},
   "outputs": [],
   "source": [
    "lmer_anova_out <-  lapply(ref_numeric, \n",
    "                   simple_lmer_anova, \n",
    "                   response_var = \"MgC_perHa\",\n",
    "                   random_fmla = \"(1|estuary:Site)\",\n",
    "                   data = ZAF_bluecarbon_final)"
   ]
  },
  {
   "cell_type": "code",
   "execution_count": null,
   "id": "9ab12380",
   "metadata": {
    "scrolled": false
   },
   "outputs": [],
   "source": [
    "(lmer_df <-  do.call(rbind, lmer_out) %>%\n",
    "             data.frame() %>%\n",
    "             dplyr::filter(effect == \"fixed\" & is.na(group) & term != \"(Intercept)\") %>%\n",
    "             dplyr::select(variable, variable, p.value) %>% \n",
    "             mutate(signif = signif_annotate(p.value)) %>%\n",
    "             arrange(variable) %>%\n",
    "             rename(layer_code = variable))"
   ]
  },
  {
   "cell_type": "code",
   "execution_count": null,
   "id": "5469d765",
   "metadata": {
    "scrolled": true
   },
   "outputs": [],
   "source": [
    "lmer_anova_df <-  do.call(rbind, lmer_anova_out) %>%\n",
    "             data.frame() %>% tibble::rownames_to_column(var = \"layer_code\")\n",
    "bioclim_results <- merge(lmer_anova_df, best_WC) %>% \n",
    "                   dplyr::select(description, Chisq, Df, Pr..Chisq.) %>% dplyr::rename(p_value = Pr..Chisq.)"
   ]
  },
  {
   "cell_type": "code",
   "execution_count": null,
   "id": "45e75cde",
   "metadata": {
    "scrolled": true
   },
   "outputs": [],
   "source": [
    "xtabs(~ Biogeographical_region + estuary, data = ZAF_bluecarbon_final)"
   ]
  },
  {
   "cell_type": "code",
   "execution_count": null,
   "id": "4f782b6e",
   "metadata": {},
   "outputs": [],
   "source": [
    "ZAF_bluecarbon_final$Biogeographical_region <- factor(ZAF_bluecarbon_final$Biogeographical_region, levels = c('Cool Temperate', 'Warm temperate','Subtropical'))"
   ]
  },
  {
   "cell_type": "code",
   "execution_count": null,
   "id": "a71ef093",
   "metadata": {},
   "outputs": [],
   "source": [
    "ZAF_biogeograpy <- ZAF_bluecarbon_final %>%\n",
    "                    group_by(Biogeographical_region) %>% \n",
    "                    rstatix::get_summary_stats(MgC_perHa) %>% \n",
    "                    dplyr::select(Biogeographical_region, n, mean, sd, se) %>%\n",
    "                    dplyr::rename(n_Biogeography = n, mean_Biogeography = mean, sd_Biogeography = sd,  se_Biogeography = se)"
   ]
  },
  {
   "cell_type": "code",
   "execution_count": null,
   "id": "da7ab8ea",
   "metadata": {
    "scrolled": true
   },
   "outputs": [],
   "source": [
    "baseline_bio <- gls(MgC_perHa ~ 1, data = ZAF_bluecarbon_final, method=\"ML\")\n",
    "random_bio <- lme(MgC_perHa ~ 1, random = ~1|Site_ref, data = ZAF_bluecarbon_final, method=\"ML\")\n",
    "anova(baseline_bio, random_bio)"
   ]
  },
  {
   "cell_type": "code",
   "execution_count": null,
   "id": "008afd4b",
   "metadata": {
    "scrolled": false
   },
   "outputs": [],
   "source": [
    "fit_bio <- lmer(MgC_perHa ~  Biogeographical_region + (1|Site_ref),  data  = ZAF_bluecarbon_final)\n",
    "(Bluecarbon_sites <- car::Anova(fit_bio, test=\"Chisq\") %>%\n",
    "          tibble::rownames_to_column(var = \"description\") %>%\n",
    "          dplyr::rename(p_value = \"Pr(>Chisq)\"))"
   ]
  },
  {
   "cell_type": "code",
   "execution_count": null,
   "id": "74702afa",
   "metadata": {
    "scrolled": true
   },
   "outputs": [],
   "source": [
    "(env_results <- rbind(Bluecarbon_sites, bioclim_results) %>% \n",
    "               dplyr::mutate(p_value = round(p_value, 4), Chisq = round(Chisq, 2)))\n",
    "#print(xtable(env_results, digits=2), type = \"html\", file = \"Table/env_stats.html\", include.rownames=FALSE)\n",
    "print(xtable(env_results, digits=7, type = \"latex\"), file = \"Supplementary_material/env_stats.tex\", include.rownames=FALSE)"
   ]
  },
  {
   "cell_type": "code",
   "execution_count": null,
   "id": "fffab4f6",
   "metadata": {},
   "outputs": [],
   "source": [
    "dim(ZAF_bluecarbon_final)"
   ]
  },
  {
   "cell_type": "code",
   "execution_count": null,
   "id": "731019e7",
   "metadata": {
    "scrolled": false
   },
   "outputs": [],
   "source": [
    "glht_bio <- glht(fit_bio, linfct = mcp(Biogeographical_region = \"Tukey\"))\n",
    "cld_bio <- multcomp::cld(glht_bio)\n",
    "cld_bio <- cld_bio$mcletters$Letters %>% \n",
    "                 data.frame() %>%\n",
    "                 setNames(\"cld_Biogeographical_region\") %>%\n",
    "                 tibble::rownames_to_column(var = \"Biogeographical_region\")"
   ]
  },
  {
   "cell_type": "code",
   "execution_count": null,
   "id": "3e70b32d",
   "metadata": {
    "scrolled": true
   },
   "outputs": [],
   "source": [
    "(table_biogeography1 <- merge(ZAF_biogeograpy, cld_bio) %>%\n",
    "                       dplyr::mutate(n_Biogeography = glue::glue(\"({n_Biogeography})\")))"
   ]
  },
  {
   "cell_type": "code",
   "execution_count": null,
   "id": "443068f1",
   "metadata": {
    "scrolled": true
   },
   "outputs": [],
   "source": [
    "anno_biogeography1 <-  ZAF_bluecarbon_final %>% \n",
    "                       dplyr::group_by(Biogeographical_region) %>%\n",
    "                       dplyr::summarise(y1 = max(MgC_perHa) + 15,  y2 = y1 + 20) %>%\n",
    "                       dplyr::ungroup() %>%\n",
    "                       dplyr::mutate(x = row_number())\n",
    "\n",
    "(biogeography_anno1 <-  merge(anno_biogeography1, table_biogeography1))"
   ]
  },
  {
   "cell_type": "code",
   "execution_count": null,
   "id": "6f6f33bb",
   "metadata": {},
   "outputs": [],
   "source": [
    "p1 <- ggplot(data = ZAF_bluecarbon_final %>% \n",
    "             dplyr::rename(Estuary = estuary, `Sampling site` = Site)) +\n",
    "      geom_boxplot(aes(y = MgC_perHa,\n",
    "                      x = Biogeographical_region),\n",
    "                      outlier.alpha = 0,\n",
    "                      linewidth = 1) +\n",
    "     geom_point(aes(y = MgC_perHa,\n",
    "                x = Biogeographical_region,\n",
    "                colour = Estuary,\n",
    "                shape = `Sampling site`,\n",
    "                fill = Estuary),\n",
    "                size = 4,\n",
    "                alpha = 0.5,\n",
    "               position = \"jitter\") +\n",
    "      labs(x  = \"Biogeographical region\",  y = expression(paste(C[org]~stocks~(Mg~C~ha^{-1})))) +\n",
    "      scale_y_continuous(limits = c(0, 267), breaks = seq(0, 267, 25)) +\n",
    "      theme(panel.grid.minor = element_blank(),\n",
    "            panel.background = element_blank(),\n",
    "            legend.box.background = element_rect(colour = \"black\"),\n",
    "            legend.title = element_text(size=22, colour = \"black\"),\n",
    "            legend.text = element_text(size=22, colour = \"black\"),\n",
    "            axis.text.y = element_text(size=22, colour = \"#434343\"),\n",
    "            axis.text.x = element_text(hjust = 1, size=22, colour = \"#434343\", angle = 45),\n",
    "            axis.title = element_text(size=22, colour = \"black\"),\n",
    "            panel.border = element_rect(colour = \"black\", fill=NA, linewidth=1)) +\n",
    "      geom_text(data = biogeography_anno1,\n",
    "               aes(label = n_Biogeography,\n",
    "                   y = y1,\n",
    "                   x = x),\n",
    "                   size = 8,\n",
    "                   alpha = 0.75,\n",
    "                   colour = \"#808080\") +\n",
    "      geom_text(data = biogeography_anno1,\n",
    "               aes(label = cld_Biogeographical_region,\n",
    "                   y = y2,\n",
    "                   x = x),\n",
    "                   size = 8,\n",
    "                   colour = \"#808080\") +\n",
    "      ggsci::scale_color_d3()\n",
    "\n",
    "p1\n",
    "ggsave(\"Figurex/biogeo.pdf\", height = 10,  width = 7.5)"
   ]
  },
  {
   "cell_type": "code",
   "execution_count": null,
   "id": "8cf323b8",
   "metadata": {},
   "outputs": [],
   "source": [
    "######################################################################################################\n",
    "\n",
    "                                  ####  REDUCED DATASET ####\n",
    "\n",
    "######################################################################################################"
   ]
  },
  {
   "cell_type": "code",
   "execution_count": null,
   "id": "8dab35e9",
   "metadata": {},
   "outputs": [],
   "source": [
    "#Without Swartkops estuary\n",
    "ZAF_bluecarbon_final2 <- ZAF_bluecarbon_final %>% \n",
    "                       dplyr::filter(estuary != \"Swartkops\" | Site != \"Lower\") "
   ]
  },
  {
   "cell_type": "code",
   "execution_count": null,
   "id": "cceb6c99",
   "metadata": {},
   "outputs": [],
   "source": [
    "ZAF_biogeograpy2 <- ZAF_bluecarbon_final2 %>%\n",
    "                    group_by(Biogeographical_region) %>% \n",
    "                    rstatix::get_summary_stats(MgC_perHa) %>% \n",
    "                    dplyr::select(Biogeographical_region, n, mean, sd, se) %>%\n",
    "                    dplyr::rename(n_Biogeography = n, mean_Biogeography = mean, sd_Biogeography = sd,  se_Biogeography = se)"
   ]
  },
  {
   "cell_type": "code",
   "execution_count": null,
   "id": "298280a7",
   "metadata": {},
   "outputs": [],
   "source": [
    "ref_numeric <- ZAF_bluecarbon_final %>% \n",
    "               dplyr::select_if(is.numeric) %>%\n",
    "               dplyr::select(-c(mean_Corg, MgC_perHa)) %>%\n",
    "               colnames()\n",
    "\n",
    "Scaler <- caret::preProcess(ZAF_bluecarbon_final2, method = list(center = ref_numeric, scale = ref_numeric))\n",
    "ZAF_bluecarbon <- predict(Scaler, ZAF_bluecarbon_final2)"
   ]
  },
  {
   "cell_type": "code",
   "execution_count": null,
   "id": "e07334f8",
   "metadata": {},
   "outputs": [],
   "source": [
    "#https://stats.stackexchange.com/questions/59879/logistic-regression-anova-chi-square-test-vs-significance-of-coefficients-ano"
   ]
  },
  {
   "cell_type": "code",
   "execution_count": null,
   "id": "274d1e2d",
   "metadata": {},
   "outputs": [],
   "source": [
    "simple_lmer <- function(pred, response_var, random_fmla, data){\n",
    "    \n",
    "    fmla_p2 = paste(pred, random_fmla, sep = \" + \")\n",
    "    fmla = as.formula(paste(response_var, fmla_p2, sep = \" ~ \"))\n",
    "    lm_fit <-  lmer(fmla, data = data, REML=FALSE)\n",
    "    lmer_out <- broom::tidy(lm_fit)\n",
    "    lmer_out$variable <- pred\n",
    "     \n",
    "    return(lmer_out)\n",
    "}"
   ]
  },
  {
   "cell_type": "code",
   "execution_count": null,
   "id": "01eeb4f6",
   "metadata": {},
   "outputs": [],
   "source": [
    "simple_lmer_anova <- function(pred, response_var, random_fmla, data){\n",
    "    \n",
    "    fmla_p2 = paste(pred, random_fmla, sep = \" + \")\n",
    "    fmla = as.formula(paste(response_var, fmla_p2, sep = \" ~ \"))\n",
    "    lm_fit <-  lmer(fmla, data = data, REML=FALSE)\n",
    "    lmer_anova <- car::Anova(lm_fit, test=\"Chisq\") \n",
    "    return(lmer_anova)\n",
    "}"
   ]
  },
  {
   "cell_type": "code",
   "execution_count": null,
   "id": "6d86733c",
   "metadata": {},
   "outputs": [],
   "source": [
    "lmer_out <- lapply(ref_numeric, \n",
    "            simple_lmer, \n",
    "            response_var = \"MgC_perHa\",\n",
    "            random_fmla = \"(1|estuary:Site)\",\n",
    "            data = ZAF_bluecarbon_final2)"
   ]
  },
  {
   "cell_type": "code",
   "execution_count": null,
   "id": "6554f694",
   "metadata": {},
   "outputs": [],
   "source": [
    "lmer_anova_out <-  lapply(ref_numeric, \n",
    "                   simple_lmer_anova, \n",
    "                   response_var = \"MgC_perHa\",\n",
    "                   random_fmla = \"(1|estuary:Site)\",\n",
    "                   data = ZAF_bluecarbon_final)"
   ]
  },
  {
   "cell_type": "code",
   "execution_count": null,
   "id": "2de5b93c",
   "metadata": {
    "scrolled": false
   },
   "outputs": [],
   "source": [
    "(lmer_df <-  do.call(rbind, lmer_out) %>%\n",
    "             data.frame() %>%\n",
    "             dplyr::filter(effect == \"fixed\" & is.na(group) & term != \"(Intercept)\") %>%\n",
    "             dplyr::select(variable, variable, p.value) %>% \n",
    "             mutate(signif = signif_annotate(p.value)) %>%\n",
    "             arrange(variable) %>%\n",
    "             rename(layer_code = variable))"
   ]
  },
  {
   "cell_type": "code",
   "execution_count": null,
   "id": "758bbd43",
   "metadata": {
    "scrolled": true
   },
   "outputs": [],
   "source": [
    "lmer_anova_df <-  do.call(rbind, lmer_anova_out) %>%\n",
    "             data.frame() %>% tibble::rownames_to_column(var = \"layer_code\")\n",
    "bioclim_results <- merge(lmer_anova_df, best_WC) %>% \n",
    "                   dplyr::select(description, Chisq, Df, Pr..Chisq.) %>% dplyr::rename(p_value = Pr..Chisq.)"
   ]
  },
  {
   "cell_type": "code",
   "execution_count": null,
   "id": "0045ccb2",
   "metadata": {},
   "outputs": [],
   "source": [
    "baseline_bio <- gls(MgC_perHa ~ 1, data = ZAF_bluecarbon_final, method=\"ML\")\n",
    "random_bio <- lme(MgC_perHa ~ 1, random = ~1|Site_ref, data = ZAF_bluecarbon_final, method=\"ML\")\n",
    "anova(baseline_bio, random_bio)"
   ]
  },
  {
   "cell_type": "code",
   "execution_count": null,
   "id": "77b219d0",
   "metadata": {
    "scrolled": false
   },
   "outputs": [],
   "source": [
    "fit_bio <- lmer(MgC_perHa ~  Biogeographical_region + (1|Site_ref),  data  = ZAF_bluecarbon_final2)\n",
    "(Bluecarbon_sites <- car::Anova(fit_bio, test=\"Chisq\") %>%\n",
    "          tibble::rownames_to_column(var = \"description\") %>%\n",
    "          dplyr::rename(p_value = \"Pr(>Chisq)\"))"
   ]
  },
  {
   "cell_type": "code",
   "execution_count": null,
   "id": "fc506788",
   "metadata": {
    "scrolled": true
   },
   "outputs": [],
   "source": [
    "(env_results <- rbind(Bluecarbon_sites, bioclim_results) %>% \n",
    "               dplyr::mutate(p_value = round(p_value, 4), Chisq = round(Chisq, 2)))\n",
    "#print(xtable(env_results, digits=2), type = \"html\", file = \"Table/env_stats.html\", include.rownames=FALSE)\n",
    "print(xtable(env_results, digits=7, type = \"latex\"), file = \"Supplementary_material/env_stats.tex\", include.rownames=FALSE)"
   ]
  },
  {
   "cell_type": "code",
   "execution_count": null,
   "id": "1db52851",
   "metadata": {
    "scrolled": false
   },
   "outputs": [],
   "source": [
    "glht_bio <- glht(fit_bio, linfct = mcp(Biogeographical_region = \"Tukey\"))\n",
    "cld_bio <- multcomp::cld(glht_bio)\n",
    "cld_bio <- cld_bio$mcletters$Letters %>% \n",
    "                 data.frame() %>%\n",
    "                 setNames(\"cld_Biogeographical_region\") %>%\n",
    "                 tibble::rownames_to_column(var = \"Biogeographical_region\")"
   ]
  },
  {
   "cell_type": "code",
   "execution_count": null,
   "id": "3f7b3992",
   "metadata": {
    "scrolled": true
   },
   "outputs": [],
   "source": [
    "table_biogeography2 <- merge(ZAF_biogeograpy2, cld_bio) %>%\n",
    "                       dplyr::mutate(n_Biogeography = glue::glue(\"({n_Biogeography})\"))"
   ]
  },
  {
   "cell_type": "code",
   "execution_count": null,
   "id": "f71bc54f",
   "metadata": {
    "scrolled": true
   },
   "outputs": [],
   "source": [
    "anno_biogeography2 <-   ZAF_bluecarbon_final2 %>% \n",
    "                        dplyr::group_by(Biogeographical_region) %>%\n",
    "                        dplyr::summarise(y1 = max(MgC_perHa) + 10,  y2 = y1 + 10) %>%\n",
    "                        dplyr::ungroup() %>%\n",
    "                        dplyr::mutate(x = row_number())\n",
    "\n",
    "(biogeography_anno2 <-  merge(anno_biogeography2, table_biogeography2))"
   ]
  },
  {
   "cell_type": "code",
   "execution_count": null,
   "id": "54df5fe9",
   "metadata": {},
   "outputs": [],
   "source": [
    "biogeography_anno1"
   ]
  },
  {
   "cell_type": "code",
   "execution_count": null,
   "id": "c8bd3850",
   "metadata": {},
   "outputs": [],
   "source": [
    "p2 <- ggplot(data = ZAF_bluecarbon_final2 %>% dplyr::rename(Estuary = estuary)) +\n",
    "      geom_boxplot(aes(y = MgC_perHa,\n",
    "                      x = Biogeographical_region),\n",
    "                      outlier.alpha = 0,\n",
    "                      linewidth = 1) +\n",
    "     geom_point(aes(y = MgC_perHa,\n",
    "                x = Biogeographical_region,\n",
    "                colour = Estuary,\n",
    "                fill = Estuary),\n",
    "                size = 4,\n",
    "                alpha = 0.5,\n",
    "               position = \"jitter\") +\n",
    "      labs(x  = \"Biogeographical region\",  y = expression(paste(C[org]~stocks~(Mg~C~ha^{-1})))) +\n",
    "      scale_y_continuous(limits = c(0, 150), breaks = seq(0, 125, 25)) +\n",
    "      theme(panel.grid.minor = element_blank(),\n",
    "            panel.background = element_blank(),\n",
    "            legend.box.background = element_rect(colour = \"black\"),\n",
    "            legend.title = element_text(size=22, colour = \"black\"),\n",
    "            legend.text = element_text(size=22, colour = \"black\"),\n",
    "            axis.text.y = element_text(size=22, colour = \"#434343\"),\n",
    "            axis.text.x = element_text(hjust = 1, size=22, colour = \"#434343\", angle = 45),\n",
    "            axis.title = element_text(size=22, colour = \"black\"),\n",
    "            panel.border = element_rect(colour = \"black\", fill=NA, linewidth=1)) +\n",
    "      geom_text(data = biogeography_anno2,\n",
    "               aes(label = n_Biogeography,\n",
    "                   y = y1,\n",
    "                   x = x),\n",
    "                   size = 8,\n",
    "                   alpha = 0.75,\n",
    "                   colour = \"#808080\") +\n",
    "      geom_text(data = biogeography_anno2,\n",
    "               aes(label = cld_Biogeographical_region,\n",
    "                   y = y2,\n",
    "                   x = x),\n",
    "                   size = 8,\n",
    "                   colour = \"#808080\") +\n",
    "      ggsci::scale_color_d3()"
   ]
  },
  {
   "cell_type": "code",
   "execution_count": null,
   "id": "aa18ad35",
   "metadata": {},
   "outputs": [],
   "source": [
    "p2"
   ]
  },
  {
   "cell_type": "code",
   "execution_count": null,
   "id": "c6c8d35e",
   "metadata": {},
   "outputs": [],
   "source": [
    "p1"
   ]
  },
  {
   "cell_type": "code",
   "execution_count": null,
   "id": "33926582",
   "metadata": {},
   "outputs": [],
   "source": [
    "fit_bio2 <- lmer(MgC_perHa ~  Biogeographical_region + (1|Site_ref),  data  = ZAF_bluecarbon_final2)\n",
    "summary(fit_bio2)"
   ]
  },
  {
   "cell_type": "code",
   "execution_count": null,
   "id": "a47b4ca1",
   "metadata": {},
   "outputs": [],
   "source": []
  }
 ],
 "metadata": {
  "kernelspec": {
   "display_name": "R",
   "language": "R",
   "name": "ir"
  },
  "language_info": {
   "codemirror_mode": "r",
   "file_extension": ".r",
   "mimetype": "text/x-r-source",
   "name": "R",
   "pygments_lexer": "r",
   "version": "4.1.3"
  }
 },
 "nbformat": 4,
 "nbformat_minor": 5
}
